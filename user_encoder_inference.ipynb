{
 "cells": [
  {
   "cell_type": "code",
   "execution_count": 4,
   "metadata": {},
   "outputs": [
    {
     "name": "stderr",
     "output_type": "stream",
     "text": [
      "/home/ubuntu/anaconda3/envs/rf39/lib/python3.9/site-packages/tqdm/auto.py:22: TqdmWarning: IProgress not found. Please update jupyter and ipywidgets. See https://ipywidgets.readthedocs.io/en/stable/user_install.html\n",
      "  from .autonotebook import tqdm as notebook_tqdm\n"
     ]
    }
   ],
   "source": [
    "import numpy as np \n",
    "from train_nvidia import AutoEncoder, get_dataloaders, RMSE, write_submission\n",
    "import torch "
   ]
  },
  {
   "cell_type": "code",
   "execution_count": 10,
   "metadata": {},
   "outputs": [],
   "source": [
    "item_based = True \n",
    "dropout = 0.5\n",
    "input_size = 10000 if item_based else 1000\n",
    "layer_sizes = [input_size,128,128,128,128]"
   ]
  },
  {
   "cell_type": "code",
   "execution_count": 11,
   "metadata": {},
   "outputs": [],
   "source": [
    "path = '/home/ubuntu/projects/CILProject22/reports/logs/20220727-103246_ItemEncoder_bs64_lr0.001_wd0.01_do0.5_ls[10000, 128, 128, 128, 128]_submit_unb_True_0.99983'"
   ]
  },
  {
   "cell_type": "code",
   "execution_count": 12,
   "metadata": {},
   "outputs": [
    {
     "name": "stdout",
     "output_type": "stream",
     "text": [
      "Model 0 RMSE: 1.0007834434509277\n",
      "Model 1 RMSE: 0.9989818930625916\n",
      "Model 2 RMSE: 1.0005303621292114\n",
      "Model 3 RMSE: 0.9980558753013611\n",
      "Model 4 RMSE: 0.999833345413208\n",
      "---\n",
      "Average validation RMSE: 0.999833345413208\n"
     ]
    }
   ],
   "source": [
    "for i in range(5):\n",
    "    model = AutoEncoder(\n",
    "          layer_sizes=layer_sizes, \n",
    "          nl_type='selu', \n",
    "          is_constrained=True, \n",
    "          dp_drop_prob=dropout, \n",
    "          last_layer_activations=True\n",
    "          )\n",
    "    model.load_state_dict(torch.load(path + f'/UserAutoEncoder_split_{i}' + f\"/best_model.pt\"))\n",
    "    train_loader, valid_loader, data_matrix, valid_mask = get_dataloaders('./data/raw' + f\"/5fold\", split_number=i, batch_size=100, item_based=item_based)\n",
    "    # run inference on data matrix \n",
    "    model.eval()\n",
    "    model = model.cuda()\n",
    "    avg_val = [] \n",
    "    with torch.no_grad():\n",
    "        z = model(data_matrix.cuda())\n",
    "        model_loss = RMSE(z, data_matrix.cuda(), valid_mask.cuda())\n",
    "        avg_val.append(model_loss.item())\n",
    "        print(f'Model {i} RMSE: {model_loss.item()}')\n",
    "        z = z.cpu().numpy()\n",
    "        # write validation submission \n",
    "        write_submission(z, f\"./data/raw/5fold/test_split_{i}.csv\", f\"{path}/UserAutoEncoder_split_{i}/valid_submission.csv\", item_based=item_based)\n",
    "print(f\"---\\nAverage validation RMSE: {np.mean(avg_val)}\")"
   ]
  },
  {
   "cell_type": "markdown",
   "metadata": {},
   "source": []
  },
  {
   "cell_type": "code",
   "execution_count": null,
   "metadata": {},
   "outputs": [],
   "source": []
  },
  {
   "cell_type": "code",
   "execution_count": null,
   "metadata": {},
   "outputs": [],
   "source": []
  },
  {
   "cell_type": "code",
   "execution_count": null,
   "metadata": {},
   "outputs": [],
   "source": []
  }
 ],
 "metadata": {
  "kernelspec": {
   "display_name": "Python 3.9.11 ('rf39')",
   "language": "python",
   "name": "python3"
  },
  "language_info": {
   "codemirror_mode": {
    "name": "ipython",
    "version": 3
   },
   "file_extension": ".py",
   "mimetype": "text/x-python",
   "name": "python",
   "nbconvert_exporter": "python",
   "pygments_lexer": "ipython3",
   "version": "3.9.11"
  },
  "orig_nbformat": 4,
  "vscode": {
   "interpreter": {
    "hash": "8f25b66d63a8b611ffebb7d3fe7e2d7d379acd3408485d72362aa7d687189f63"
   }
  }
 },
 "nbformat": 4,
 "nbformat_minor": 2
}
