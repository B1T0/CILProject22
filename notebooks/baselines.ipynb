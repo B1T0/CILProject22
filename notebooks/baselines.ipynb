{
 "cells": [
  {
   "cell_type": "code",
   "execution_count": 1,
   "metadata": {},
   "outputs": [],
   "source": [
    "import numpy as np \n",
    "import pandas as pd "
   ]
  },
  {
   "cell_type": "markdown",
   "metadata": {},
   "source": [
    "## Settings"
   ]
  },
  {
   "cell_type": "code",
   "execution_count": 2,
   "metadata": {},
   "outputs": [],
   "source": [
    "train_path = '../data/data_train.csv'\n",
    "submission_path = '../data/sampleSubmission.csv'\n",
    "save_path = '../data/submission.csv'\n",
    "number_of_users = 10000\n",
    "number_of_movies = 1000"
   ]
  },
  {
   "cell_type": "markdown",
   "metadata": {},
   "source": [
    "## Read data    "
   ]
  },
  {
   "cell_type": "code",
   "execution_count": 3,
   "metadata": {},
   "outputs": [],
   "source": [
    "def read_data(impute_value=np.nan):\n",
    "    data_pd = pd.read_csv(train_path) \n",
    "    users, movies = [np.squeeze(arr) for arr in np.split(data_pd.Id.str.extract('r(\\d+)_c(\\d+)').values.astype(int) - 1, 2, axis=-1)]\n",
    "    predictions = data_pd.Prediction.values\n",
    "    # Create data matrix\n",
    "    data = np.full((number_of_users , number_of_movies), impute_value)\n",
    "    for user, movie ,pred in zip(users, movies, predictions): \n",
    "        data[user][movie] = pred\n",
    "    return data "
   ]
  },
  {
   "cell_type": "markdown",
   "metadata": {},
   "source": [
    "## Write submission file"
   ]
  },
  {
   "cell_type": "code",
   "execution_count": 15,
   "metadata": {},
   "outputs": [],
   "source": [
    "def clip_data(data, clip_high=5, clip_low=1):\n",
    "    data[data > clip_high] = clip_high\n",
    "    data[data < clip_low] = clip_low\n",
    "    return data"
   ]
  },
  {
   "cell_type": "code",
   "execution_count": 16,
   "metadata": {},
   "outputs": [],
   "source": [
    "def write_submission(data, save_path=save_path):\n",
    "    # clip data first \n",
    "    data = clip_data(data)\n",
    "    # write submission\n",
    "    data_pd = pd.read_csv(submission_path) \n",
    "    test_users, test_movies = [np.squeeze(arr) for arr in np.split(data_pd.Id.str.extract('r(\\d+)_c(\\d+)').values.astype(int) - 1, 2, axis=-1)]\n",
    "    with open(save_path, 'w') as f: \n",
    "        f.write('Id,Prediction\\n')\n",
    "        for (user, movie) in zip(test_users, test_movies): \n",
    "            f.write(\"r{}_c{},{}\\n\".format(user + 1, movie + 1, data[user, movie]))"
   ]
  },
  {
   "cell_type": "markdown",
   "metadata": {},
   "source": [
    "# Baseline algorithms "
   ]
  },
  {
   "cell_type": "code",
   "execution_count": 5,
   "metadata": {},
   "outputs": [],
   "source": [
    "data = read_data(impute_value=0)"
   ]
  },
  {
   "cell_type": "markdown",
   "metadata": {},
   "source": [
    "## Singular Value Decomposition (SVD)"
   ]
  },
  {
   "cell_type": "code",
   "execution_count": 74,
   "metadata": {},
   "outputs": [],
   "source": [
    "def svd_reconstruction(data, k=3, return_components=False):\n",
    "    # SVD decomposition\n",
    "    U, s, Vt = np.linalg.svd(data, full_matrices=False)\n",
    "    # Using the top k eigenvalues\n",
    "    S = np.zeros((number_of_movies, number_of_movies)) \n",
    "    S[:k, :k] = np.diag(s[:k])\n",
    "    # Reconstruct matrix\n",
    "    if return_components:\n",
    "        return U, S, Vt\n",
    "    else:\n",
    "        return U.dot(S).dot(Vt)"
   ]
  },
  {
   "cell_type": "markdown",
   "metadata": {},
   "source": [
    "## Alternating Least Squares (ALS)"
   ]
  },
  {
   "cell_type": "code",
   "execution_count": 75,
   "metadata": {},
   "outputs": [],
   "source": [
    "def runALS(A, R, n_factors, n_iterations, lambda_):\n",
    "    '''\n",
    "    Runs Alternating Least Squares algorithm in order to calculate matrix.\n",
    "\n",
    "    :param A: User-Item Matrix with ratings\n",
    "    :param R: User-Item Matrix with 1 if there is a rating or 0 if not\n",
    "    :param n_factors: How many factors each of user and item matrix will consider\n",
    "    :param n_iterations: How many times to run algorithm\n",
    "    :param lambda_: Regularization parameter\n",
    "    :return:\n",
    "    '''\n",
    "    print (\"Initiating \")\n",
    "    lambda_ = 0.1\n",
    "    n_factors = 3 \n",
    "    n, m = A.shape; \n",
    "    n_iterations = 20\n",
    "    Users = 5 * np.random.rand(n, n_factors)\n",
    "    Items = 5 * np.random.rand(n_factors, m)\n",
    "\n",
    "    def get_error(A, Users, Items, R):\n",
    "        # This calculates the MSE of nonzero elements\n",
    "        return np.sum((R * (A - np.dot(Users, Items))) ** 2) / np.sum(R)\n",
    "\n",
    "    MSE_List = []\n",
    "\n",
    "    print(\"Starting Iterations\")\n",
    "    for iter in range(n_iterations):\n",
    "        for i, Ri in enumerate(R):\n",
    "            Users[i] = np.linalg.solve(np.dot(Items, np.dot(np.diag(Ri), Items.T)) + lambda_ * np.eye(n_factors),\n",
    "                                       np.dot(Items, np.dot(np.diag(Ri), A[i].T))).T\n",
    "        print(\"Error after solving for User Matrix:\", get_error(A, Users, Items, R))\n",
    "\n",
    "        for j, Rj in enumerate(R.T):\n",
    "            Items[:,j] = np.linalg.solve(np.dot(Users.T, np.dot(np.diag(Rj), Users)) + lambda_ * np.eye(n_factors),\n",
    "                                     np.dot(Users.T, np.dot(np.diag(Rj), A[:, j])))\n",
    "        print(\"Error after solving for Item Matrix:\", get_error(A, Users, Items, R))\n",
    "\n",
    "        MSE_List.append(get_error(A, Users, Items, R))\n",
    "        print('th iteration is complete...', iter)\n",
    "\n",
    "    print(MSE_List) \n",
    "    return "
   ]
  },
  {
   "cell_type": "markdown",
   "metadata": {},
   "source": [
    "## Neural Collaborative Filtering (NCF)"
   ]
  },
  {
   "cell_type": "code",
   "execution_count": null,
   "metadata": {},
   "outputs": [],
   "source": []
  },
  {
   "cell_type": "markdown",
   "metadata": {},
   "source": [
    "## Baseline Algorithm for Grade 4.0\n",
    "#### 1. Normalize along items A_ij = (A_ij - mean(A_j)) / std(A_j)\n",
    "#### 2. Impute missing data with 0 \n",
    "#### 3. SVD with k = 3 \n",
    "#### 4. Use SVD result for ALS init\n",
    "#### 5. ALS with k = 3, lambda = 0.1 for 20 its."
   ]
  },
  {
   "cell_type": "code",
   "execution_count": 90,
   "metadata": {},
   "outputs": [
    {
     "name": "stdout",
     "output_type": "stream",
     "text": [
      "Initiating \n",
      "Starting Iterations\n"
     ]
    },
    {
     "name": "stderr",
     "output_type": "stream",
     "text": [
      "/var/folders/hg/k29n8l193w76mcsdz5qf1w5h0000gn/T/ipykernel_39906/810751671.py:22: RuntimeWarning: invalid value encountered in double_scalars\n",
      "  return np.sum((R * (A - np.dot(Users, Items))) ** 2) / np.sum(R)\n"
     ]
    },
    {
     "name": "stdout",
     "output_type": "stream",
     "text": [
      "Error after solving for User Matrix: nan\n"
     ]
    },
    {
     "ename": "KeyboardInterrupt",
     "evalue": "",
     "output_type": "error",
     "traceback": [
      "\u001b[0;31m---------------------------------------------------------------------------\u001b[0m",
      "\u001b[0;31mKeyboardInterrupt\u001b[0m                         Traceback (most recent call last)",
      "\u001b[1;32m/Users/lukas/Desktop/projects/CILProject22/notebooks/baselines.ipynb Cell 17'\u001b[0m in \u001b[0;36m<cell line: 11>\u001b[0;34m()\u001b[0m\n\u001b[1;32m      <a href='vscode-notebook-cell:/Users/lukas/Desktop/projects/CILProject22/notebooks/baselines.ipynb#ch0000026?line=8'>9</a>\u001b[0m \u001b[39m# run ALS \u001b[39;00m\n\u001b[1;32m     <a href='vscode-notebook-cell:/Users/lukas/Desktop/projects/CILProject22/notebooks/baselines.ipynb#ch0000026?line=9'>10</a>\u001b[0m R \u001b[39m=\u001b[39m np\u001b[39m.\u001b[39mzeros(svd_rec\u001b[39m.\u001b[39mshape)\n\u001b[0;32m---> <a href='vscode-notebook-cell:/Users/lukas/Desktop/projects/CILProject22/notebooks/baselines.ipynb#ch0000026?line=10'>11</a>\u001b[0m runALS(svd_rec, R, n_factors \u001b[39m=\u001b[39;49m \u001b[39m3\u001b[39;49m, n_iterations \u001b[39m=\u001b[39;49m \u001b[39m20\u001b[39;49m, lambda_ \u001b[39m=\u001b[39;49m \u001b[39m.1\u001b[39;49m)\n",
      "\u001b[1;32m/Users/lukas/Desktop/projects/CILProject22/notebooks/baselines.ipynb Cell 13'\u001b[0m in \u001b[0;36mrunALS\u001b[0;34m(A, R, n_factors, n_iterations, lambda_)\u001b[0m\n\u001b[1;32m     <a href='vscode-notebook-cell:/Users/lukas/Desktop/projects/CILProject22/notebooks/baselines.ipynb#ch0000022?line=30'>31</a>\u001b[0m \u001b[39mprint\u001b[39m(\u001b[39m\"\u001b[39m\u001b[39mError after solving for User Matrix:\u001b[39m\u001b[39m\"\u001b[39m, get_error(A, Users, Items, R))\n\u001b[1;32m     <a href='vscode-notebook-cell:/Users/lukas/Desktop/projects/CILProject22/notebooks/baselines.ipynb#ch0000022?line=32'>33</a>\u001b[0m \u001b[39mfor\u001b[39;00m j, Rj \u001b[39min\u001b[39;00m \u001b[39menumerate\u001b[39m(R\u001b[39m.\u001b[39mT):\n\u001b[1;32m     <a href='vscode-notebook-cell:/Users/lukas/Desktop/projects/CILProject22/notebooks/baselines.ipynb#ch0000022?line=33'>34</a>\u001b[0m     Items[:,j] \u001b[39m=\u001b[39m np\u001b[39m.\u001b[39mlinalg\u001b[39m.\u001b[39msolve(np\u001b[39m.\u001b[39mdot(Users\u001b[39m.\u001b[39mT, np\u001b[39m.\u001b[39mdot(np\u001b[39m.\u001b[39mdiag(Rj), Users)) \u001b[39m+\u001b[39m lambda_ \u001b[39m*\u001b[39m np\u001b[39m.\u001b[39meye(n_factors),\n\u001b[0;32m---> <a href='vscode-notebook-cell:/Users/lukas/Desktop/projects/CILProject22/notebooks/baselines.ipynb#ch0000022?line=34'>35</a>\u001b[0m                              np\u001b[39m.\u001b[39mdot(Users\u001b[39m.\u001b[39mT, np\u001b[39m.\u001b[39;49mdot(np\u001b[39m.\u001b[39;49mdiag(Rj), A[:, j])))\n\u001b[1;32m     <a href='vscode-notebook-cell:/Users/lukas/Desktop/projects/CILProject22/notebooks/baselines.ipynb#ch0000022?line=35'>36</a>\u001b[0m \u001b[39mprint\u001b[39m(\u001b[39m\"\u001b[39m\u001b[39mError after solving for Item Matrix:\u001b[39m\u001b[39m\"\u001b[39m, get_error(A, Users, Items, R))\n\u001b[1;32m     <a href='vscode-notebook-cell:/Users/lukas/Desktop/projects/CILProject22/notebooks/baselines.ipynb#ch0000022?line=37'>38</a>\u001b[0m MSE_List\u001b[39m.\u001b[39mappend(get_error(A, Users, Items, R))\n",
      "File \u001b[0;32m<__array_function__ internals>:180\u001b[0m, in \u001b[0;36mdot\u001b[0;34m(*args, **kwargs)\u001b[0m\n",
      "\u001b[0;31mKeyboardInterrupt\u001b[0m: "
     ]
    }
   ],
   "source": [
    "# get data imputed with constant 0 \n",
    "data = read_data(impute_value=0)\n",
    "# normalize column-wise \n",
    "data_norm = (data - data.mean(axis=0)) / data.max(axis=0)\n",
    "# svd with k = 3 \n",
    "svd_rec = svd_reconstruction(data_norm)\n",
    "# obtain indices of nonzero elements of svd_rec \n",
    "nonzero_indices = np.nonzero(svd_rec)\n",
    "# run ALS \n",
    "R = np.zeros(svd_rec.shape)\n",
    "runALS(svd_rec, R, n_factors = 3, n_iterations = 20, lambda_ = .1)"
   ]
  },
  {
   "cell_type": "markdown",
   "metadata": {},
   "source": [
    "## Non-negative Matrix Factorization (NMF)\n",
    "#### RMSE: 3.059"
   ]
  },
  {
   "cell_type": "code",
   "execution_count": 11,
   "metadata": {},
   "outputs": [],
   "source": [
    "from sklearn.decomposition import NMF\n",
    "model = NMF(init='nndsvd', random_state=0)\n",
    "W = model.fit_transform(data)\n",
    "H = model.components_"
   ]
  },
  {
   "cell_type": "code",
   "execution_count": 17,
   "metadata": {},
   "outputs": [],
   "source": [
    "write_submission(W, save_path='../data/submission_nmf.csv')"
   ]
  },
  {
   "cell_type": "markdown",
   "metadata": {},
   "source": [
    "## SVD++"
   ]
  },
  {
   "cell_type": "code",
   "execution_count": null,
   "metadata": {},
   "outputs": [],
   "source": []
  }
 ],
 "metadata": {
  "kernelspec": {
   "display_name": "Python 3.10.5 ('cil')",
   "language": "python",
   "name": "python3"
  },
  "language_info": {
   "codemirror_mode": {
    "name": "ipython",
    "version": 3
   },
   "file_extension": ".py",
   "mimetype": "text/x-python",
   "name": "python",
   "nbconvert_exporter": "python",
   "pygments_lexer": "ipython3",
   "version": "3.10.5"
  },
  "orig_nbformat": 4,
  "vscode": {
   "interpreter": {
    "hash": "59da5730dedb63725a03eabf87c185a851ce9975367f26494a6abd6e4b560c65"
   }
  }
 },
 "nbformat": 4,
 "nbformat_minor": 2
}
