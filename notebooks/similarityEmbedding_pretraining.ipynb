{
 "cells": [
  {
   "cell_type": "code",
   "execution_count": 1,
   "metadata": {
    "pycharm": {
     "name": "#%%\n"
    }
   },
   "outputs": [],
   "source": [
    "import pandas as pd\n",
    "import numpy as np"
   ]
  },
  {
   "cell_type": "code",
   "execution_count": 2,
   "metadata": {
    "pycharm": {
     "name": "#%%\n"
    }
   },
   "outputs": [],
   "source": [
    "# read in the data\n",
    "path = '/home/jimmy/CILProject22/data/raw/train_split_0.csv'"
   ]
  },
  {
   "cell_type": "code",
   "execution_count": 3,
   "metadata": {
    "pycharm": {
     "name": "#%%\n"
    }
   },
   "outputs": [],
   "source": [
    "from src.data.Contrastive.graph_datamodule import Triplet_Dataset\n",
    "dataset = Triplet_Dataset(file_path=path, n_users=1000, n_items=10000, k=2)\n"
   ]
  },
  {
   "cell_type": "code",
   "execution_count": 4,
   "metadata": {
    "pycharm": {
     "name": "#%%\n"
    }
   },
   "outputs": [],
   "source": [
    "from torch.utils.data import DataLoader\n",
    "from src.data.Contrastive.graph_datamodule import collate_tuples\n",
    "dataloader = DataLoader(dataset, batch_size=32, collate_fn=collate_tuples, shuffle=True)"
   ]
  },
  {
   "cell_type": "code",
   "execution_count": 34,
   "outputs": [],
   "source": [
    "# Create Model Object\n",
    "x, y, x_neighbors, y_neighbors, x_negative, y_negative, negative_x, negative_y = dataset.__getitem__(0)"
   ],
   "metadata": {
    "collapsed": false,
    "pycharm": {
     "name": "#%%\n"
    }
   }
  },
  {
   "cell_type": "code",
   "execution_count": 14,
   "outputs": [
    {
     "data": {
      "text/plain": "(tensor(0),\n tensor(1043),\n tensor([3110]),\n tensor([518]),\n tensor([136, 759, 391, 887, 301]),\n tensor([2800, 2420, 1221, 8409, 2502]),\n tensor([7867, 8709, 5047,  334, 3306]),\n tensor([9975, 2383, 9820, 4897, 4160]))"
     },
     "execution_count": 14,
     "metadata": {},
     "output_type": "execute_result"
    }
   ],
   "source": [
    "dataset.__getitem__(0)"
   ],
   "metadata": {
    "collapsed": false,
    "pycharm": {
     "name": "#%%\n"
    }
   }
  },
  {
   "cell_type": "code",
   "execution_count": 5,
   "outputs": [],
   "source": [
    "from src.models.CSE.model import model\n",
    "model = model()"
   ],
   "metadata": {
    "collapsed": false,
    "pycharm": {
     "name": "#%%\n"
    }
   }
  },
  {
   "cell_type": "code",
   "execution_count": 10,
   "outputs": [
    {
     "name": "stdout",
     "output_type": "stream",
     "text": [
      "torch.Size([5, 32, 10])\n",
      "tensor([[[-0.9591,  2.3153,  0.3744,  ..., -0.5515, -0.1637,  2.0266],\n",
      "         [ 1.0553,  1.5757, -0.0036,  ...,  2.8410, -2.1138,  0.9335],\n",
      "         [-0.1254, -0.1643, -1.8590,  ...,  0.7996,  1.1335, -0.8498],\n",
      "         [ 1.1816, -0.6340,  1.3392,  ...,  0.3994,  0.7771,  1.4208],\n",
      "         [ 0.9428, -0.8355,  0.7133,  ..., -0.1068, -0.0240, -0.6032]],\n",
      "\n",
      "        [[-0.3428, -1.3775, -1.6344,  ..., -0.4915, -0.2481, -0.1378],\n",
      "         [-1.0815, -2.1510,  0.8457,  ...,  0.5941,  0.4146, -0.7981],\n",
      "         [-1.1398, -2.2350, -0.1699,  ...,  0.7004,  0.4143, -1.4088],\n",
      "         [ 0.1989, -0.7728, -0.7864,  ...,  0.4950, -0.5320, -0.7167],\n",
      "         [-0.8815, -0.3384,  0.9674,  ...,  0.1892,  2.1888, -1.0124]],\n",
      "\n",
      "        [[ 1.0010,  0.8335,  0.0372,  ...,  0.4649, -1.0999, -1.2055],\n",
      "         [ 0.0053,  0.5733,  1.3428,  ...,  0.2199, -1.5274,  0.8101],\n",
      "         [-0.6008,  0.8335,  0.6227,  ...,  0.1059, -0.9803, -2.7745],\n",
      "         [-0.1249, -0.1208, -0.9901,  ..., -0.8448,  1.0122, -0.7782],\n",
      "         [-0.8497, -0.9861,  1.2275,  ..., -0.0753, -2.4141, -0.8808]],\n",
      "\n",
      "        ...,\n",
      "\n",
      "        [[ 1.8511, -0.1113, -0.9792,  ...,  0.7766,  0.3657, -0.5326],\n",
      "         [-1.1767, -0.5593,  0.0853,  ..., -0.2123, -0.1431,  0.2233],\n",
      "         [-0.3171,  0.1935,  0.1077,  ..., -0.2698, -0.6239, -0.0110],\n",
      "         [ 0.6939,  0.5251,  0.0807,  ...,  2.2715,  0.0995, -1.0740],\n",
      "         [ 0.0106, -1.2936, -0.1855,  ...,  0.1977,  2.2617, -0.3793]],\n",
      "\n",
      "        [[ 1.1189, -0.1601, -0.8136,  ...,  0.9592,  0.0409,  0.9600],\n",
      "         [ 1.4465, -0.3747, -0.4037,  ..., -0.7850, -0.7892,  1.3235],\n",
      "         [-0.9973,  1.9575, -1.2612,  ..., -0.1839,  0.3076, -0.0935],\n",
      "         [ 0.6793,  1.3210,  0.2491,  ..., -0.0927,  0.2426,  1.8935],\n",
      "         [ 0.1219, -0.9347, -0.7745,  ..., -0.3925,  1.0810, -0.2721]],\n",
      "\n",
      "        [[ 1.1935, -0.0662,  1.5912,  ..., -0.4402,  0.7553,  0.3102],\n",
      "         [-0.7136,  2.7045,  0.6503,  ..., -0.5719,  0.0242, -0.8074],\n",
      "         [-0.1193, -0.6462,  0.3843,  ...,  0.4039,  0.0867, -0.7547],\n",
      "         [-0.7010, -1.5594,  0.2182,  ..., -0.8673, -2.0281, -0.3084],\n",
      "         [-0.8481, -1.0958,  0.7823,  ..., -0.5456, -0.6448,  0.4306]]],\n",
      "       grad_fn=<EmbeddingBackward0>)\n"
     ]
    },
    {
     "ename": "TypeError",
     "evalue": "log_sigmoid() got an unexpected keyword argument 'dim'",
     "output_type": "error",
     "traceback": [
      "\u001B[0;31m---------------------------------------------------------------------------\u001B[0m",
      "\u001B[0;31mTypeError\u001B[0m                                 Traceback (most recent call last)",
      "Input \u001B[0;32mIn [10]\u001B[0m, in \u001B[0;36m<cell line: 1>\u001B[0;34m()\u001B[0m\n\u001B[1;32m     21\u001B[0m phi_negative_x, _, _ \u001B[38;5;241m=\u001B[39m model\u001B[38;5;241m.\u001B[39mforward(negative_x)\n\u001B[1;32m     22\u001B[0m phi_negative_y, _, _ \u001B[38;5;241m=\u001B[39m model\u001B[38;5;241m.\u001B[39mforward(negative_y)\n\u001B[0;32m---> 24\u001B[0m loss \u001B[38;5;241m=\u001B[39m \u001B[43mmodel\u001B[49m\u001B[38;5;241;43m.\u001B[39;49m\u001B[43mloss\u001B[49m\u001B[43m(\u001B[49m\u001B[43mphi_x\u001B[49m\u001B[43m,\u001B[49m\u001B[43m \u001B[49m\u001B[43mphi_y\u001B[49m\u001B[43m,\u001B[49m\u001B[43m \u001B[49m\u001B[43mphi_IC\u001B[49m\u001B[43m,\u001B[49m\u001B[43m \u001B[49m\u001B[43mphi_UC\u001B[49m\u001B[43m,\u001B[49m\u001B[43m \u001B[49m\u001B[43mphi_IC_negative\u001B[49m\u001B[43m,\u001B[49m\u001B[43m \u001B[49m\u001B[43mphi_UC_negative\u001B[49m\u001B[43m,\u001B[49m\n\u001B[1;32m     25\u001B[0m \u001B[43m                     \u001B[49m\u001B[43mphi_negative_x\u001B[49m\u001B[43m,\u001B[49m\u001B[43m \u001B[49m\u001B[43mphi_negative_y\u001B[49m\u001B[43m)\u001B[49m\n\u001B[1;32m     26\u001B[0m \u001B[38;5;28;01mbreak\u001B[39;00m\n",
      "File \u001B[0;32m~/CILProject22/src/models/CSE/model.py:67\u001B[0m, in \u001B[0;36mmodel.loss\u001B[0;34m(self, phi_user, phi_item, phis_IC, phis_UC, phi_IC_negative, phi_UC_negative, phi_negative_x, phi_negative_y)\u001B[0m\n\u001B[1;32m     63\u001B[0m reg \u001B[38;5;241m=\u001B[39m \u001B[38;5;241m1.0\u001B[39m\n\u001B[1;32m     64\u001B[0m \u001B[38;5;66;03m#loss is probably log sigmoid\u001B[39;00m\n\u001B[1;32m     65\u001B[0m \u001B[38;5;66;03m#should be able to modify direct similarity as needed\u001B[39;00m\n\u001B[1;32m     66\u001B[0m \u001B[38;5;66;03m#for the implicit feedback however, it is log-sigmoid\u001B[39;00m\n\u001B[0;32m---> 67\u001B[0m loss_DS \u001B[38;5;241m=\u001B[39m \u001B[38;5;241m-\u001B[39m torch\u001B[38;5;241m.\u001B[39mmean(\u001B[43mF\u001B[49m\u001B[38;5;241;43m.\u001B[39;49m\u001B[43mlogsigmoid\u001B[49m\u001B[43m(\u001B[49m\u001B[43mtorch\u001B[49m\u001B[38;5;241;43m.\u001B[39;49m\u001B[43msum\u001B[49m\u001B[43m(\u001B[49m\u001B[43mtorch\u001B[49m\u001B[38;5;241;43m.\u001B[39;49m\u001B[43mmul\u001B[49m\u001B[43m(\u001B[49m\u001B[43mphi_user\u001B[49m\u001B[43m,\u001B[49m\u001B[43m \u001B[49m\u001B[43mphi_item\u001B[49m\u001B[43m)\u001B[49m\u001B[43m)\u001B[49m\u001B[43m,\u001B[49m\u001B[43m \u001B[49m\u001B[43mdim\u001B[49m\u001B[38;5;241;43m=\u001B[39;49m\u001B[38;5;241;43m1\u001B[39;49m\u001B[43m)\u001B[49m)  \u001B[38;5;66;03m# + negative sampling\u001B[39;00m\n\u001B[1;32m     68\u001B[0m \u001B[38;5;66;03m#negative sampling\u001B[39;00m\n\u001B[1;32m     69\u001B[0m loss_DS \u001B[38;5;241m+\u001B[39m\u001B[38;5;241m=\u001B[39m torch\u001B[38;5;241m.\u001B[39mmean(torch\u001B[38;5;241m.\u001B[39msum(F\u001B[38;5;241m.\u001B[39mlogsigmoid(torch\u001B[38;5;241m.\u001B[39msum(torch\u001B[38;5;241m.\u001B[39mmul(phi_negative_x, phi_negative_y)), dim\u001B[38;5;241m=\u001B[39m\u001B[38;5;241m2\u001B[39m)), dim \u001B[38;5;241m=\u001B[39m \u001B[38;5;241m1\u001B[39m)\n",
      "\u001B[0;31mTypeError\u001B[0m: log_sigmoid() got an unexpected keyword argument 'dim'"
     ]
    }
   ],
   "source": [
    "for i, batch in enumerate(dataloader):\n",
    "    x, y, x_neighbors, y_neighbors, x_negative, y_negative, negative_x, negative_y = batch\n",
    "\n",
    "        # if x >= 1000:\n",
    "        #     x, y, = y, x\n",
    "        #     x_neighbors, y_neighbors = y_neighbors, x_neighbors\n",
    "        #     x_negative, y_negative = y_negative, x_negative\n",
    "\n",
    "    phi_x, _, _ = model.forward(x)\n",
    "    phi_y, _,  _ = model.forward(y)\n",
    "    _, _, phi_UC = model.forward(x_neighbors)\n",
    "    _, _, phi_UC_negative = model.forward(x_negative)\n",
    "    phi_UC_negative = phi_UC_negative.transpose(0, 1)\n",
    "    print(phi_UC_negative.size())\n",
    "    _, phi_IC, _ = model.forward(y_neighbors)\n",
    "\n",
    "    _, phi_IC_negative, _ = model.forward(y_negative)\n",
    "    print(phi_IC_negative)\n",
    "    phi_IC_negative = phi_IC_negative.transpose(0, 1)\n",
    "\n",
    "    phi_negative_x, _, _ = model.forward(negative_x)\n",
    "    phi_negative_y, _, _ = model.forward(negative_y)\n",
    "\n",
    "    loss = model.loss(phi_x, phi_y, phi_IC, phi_UC, phi_IC_negative, phi_UC_negative,\n",
    "                         phi_negative_x, phi_negative_y)\n",
    "    break"
   ],
   "metadata": {
    "collapsed": false,
    "pycharm": {
     "name": "#%%\n"
    }
   }
  },
  {
   "cell_type": "code",
   "execution_count": 8,
   "outputs": [],
   "source": [
    "phi, phi_IC, phi_UC = model(x)"
   ],
   "metadata": {
    "collapsed": false,
    "pycharm": {
     "name": "#%%\n"
    }
   }
  },
  {
   "cell_type": "code",
   "execution_count": 9,
   "outputs": [
    {
     "data": {
      "text/plain": "torch.Size([10])"
     },
     "execution_count": 9,
     "metadata": {},
     "output_type": "execute_result"
    }
   ],
   "source": [
    "phi.size()"
   ],
   "metadata": {
    "collapsed": false,
    "pycharm": {
     "name": "#%%\n"
    }
   }
  },
  {
   "cell_type": "code",
   "execution_count": 10,
   "outputs": [],
   "source": [
    "phin, phin_IC, phin_UC = model(x_neighbors)"
   ],
   "metadata": {
    "collapsed": false,
    "pycharm": {
     "name": "#%%\n"
    }
   }
  },
  {
   "cell_type": "code",
   "execution_count": 11,
   "outputs": [
    {
     "data": {
      "text/plain": "torch.Size([1, 10])"
     },
     "execution_count": 11,
     "metadata": {},
     "output_type": "execute_result"
    }
   ],
   "source": [
    "phin.size()"
   ],
   "metadata": {
    "collapsed": false,
    "pycharm": {
     "name": "#%%\n"
    }
   }
  },
  {
   "cell_type": "code",
   "execution_count": 15,
   "outputs": [],
   "source": [
    "x_neighbors.size()\n",
    "import torch"
   ],
   "metadata": {
    "collapsed": false,
    "pycharm": {
     "name": "#%%\n"
    }
   }
  },
  {
   "cell_type": "code",
   "execution_count": 24,
   "outputs": [
    {
     "data": {
      "text/plain": "tensor([2.6093], grad_fn=<ReshapeAliasBackward0>)"
     },
     "execution_count": 24,
     "metadata": {},
     "output_type": "execute_result"
    }
   ],
   "source": [
    "torch.inner(phi, phin)"
   ],
   "metadata": {
    "collapsed": false,
    "pycharm": {
     "name": "#%%\n"
    }
   }
  },
  {
   "cell_type": "code",
   "execution_count": 26,
   "outputs": [],
   "source": [
    "phi_n, phi_n_IC, phi_n_UC = model(x_negative)"
   ],
   "metadata": {
    "collapsed": false,
    "pycharm": {
     "name": "#%%\n"
    }
   }
  },
  {
   "cell_type": "code",
   "execution_count": 28,
   "outputs": [
    {
     "data": {
      "text/plain": "tensor([ 0.0206, -3.3579, -2.3495, -1.2092, -1.9400],\n       grad_fn=<ReshapeAliasBackward0>)"
     },
     "execution_count": 28,
     "metadata": {},
     "output_type": "execute_result"
    }
   ],
   "source": [
    "torch.inner(phi_n, phi)"
   ],
   "metadata": {
    "collapsed": false,
    "pycharm": {
     "name": "#%%\n"
    }
   }
  },
  {
   "cell_type": "code",
   "execution_count": 29,
   "outputs": [
    {
     "data": {
      "text/plain": "tensor(0.0206, grad_fn=<ReshapeAliasBackward0>)"
     },
     "execution_count": 29,
     "metadata": {},
     "output_type": "execute_result"
    }
   ],
   "source": [
    "torch.inner(phi_n[0], phi)"
   ],
   "metadata": {
    "collapsed": false,
    "pycharm": {
     "name": "#%%\n"
    }
   }
  },
  {
   "cell_type": "code",
   "execution_count": 37,
   "outputs": [
    {
     "data": {
      "text/plain": "tensor(True)"
     },
     "execution_count": 37,
     "metadata": {},
     "output_type": "execute_result"
    }
   ],
   "source": [
    "y > 1000"
   ],
   "metadata": {
    "collapsed": false,
    "pycharm": {
     "name": "#%%\n"
    }
   }
  },
  {
   "cell_type": "code",
   "execution_count": 31,
   "outputs": [],
   "source": [
    "x, y = y, x"
   ],
   "metadata": {
    "collapsed": false,
    "pycharm": {
     "name": "#%%\n"
    }
   }
  },
  {
   "cell_type": "code",
   "execution_count": 32,
   "outputs": [
    {
     "data": {
      "text/plain": "5"
     },
     "execution_count": 32,
     "metadata": {},
     "output_type": "execute_result"
    }
   ],
   "source": [
    "x"
   ],
   "metadata": {
    "collapsed": false,
    "pycharm": {
     "name": "#%%\n"
    }
   }
  },
  {
   "cell_type": "code",
   "execution_count": 53,
   "outputs": [],
   "source": [
    "import torch.nn.functional as F"
   ],
   "metadata": {
    "collapsed": false,
    "pycharm": {
     "name": "#%%\n"
    }
   }
  },
  {
   "cell_type": "code",
   "execution_count": 57,
   "outputs": [],
   "source": [
    "test_x, test_IC = torch.ones((32, 5, 5)), torch.ones((32, 5, 5))"
   ],
   "metadata": {
    "collapsed": false,
    "pycharm": {
     "name": "#%%\n"
    }
   }
  },
  {
   "cell_type": "code",
   "execution_count": 60,
   "outputs": [
    {
     "data": {
      "text/plain": "torch.Size([32, 5])"
     },
     "execution_count": 60,
     "metadata": {},
     "output_type": "execute_result"
    }
   ],
   "source": [
    "F.logsigmoid(torch.sum(torch.mul(test_x, test_IC), dim=2)).size()"
   ],
   "metadata": {
    "collapsed": false,
    "pycharm": {
     "name": "#%%\n"
    }
   }
  },
  {
   "cell_type": "code",
   "execution_count": null,
   "outputs": [],
   "source": [
    "test_x, test_IC = torch.ones((32, 5)), torch.ones((32, 5))"
   ],
   "metadata": {
    "collapsed": false,
    "pycharm": {
     "name": "#%%\n"
    }
   }
  }
 ],
 "metadata": {
  "kernelspec": {
   "display_name": "Python 3.9.12 ('web3')",
   "language": "python",
   "name": "python3"
  },
  "language_info": {
   "codemirror_mode": {
    "name": "ipython",
    "version": 3
   },
   "file_extension": ".py",
   "mimetype": "text/x-python",
   "name": "python",
   "nbconvert_exporter": "python",
   "pygments_lexer": "ipython3",
   "version": "3.9.12"
  },
  "orig_nbformat": 4,
  "vscode": {
   "interpreter": {
    "hash": "b2522a7ac3b60f852504f7e2e80aa0b42867087115d2f979bf28cdf9a03dea8d"
   }
  }
 },
 "nbformat": 4,
 "nbformat_minor": 2
}