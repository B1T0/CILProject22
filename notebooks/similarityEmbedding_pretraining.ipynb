{
 "cells": [
  {
   "cell_type": "code",
   "execution_count": 1,
   "metadata": {
    "pycharm": {
     "name": "#%%\n"
    }
   },
   "outputs": [],
   "source": [
    "import pandas as pd\n",
    "import numpy as np"
   ]
  },
  {
   "cell_type": "code",
   "execution_count": 2,
   "metadata": {
    "pycharm": {
     "name": "#%%\n"
    }
   },
   "outputs": [],
   "source": [
    "# read in the data\n",
    "path = '/home/jimmy/CILProject22/data/raw/train_split_0.csv'"
   ]
  },
  {
   "cell_type": "code",
   "execution_count": 3,
   "metadata": {
    "pycharm": {
     "name": "#%%\n"
    }
   },
   "outputs": [],
   "source": [
    "from src.data.Contrastive.graph_datamodule import Triplet_Dataset\n",
    "dataset = Triplet_Dataset(file_path=path, n_users=1000, n_items=10000, k=2)\n"
   ]
  },
  {
   "cell_type": "code",
   "execution_count": 4,
   "metadata": {
    "pycharm": {
     "name": "#%%\n"
    }
   },
   "outputs": [],
   "source": [
    "from torch.utils.data import DataLoader\n",
    "#from src.data.Contrastive.graph_datamodule import collate_tuples\n",
    "dataloader = DataLoader(dataset, batch_size=4, shuffle=True)"
   ]
  },
  {
   "cell_type": "code",
   "execution_count": 5,
   "outputs": [
    {
     "name": "stdout",
     "output_type": "stream",
     "text": [
      "[tensor([ 541, 7030,  815, 4289]), tensor([5186,  835, 6274,  439]), tensor([[8841],\n",
      "        [ 145],\n",
      "        [5706],\n",
      "        [ 176]]), tensor([[ 622],\n",
      "        [6832],\n",
      "        [ 725],\n",
      "        [7109]]), tensor([[  350,   671,   903,   743,   328],\n",
      "        [ 5644,  9953,  1153,  7629,  5787],\n",
      "        [   74,   465,   777,   546,   803],\n",
      "        [ 1805,  1958,  2652,  7676, 10302]]), tensor([[2105, 6408, 8573, 4848, 7115],\n",
      "        [  82,  384,  398,  790,  622],\n",
      "        [6479, 4413, 8412, 8707, 6057],\n",
      "        [ 720,  959,  968,  166,  896]]), tensor([[6820, 4792,  986,  812, 5848],\n",
      "        [4617, 9342, 1718, 4813, 6461],\n",
      "        [9753, 4704, 7794, 4061, 6454],\n",
      "        [3773, 2493, 6325,  804, 1614]]), tensor([[5059, 3660, 5333, 5394, 7352],\n",
      "        [6669, 6157,  442, 9856, 3065],\n",
      "        [1899, 7718, 9683, 8593, 6949],\n",
      "        [ 256, 1541, 9629,  535, 5529]])]\n",
      "torch.Size([4])\n",
      "torch.Size([4])\n",
      "torch.Size([4, 1])\n",
      "torch.Size([4, 1])\n",
      "torch.Size([4, 5])\n",
      "torch.Size([4, 5])\n",
      "torch.Size([4, 5])\n",
      "torch.Size([4, 5])\n"
     ]
    }
   ],
   "source": [
    "for i in dataloader:\n",
    "    print(i)\n",
    "    for j in i:\n",
    "        print(j.size())\n",
    "    break"
   ],
   "metadata": {
    "collapsed": false,
    "pycharm": {
     "name": "#%%\n"
    }
   }
  },
  {
   "cell_type": "code",
   "execution_count": 34,
   "outputs": [],
   "source": [
    "# Create Model Object\n",
    "x, y, x_neighbors, y_neighbors, x_negative, y_negative, negative_x, negative_y = dataset.__getitem__(0)"
   ],
   "metadata": {
    "collapsed": false,
    "pycharm": {
     "name": "#%%\n"
    }
   }
  },
  {
   "cell_type": "code",
   "execution_count": 14,
   "outputs": [
    {
     "data": {
      "text/plain": "(tensor(0),\n tensor(1043),\n tensor([3110]),\n tensor([518]),\n tensor([136, 759, 391, 887, 301]),\n tensor([2800, 2420, 1221, 8409, 2502]),\n tensor([7867, 8709, 5047,  334, 3306]),\n tensor([9975, 2383, 9820, 4897, 4160]))"
     },
     "execution_count": 14,
     "metadata": {},
     "output_type": "execute_result"
    }
   ],
   "source": [
    "dataset.__getitem__(0)"
   ],
   "metadata": {
    "collapsed": false,
    "pycharm": {
     "name": "#%%\n"
    }
   }
  },
  {
   "cell_type": "code",
   "execution_count": 6,
   "outputs": [],
   "source": [
    "from src.models.CSE.model import model\n",
    "model = model()"
   ],
   "metadata": {
    "collapsed": false,
    "pycharm": {
     "name": "#%%\n"
    }
   }
  },
  {
   "cell_type": "code",
   "execution_count": 7,
   "outputs": [
    {
     "name": "stdout",
     "output_type": "stream",
     "text": [
      "tensor([[[-0.2208,  1.2532, -1.6434, -1.3246, -0.5217,  0.1502, -0.2312,\n",
      "           0.9629, -0.0636, -1.9534],\n",
      "         [ 0.0902, -1.1097, -1.4267, -1.2040,  0.5408, -0.4654, -1.6484,\n",
      "           0.1605, -0.3821, -0.8059],\n",
      "         [-1.2295, -0.0309, -0.5116, -0.6153, -0.0668, -0.3575,  0.2862,\n",
      "          -0.4098,  2.1030, -0.7477],\n",
      "         [ 0.7814,  0.0779, -0.6621, -1.5798, -0.1848,  2.2497,  0.0161,\n",
      "          -1.3767, -0.9794,  0.6265],\n",
      "         [-0.6063, -1.2655,  0.5006,  0.3708, -1.8482, -0.7190, -0.0250,\n",
      "           0.8847, -0.0531, -3.1203]],\n",
      "\n",
      "        [[-0.2639, -0.7089,  0.9820, -1.5509, -0.7525, -0.9203, -1.5555,\n",
      "           0.1536,  0.4680, -0.8962],\n",
      "         [-0.2081,  0.6629,  1.2907,  0.4791,  0.3512,  0.0443, -0.5499,\n",
      "           0.4636,  0.5690,  0.4311],\n",
      "         [ 0.5282,  1.6192, -0.3959, -0.0946, -0.7529,  0.7876,  0.0381,\n",
      "          -0.5775,  1.4938, -0.4123],\n",
      "         [ 0.2639,  0.7648,  1.6669, -2.0692,  0.3902, -0.0187,  0.0730,\n",
      "          -2.1265, -1.7263,  1.0756],\n",
      "         [ 2.2611,  0.8686, -1.3130,  0.2745, -0.2149,  1.1993, -0.6492,\n",
      "          -0.7018, -2.0606, -0.0213]],\n",
      "\n",
      "        [[-0.4471, -0.9933, -1.7750,  0.1235,  1.6260,  0.7081,  1.1076,\n",
      "           0.1850, -1.1011, -0.0950],\n",
      "         [-0.6294, -2.1763,  0.2271,  1.7293, -0.2800, -0.4111,  1.5674,\n",
      "           2.2445, -1.1085, -1.6883],\n",
      "         [-0.7945, -0.1890, -0.1802, -1.1698,  0.9254, -1.3067,  1.7954,\n",
      "          -0.1042, -0.1349, -1.7659],\n",
      "         [-0.3194, -2.2104,  0.1298,  0.1727,  0.4379, -0.2052, -1.0101,\n",
      "           0.1022,  0.0913, -1.4058],\n",
      "         [ 0.9239, -1.8913,  1.2003,  0.5863, -0.2992,  1.2627,  0.4464,\n",
      "          -0.6916, -0.4654, -0.9961]],\n",
      "\n",
      "        [[ 0.2576, -0.2389,  0.2040,  0.6089,  0.9306, -0.6689, -0.4398,\n",
      "          -0.4600, -1.4816,  0.9706],\n",
      "         [ 1.0231,  0.0192,  0.0440,  0.3039,  1.1570,  0.2089,  0.9425,\n",
      "          -0.4319, -0.2474, -0.2077],\n",
      "         [ 1.8514,  0.1151,  1.2905,  0.3570,  0.4492,  0.3379,  0.9852,\n",
      "           0.5202, -0.7615, -0.7868],\n",
      "         [ 0.7647,  0.7714,  0.9024,  1.2120,  0.9634, -0.2261,  0.6577,\n",
      "           0.5353,  0.8010,  1.5085],\n",
      "         [-0.8718,  1.2467,  1.6697, -1.6129, -1.1643,  1.5966,  0.5372,\n",
      "          -0.2593, -1.2439,  0.6257]]], grad_fn=<EmbeddingBackward0>)\n",
      "tensor(-0.7481, grad_fn=<MulBackward0>)\n"
     ]
    }
   ],
   "source": [
    "for i, batch in enumerate(dataloader):\n",
    "    x, y, x_neighbors, y_neighbors, x_negative, y_negative, negative_x, negative_y = batch\n",
    "\n",
    "        # if x >= 1000:\n",
    "        #     x, y, = y, x\n",
    "        #     x_neighbors, y_neighbors = y_neighbors, x_neighbors\n",
    "        #     x_negative, y_negative = y_negative, x_negative\n",
    "\n",
    "    # phi_x, _, _ = model.forward(x)\n",
    "    # phi_y, _,  _ = model.forward(y)\n",
    "    # _, _, phi_UC = model.forward(x_neighbors)\n",
    "    # _, _, phi_UC_negative = model.forward(x_negative)\n",
    "    # phi_UC_negative = phi_UC_negative.transpose(0, 1)\n",
    "    # print(phi_UC_negative.size())\n",
    "    # _, phi_IC, _ = model.forward(y_neighbors)\n",
    "    #\n",
    "    # _, phi_IC_negative, _ = model.forward(y_negative)\n",
    "    # print(phi_IC_negative)\n",
    "    # phi_IC_negative = phi_IC_negative.transpose(0, 1)\n",
    "    #\n",
    "    # phi_negative_x, _, _ = model.forward(negative_x)\n",
    "    # phi_negative_y, _, _ = model.forward(negative_y)\n",
    "    #\n",
    "    # loss = model.loss(phi_x, phi_y, phi_IC, phi_UC, phi_IC_negative, phi_UC_negative,\n",
    "    #                      phi_negative_x, phi_negative_y)\n",
    "    # print(loss)\n",
    "    loss = model.training_step(batch, 0)\n",
    "    print(loss)\n",
    "    break"
   ],
   "metadata": {
    "collapsed": false,
    "pycharm": {
     "name": "#%%\n"
    }
   }
  },
  {
   "cell_type": "code",
   "execution_count": 8,
   "outputs": [],
   "source": [
    "phi, phi_IC, phi_UC = model(x)"
   ],
   "metadata": {
    "collapsed": false,
    "pycharm": {
     "name": "#%%\n"
    }
   }
  },
  {
   "cell_type": "code",
   "execution_count": 9,
   "outputs": [
    {
     "data": {
      "text/plain": "torch.Size([10])"
     },
     "execution_count": 9,
     "metadata": {},
     "output_type": "execute_result"
    }
   ],
   "source": [
    "phi.size()"
   ],
   "metadata": {
    "collapsed": false,
    "pycharm": {
     "name": "#%%\n"
    }
   }
  },
  {
   "cell_type": "code",
   "execution_count": 10,
   "outputs": [],
   "source": [
    "phin, phin_IC, phin_UC = model(x_neighbors)"
   ],
   "metadata": {
    "collapsed": false,
    "pycharm": {
     "name": "#%%\n"
    }
   }
  },
  {
   "cell_type": "code",
   "execution_count": 11,
   "outputs": [
    {
     "data": {
      "text/plain": "torch.Size([1, 10])"
     },
     "execution_count": 11,
     "metadata": {},
     "output_type": "execute_result"
    }
   ],
   "source": [
    "phin.size()"
   ],
   "metadata": {
    "collapsed": false,
    "pycharm": {
     "name": "#%%\n"
    }
   }
  },
  {
   "cell_type": "code",
   "execution_count": 15,
   "outputs": [],
   "source": [
    "x_neighbors.size()\n",
    "import torch"
   ],
   "metadata": {
    "collapsed": false,
    "pycharm": {
     "name": "#%%\n"
    }
   }
  },
  {
   "cell_type": "code",
   "execution_count": 24,
   "outputs": [
    {
     "data": {
      "text/plain": "tensor([2.6093], grad_fn=<ReshapeAliasBackward0>)"
     },
     "execution_count": 24,
     "metadata": {},
     "output_type": "execute_result"
    }
   ],
   "source": [
    "torch.inner(phi, phin)"
   ],
   "metadata": {
    "collapsed": false,
    "pycharm": {
     "name": "#%%\n"
    }
   }
  },
  {
   "cell_type": "code",
   "execution_count": 26,
   "outputs": [],
   "source": [
    "phi_n, phi_n_IC, phi_n_UC = model(x_negative)"
   ],
   "metadata": {
    "collapsed": false,
    "pycharm": {
     "name": "#%%\n"
    }
   }
  },
  {
   "cell_type": "code",
   "execution_count": 28,
   "outputs": [
    {
     "data": {
      "text/plain": "tensor([ 0.0206, -3.3579, -2.3495, -1.2092, -1.9400],\n       grad_fn=<ReshapeAliasBackward0>)"
     },
     "execution_count": 28,
     "metadata": {},
     "output_type": "execute_result"
    }
   ],
   "source": [
    "torch.inner(phi_n, phi)"
   ],
   "metadata": {
    "collapsed": false,
    "pycharm": {
     "name": "#%%\n"
    }
   }
  },
  {
   "cell_type": "code",
   "execution_count": 29,
   "outputs": [
    {
     "data": {
      "text/plain": "tensor(0.0206, grad_fn=<ReshapeAliasBackward0>)"
     },
     "execution_count": 29,
     "metadata": {},
     "output_type": "execute_result"
    }
   ],
   "source": [
    "torch.inner(phi_n[0], phi)"
   ],
   "metadata": {
    "collapsed": false,
    "pycharm": {
     "name": "#%%\n"
    }
   }
  },
  {
   "cell_type": "code",
   "execution_count": 37,
   "outputs": [
    {
     "data": {
      "text/plain": "tensor(True)"
     },
     "execution_count": 37,
     "metadata": {},
     "output_type": "execute_result"
    }
   ],
   "source": [
    "y > 1000"
   ],
   "metadata": {
    "collapsed": false,
    "pycharm": {
     "name": "#%%\n"
    }
   }
  },
  {
   "cell_type": "code",
   "execution_count": 31,
   "outputs": [],
   "source": [
    "x, y = y, x"
   ],
   "metadata": {
    "collapsed": false,
    "pycharm": {
     "name": "#%%\n"
    }
   }
  },
  {
   "cell_type": "code",
   "execution_count": 32,
   "outputs": [
    {
     "data": {
      "text/plain": "5"
     },
     "execution_count": 32,
     "metadata": {},
     "output_type": "execute_result"
    }
   ],
   "source": [
    "x"
   ],
   "metadata": {
    "collapsed": false,
    "pycharm": {
     "name": "#%%\n"
    }
   }
  },
  {
   "cell_type": "code",
   "execution_count": 53,
   "outputs": [],
   "source": [
    "import torch.nn.functional as F"
   ],
   "metadata": {
    "collapsed": false,
    "pycharm": {
     "name": "#%%\n"
    }
   }
  },
  {
   "cell_type": "code",
   "execution_count": 57,
   "outputs": [],
   "source": [
    "test_x, test_IC = torch.ones((32, 5, 5)), torch.ones((32, 5, 5))"
   ],
   "metadata": {
    "collapsed": false,
    "pycharm": {
     "name": "#%%\n"
    }
   }
  },
  {
   "cell_type": "code",
   "execution_count": 60,
   "outputs": [
    {
     "data": {
      "text/plain": "torch.Size([32, 5])"
     },
     "execution_count": 60,
     "metadata": {},
     "output_type": "execute_result"
    }
   ],
   "source": [
    "F.logsigmoid(torch.sum(torch.mul(test_x, test_IC), dim=2)).size()"
   ],
   "metadata": {
    "collapsed": false,
    "pycharm": {
     "name": "#%%\n"
    }
   }
  },
  {
   "cell_type": "code",
   "execution_count": null,
   "outputs": [],
   "source": [
    "test_x, test_IC = torch.ones((32, 5)), torch.ones((32, 5))"
   ],
   "metadata": {
    "collapsed": false,
    "pycharm": {
     "name": "#%%\n"
    }
   }
  }
 ],
 "metadata": {
  "kernelspec": {
   "display_name": "Python 3.9.12 ('web3')",
   "language": "python",
   "name": "python3"
  },
  "language_info": {
   "codemirror_mode": {
    "name": "ipython",
    "version": 3
   },
   "file_extension": ".py",
   "mimetype": "text/x-python",
   "name": "python",
   "nbconvert_exporter": "python",
   "pygments_lexer": "ipython3",
   "version": "3.9.12"
  },
  "orig_nbformat": 4,
  "vscode": {
   "interpreter": {
    "hash": "b2522a7ac3b60f852504f7e2e80aa0b42867087115d2f979bf28cdf9a03dea8d"
   }
  }
 },
 "nbformat": 4,
 "nbformat_minor": 2
}