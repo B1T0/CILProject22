{
 "cells": [
  {
   "cell_type": "code",
   "execution_count": 1,
   "metadata": {
    "pycharm": {
     "name": "#%%\n"
    }
   },
   "outputs": [],
   "source": [
    "import pandas as pd\n",
    "import numpy as np\n",
    "import torch"
   ]
  },
  {
   "cell_type": "code",
   "execution_count": 2,
   "outputs": [
    {
     "name": "stdout",
     "output_type": "stream",
     "text": [
      "0\n"
     ]
    }
   ],
   "source": [
    "print(torch.cuda.device_count())"
   ],
   "metadata": {
    "collapsed": false,
    "pycharm": {
     "name": "#%%\n"
    }
   }
  },
  {
   "cell_type": "code",
   "execution_count": 3,
   "metadata": {
    "pycharm": {
     "name": "#%%\n"
    }
   },
   "outputs": [],
   "source": [
    "# read in the data\n",
    "path = '/home/jimmy/CILProject22/data/raw/train_split_0.csv'\n",
    "val_path = '/home/jimmy/CILProject22/data/raw/test_split_0.csv'"
   ]
  },
  {
   "cell_type": "code",
   "execution_count": 4,
   "outputs": [],
   "source": [
    "df = pd.read_csv(path)"
   ],
   "metadata": {
    "collapsed": false,
    "pycharm": {
     "name": "#%%\n"
    }
   }
  },
  {
   "cell_type": "code",
   "execution_count": 5,
   "outputs": [
    {
     "data": {
      "text/plain": "                  Id  Prediction\n0             r44_c1           4\n1             r61_c1           3\n2             r72_c1           3\n3             r86_c1           5\n4            r108_c1           3\n...              ...         ...\n941556   r9970_c1000           5\n941557   r9976_c1000           5\n941558   r9990_c1000           4\n941559   r9992_c1000           5\n941560  r10000_c1000           3\n\n[941561 rows x 2 columns]",
      "text/html": "<div>\n<style scoped>\n    .dataframe tbody tr th:only-of-type {\n        vertical-align: middle;\n    }\n\n    .dataframe tbody tr th {\n        vertical-align: top;\n    }\n\n    .dataframe thead th {\n        text-align: right;\n    }\n</style>\n<table border=\"1\" class=\"dataframe\">\n  <thead>\n    <tr style=\"text-align: right;\">\n      <th></th>\n      <th>Id</th>\n      <th>Prediction</th>\n    </tr>\n  </thead>\n  <tbody>\n    <tr>\n      <th>0</th>\n      <td>r44_c1</td>\n      <td>4</td>\n    </tr>\n    <tr>\n      <th>1</th>\n      <td>r61_c1</td>\n      <td>3</td>\n    </tr>\n    <tr>\n      <th>2</th>\n      <td>r72_c1</td>\n      <td>3</td>\n    </tr>\n    <tr>\n      <th>3</th>\n      <td>r86_c1</td>\n      <td>5</td>\n    </tr>\n    <tr>\n      <th>4</th>\n      <td>r108_c1</td>\n      <td>3</td>\n    </tr>\n    <tr>\n      <th>...</th>\n      <td>...</td>\n      <td>...</td>\n    </tr>\n    <tr>\n      <th>941556</th>\n      <td>r9970_c1000</td>\n      <td>5</td>\n    </tr>\n    <tr>\n      <th>941557</th>\n      <td>r9976_c1000</td>\n      <td>5</td>\n    </tr>\n    <tr>\n      <th>941558</th>\n      <td>r9990_c1000</td>\n      <td>4</td>\n    </tr>\n    <tr>\n      <th>941559</th>\n      <td>r9992_c1000</td>\n      <td>5</td>\n    </tr>\n    <tr>\n      <th>941560</th>\n      <td>r10000_c1000</td>\n      <td>3</td>\n    </tr>\n  </tbody>\n</table>\n<p>941561 rows × 2 columns</p>\n</div>"
     },
     "execution_count": 5,
     "metadata": {},
     "output_type": "execute_result"
    }
   ],
   "source": [
    "df"
   ],
   "metadata": {
    "collapsed": false,
    "pycharm": {
     "name": "#%%\n"
    }
   }
  },
  {
   "cell_type": "code",
   "execution_count": 6,
   "metadata": {
    "pycharm": {
     "name": "#%%\n"
    }
   },
   "outputs": [
    {
     "name": "stdout",
     "output_type": "stream",
     "text": [
      "Computing Neighborhood\n",
      "0 neighborhood\n",
      "1 neighborhood\n"
     ]
    },
    {
     "name": "stderr",
     "output_type": "stream",
     "text": [
      "/home/jimmy/CILProject22/src/data/Contrastive/graph_datamodule.py:55: UserWarning: Sparse CSR tensor support is in beta state. If you miss a functionality in the sparse tensor support, please submit a feature request to https://github.com/pytorch/pytorch/issues. (Triggered internally at  ../aten/src/ATen/SparseCsrTensorImpl.cpp:68.)\n",
      "  self.k_neighborhood = self.k_neighborhood.to_sparse_csr()\n"
     ]
    }
   ],
   "source": [
    "from src.data.Contrastive.graph_datamodule import Triplet_Dataset\n",
    "dataset = Triplet_Dataset(file_path=path, n_users=1000, n_items=10000, k=2)\n"
   ]
  },
  {
   "cell_type": "code",
   "execution_count": 7,
   "outputs": [
    {
     "name": "stdout",
     "output_type": "stream",
     "text": [
      "Retrieving neighbors 0.0002484321594238281\n",
      "Sampling neighbors0.0006475448608398438\n",
      "Sampling negative edges 1.2159347534179688e-05\n",
      "Sampling negative neighbors 0.0017616748809814453\n"
     ]
    },
    {
     "data": {
      "text/plain": "(tensor(0),\n tensor(1043),\n tensor([6636]),\n tensor([365]),\n tensor([634, 260, 380, 681, 335]),\n tensor([9861, 3662, 9327, 2259, 4627]),\n tensor([2606, 3379, 9672,  869, 8359]),\n tensor([6835,  429, 1885, 4295, 9056]))"
     },
     "execution_count": 7,
     "metadata": {},
     "output_type": "execute_result"
    }
   ],
   "source": [
    "dataset.__getitem__(0)"
   ],
   "metadata": {
    "collapsed": false,
    "pycharm": {
     "name": "#%%\n"
    }
   }
  },
  {
   "cell_type": "code",
   "execution_count": 11,
   "metadata": {
    "pycharm": {
     "name": "#%%\n"
    }
   },
   "outputs": [],
   "source": [
    "from torch.utils.data import DataLoader\n",
    "#from src.data.Contrastive.graph_datamodule import collate_tuples\n",
    "dataloader = DataLoader(dataset, batch_size=16, shuffle=True, num_workers=4)"
   ]
  },
  {
   "cell_type": "code",
   "execution_count": 12,
   "outputs": [
    {
     "name": "stdout",
     "output_type": "stream",
     "text": [
      "Retrieving neighbors 0.00011038780212402344Retrieving neighbors 0.00018668174743652344Retrieving neighbors 0.0001430511474609375Retrieving neighbors 0.0001430511474609375\n",
      "\n",
      "\n",
      "\n",
      "Sampling neighbors0.003186464309692383Sampling neighbors0.002755880355834961Sampling neighbors0.0029082298278808594\n",
      "Sampling neighbors0.003597736358642578\n",
      "\n",
      "\n",
      "Sampling negative edges 0.0013048648834228516Sampling negative edges 0.0013735294342041016\n",
      "\n",
      "Sampling negative edges 0.0015916824340820312\n",
      "Sampling negative edges 0.0013625621795654297Sampling negative neighbors 0.0035402774810791016Sampling negative neighbors 0.003229856491088867\n",
      "\n",
      "\n",
      "Sampling negative neighbors 0.003648519515991211Retrieving neighbors 5.030632019042969e-05Retrieving neighbors 3.075599670410156e-05\n",
      "\n",
      "\n",
      "Sampling negative neighbors 0.005117893218994141Retrieving neighbors 3.62396240234375e-05Sampling neighbors0.0012645721435546875\n",
      "Sampling neighbors0.0012331008911132812\n",
      "\n",
      "\n",
      "Retrieving neighbors 3.9577484130859375e-05Sampling neighbors0.0013921260833740234\n",
      "\n",
      "Sampling neighbors0.0012483596801757812\n",
      "Sampling negative edges 0.0010159015655517578\n",
      "Sampling negative edges 0.0009586811065673828Sampling negative neighbors 0.002625703811645508\n",
      "\n",
      "Sampling negative edges 0.0009145736694335938Sampling negative edges 0.0009989738464355469\n",
      "Retrieving neighbors 3.0517578125e-05\n",
      "Sampling negative neighbors 0.00402069091796875\n",
      "\n",
      "Sampling negative neighbors 0.0027904510498046875Sampling neighbors0.0011775493621826172\n",
      "Sampling negative neighbors 0.00405430793762207\n",
      "Retrieving neighbors 4.410743713378906e-05Retrieving neighbors 3.62396240234375e-05\n",
      "\n",
      "\n",
      "Retrieving neighbors 4.38690185546875e-05\n",
      "Sampling neighbors0.0016698837280273438Sampling neighbors0.0013921260833740234Sampling negative edges 0.0009233951568603516\n",
      "Sampling neighbors0.0011444091796875\n",
      "\n",
      "\n",
      "Sampling negative neighbors 0.002992391586303711Sampling negative edges 0.00103759765625\n",
      "\n",
      "Sampling negative edges 0.0010671615600585938Retrieving neighbors 4.2438507080078125e-05Sampling negative edges 0.0009136199951171875\n",
      "\n",
      "\n",
      "Sampling negative neighbors 0.00270843505859375\n",
      "Sampling neighbors0.0014276504516601562Retrieving neighbors 3.2901763916015625e-05Sampling negative neighbors 0.003751993179321289Sampling negative neighbors 0.003439664840698242\n",
      "\n",
      "\n",
      "\n",
      "Retrieving neighbors 4.410743713378906e-05Retrieving neighbors 4.100799560546875e-05Sampling neighbors0.0012691020965576172\n",
      "\n",
      "\n",
      "Sampling neighbors0.0014429092407226562Sampling negative edges 0.001148223876953125Sampling neighbors0.0016133785247802734\n",
      "\n",
      "\n",
      "Sampling negative edges 0.001110076904296875\n",
      "Sampling negative neighbors 0.003671884536743164\n",
      "Sampling negative neighbors 0.0027472972869873047\n",
      "Sampling negative edges 0.0009996891021728516Retrieving neighbors 4.76837158203125e-05Sampling negative edges 0.0011363029479980469Retrieving neighbors 3.719329833984375e-05\n",
      "\n",
      "\n",
      "\n",
      "Sampling neighbors0.001760721206665039Sampling neighbors0.0013897418975830078Sampling negative neighbors 0.0036487579345703125Sampling negative neighbors 0.004131793975830078\n",
      "\n",
      "\n",
      "\n",
      "Retrieving neighbors 4.744529724121094e-05Retrieving neighbors 5.054473876953125e-05\n",
      "\n",
      "Sampling negative edges 0.0009303092956542969Sampling negative edges 0.0011239051818847656Sampling neighbors0.0014071464538574219\n",
      "Sampling neighbors0.0015780925750732422\n",
      "\n",
      "\n",
      "Sampling negative neighbors 0.003051280975341797\n",
      "Sampling negative neighbors 0.003633737564086914Retrieving neighbors 3.123283386230469e-05\n",
      "\n",
      "Retrieving neighbors 4.1961669921875e-05Sampling negative edges 0.0013267993927001953Sampling negative edges 0.0010688304901123047\n",
      "Sampling neighbors0.0013301372528076172\n",
      "\n",
      "\n",
      "Sampling neighbors0.0014619827270507812\n",
      "Sampling negative neighbors 0.0035293102264404297Sampling negative neighbors 0.003787994384765625\n",
      "\n",
      "Retrieving neighbors 4.1484832763671875e-05Retrieving neighbors 3.528594970703125e-05Sampling negative edges 0.0011968612670898438\n",
      "Sampling negative edges 0.0009486675262451172\n",
      "\n",
      "\n",
      "Sampling neighbors0.0016334056854248047Sampling neighbors0.0014176368713378906\n",
      "Sampling negative neighbors 0.0036482810974121094Sampling negative neighbors 0.0029754638671875\n",
      "\n",
      "\n",
      "Retrieving neighbors 4.792213439941406e-05Retrieving neighbors 4.124641418457031e-05\n",
      "\n",
      "Sampling negative edges 0.0010151863098144531Sampling negative edges 0.00121307373046875Sampling neighbors0.0013527870178222656\n",
      "Sampling neighbors0.0014791488647460938\n",
      "\n",
      "\n",
      "Sampling negative neighbors 0.003349781036376953Sampling negative neighbors 0.0031533241271972656\n",
      "\n",
      "Sampling negative edges 0.0011200904846191406Retrieving neighbors 3.4332275390625e-05Retrieving neighbors 3.4332275390625e-05\n",
      "\n",
      "\n",
      "Sampling negative edges 0.0011212825775146484Sampling neighbors0.001344919204711914\n",
      "Sampling negative neighbors 0.0028460025787353516Sampling neighbors0.0013937950134277344\n",
      "\n",
      "\n",
      "Sampling negative neighbors 0.0038361549377441406Retrieving neighbors 4.291534423828125e-05\n",
      "\n",
      "Sampling negative edges 0.0010292530059814453Retrieving neighbors 3.409385681152344e-05Sampling negative edges 0.0011072158813476562Sampling neighbors0.0013628005981445312\n",
      "\n",
      "\n",
      "\n",
      "Sampling neighbors0.0013842582702636719Sampling negative neighbors 0.002986431121826172Sampling negative neighbors 0.002982616424560547\n",
      "\n",
      "\n",
      "Retrieving neighbors 3.6716461181640625e-05Sampling negative edges 0.001079559326171875Retrieving neighbors 4.5299530029296875e-05\n",
      "\n",
      "\n",
      "Sampling neighbors0.0012280941009521484Sampling negative edges 0.0010457038879394531Sampling negative neighbors 0.0028045177459716797\n",
      "\n",
      "Sampling neighbors0.0014917850494384766\n",
      "\n",
      "Retrieving neighbors 2.9802322387695312e-05Sampling negative neighbors 0.0031006336212158203\n",
      "\n",
      "Sampling negative edges 0.0009620189666748047\n",
      "Sampling neighbors0.001245737075805664Retrieving neighbors 3.4332275390625e-05\n",
      "\n",
      "Sampling negative neighbors 0.002804994583129883Sampling negative edges 0.0013217926025390625Sampling neighbors0.00139617919921875\n",
      "\n",
      "\n",
      "Retrieving neighbors 3.314018249511719e-05Sampling negative edges 0.0010509490966796875\n",
      "\n",
      "Sampling negative neighbors 0.0039365291595458984Sampling neighbors0.0012960433959960938\n",
      "\n",
      "Sampling negative edges 0.0010104179382324219Sampling negative neighbors 0.002875804901123047Retrieving neighbors 4.649162292480469e-05\n",
      "\n",
      "\n",
      "Retrieving neighbors 4.291534423828125e-05\n",
      "Sampling negative edges 0.001035928726196289Sampling negative neighbors 0.003375530242919922Sampling neighbors0.001726388931274414Sampling neighbors0.0012400150299072266\n",
      "\n",
      "\n",
      "\n",
      "Retrieving neighbors 7.724761962890625e-05Sampling negative neighbors 0.003180265426635742\n",
      "\n",
      "Retrieving neighbors 3.4332275390625e-05Sampling negative edges 0.0013766288757324219Sampling neighbors0.0014538764953613281Sampling negative edges 0.0011239051818847656\n",
      "\n",
      "\n",
      "\n",
      "Sampling neighbors0.00150299072265625\n",
      "Sampling negative neighbors 0.003457307815551758Sampling negative neighbors 0.0036907196044921875\n",
      "Sampling negative edges 0.0011417865753173828\n",
      "Retrieving neighbors 4.482269287109375e-05\n",
      "Retrieving neighbors 4.315376281738281e-05\n",
      "\n",
      "Sampling negative edges 0.0010457038879394531Sampling neighbors0.0015070438385009766Sampling negative neighbors 0.0035855770111083984\n",
      "Sampling neighbors0.0013773441314697266\n",
      "\n",
      "\n",
      "Retrieving neighbors 5.340576171875e-05Sampling negative neighbors 0.003860950469970703\n",
      "\n",
      "Retrieving neighbors 4.029273986816406e-05Sampling negative edges 0.0010762214660644531Sampling neighbors0.0015292167663574219Sampling negative edges 0.0010268688201904297\n",
      "\n",
      "\n",
      "\n",
      "Sampling neighbors0.0014445781707763672Sampling negative neighbors 0.0029649734497070312\n",
      "\n",
      "Sampling negative neighbors 0.003763914108276367Retrieving neighbors 3.504753112792969e-05\n",
      "\n",
      "Retrieving neighbors 4.458427429199219e-05Sampling negative edges 0.0010867118835449219\n",
      "\n",
      "Sampling neighbors0.0013530254364013672Sampling negative edges 0.000993490219116211\n",
      "\n",
      "Sampling neighbors0.0015087127685546875Sampling negative neighbors 0.003939628601074219\n",
      "\n",
      "Sampling negative neighbors 0.0035331249237060547Retrieving neighbors 4.482269287109375e-05\n",
      "\n",
      "Retrieving neighbors 3.695487976074219e-05Sampling negative edges 0.0012922286987304688Sampling neighbors0.0013852119445800781Sampling negative edges 0.0010790824890136719\n",
      "\n",
      "\n",
      "\n",
      "Sampling neighbors0.0015752315521240234Sampling negative neighbors 0.004053592681884766\n",
      "Sampling negative neighbors 0.003922462463378906\n",
      "\n",
      "Retrieving neighbors 4.76837158203125e-05Retrieving neighbors 5.14984130859375e-05Sampling negative edges 0.0012764930725097656\n",
      "\n",
      "\n",
      "Sampling negative edges 0.0010275840759277344Sampling neighbors0.0016436576843261719Sampling neighbors0.0013511180877685547\n",
      "\n",
      "Sampling negative neighbors 0.004071474075317383\n",
      "Sampling negative neighbors 0.003575563430786133\n",
      "\n",
      "Retrieving neighbors 5.054473876953125e-05Sampling negative edges 0.000972747802734375Retrieving neighbors 3.600120544433594e-05\n",
      "\n",
      "Sampling negative edges 0.0015883445739746094\n",
      "\n",
      "Sampling neighbors0.0015461444854736328Sampling neighbors0.001420736312866211\n",
      "Sampling negative neighbors 0.003133535385131836\n",
      "Sampling negative neighbors 0.0030939579010009766\n",
      "\n",
      "Retrieving neighbors 4.458427429199219e-05\n",
      "Retrieving neighbors 4.744529724121094e-05Sampling negative edges 0.0009145736694335938\n",
      "\n",
      "Sampling negative edges 0.0009772777557373047Sampling neighbors0.001375436782836914Sampling neighbors0.0013344287872314453\n",
      "\n",
      "Sampling negative neighbors 0.002840757369995117\n",
      "\n",
      "Sampling negative neighbors 0.003758668899536133Retrieving neighbors 3.647804260253906e-05\n",
      "\n",
      "Sampling negative edges 0.0011782646179199219Retrieving neighbors 3.886222839355469e-05\n",
      "Sampling negative edges 0.0011713504791259766\n",
      "Sampling neighbors0.001371622085571289\n",
      "\n",
      "Sampling neighbors0.001445770263671875Sampling negative neighbors 0.0029337406158447266\n",
      "\n",
      "Retrieving neighbors 3.981590270996094e-05Sampling negative neighbors 0.003728151321411133\n",
      "Sampling negative edges 0.001066446304321289\n",
      "\n",
      "Retrieving neighbors 4.1961669921875e-05Sampling neighbors0.001363992691040039Sampling negative edges 0.0010256767272949219\n",
      "\n",
      "\n",
      "Sampling negative neighbors 0.0031185150146484375Sampling neighbors0.0013530254364013672\n",
      "\n",
      "Sampling negative neighbors 0.0034322738647460938Retrieving neighbors 4.0531158447265625e-05\n",
      "Sampling negative edges 0.0011484622955322266\n",
      "\n",
      "Retrieving neighbors 4.482269287109375e-05Sampling neighbors0.0013523101806640625Sampling negative edges 0.0010845661163330078\n",
      "\n",
      "\n",
      "Sampling negative neighbors 0.0030066967010498047Sampling neighbors0.001577615737915039\n",
      "\n",
      "Sampling negative neighbors 0.0033452510833740234Retrieving neighbors 4.7206878662109375e-05\n",
      "\n",
      "Sampling negative edges 0.0010678768157958984\n",
      "Retrieving neighbors 4.887580871582031e-05Sampling negative edges 0.0011374950408935547Sampling neighbors0.0017423629760742188\n",
      "\n",
      "\n",
      "Sampling negative neighbors 0.003642559051513672\n",
      "Sampling neighbors0.0016274452209472656Sampling negative neighbors 0.003107309341430664\n",
      "Retrieving neighbors 3.981590270996094e-05\n",
      "\n",
      "Retrieving neighbors 3.719329833984375e-05Sampling neighbors0.0013384819030761719\n",
      "Sampling negative edges 0.0011150836944580078\n",
      "\n",
      "Sampling neighbors0.0012633800506591797\n",
      "Sampling negative edges 0.0012249946594238281Sampling negative neighbors 0.00372314453125\n",
      "\n",
      "Sampling negative edges 0.0010678768157958984Retrieving neighbors 3.838539123535156e-05\n",
      "Sampling negative edges 0.0008935928344726562\n",
      "Sampling negative neighbors 0.004124641418457031\n",
      "\n",
      "Sampling negative neighbors 0.0031638145446777344Sampling neighbors0.0014531612396240234Retrieving neighbors 4.76837158203125e-05\n",
      "\n",
      "Sampling negative neighbors 0.003213167190551758\n",
      "Retrieving neighbors 5.078315734863281e-05\n",
      "\n",
      "Sampling neighbors0.0014946460723876953Retrieving neighbors 4.267692565917969e-05\n",
      "Sampling neighbors0.0012183189392089844\n",
      "\n",
      "Sampling negative edges 0.0011556148529052734Sampling neighbors0.0014300346374511719\n",
      "\n",
      "Sampling negative edges 0.0009796619415283203Sampling negative neighbors 0.003425121307373047\n",
      "\n",
      "Sampling negative edges 0.0009586811065673828Retrieving neighbors 3.7670135498046875e-05Sampling negative edges 0.0011723041534423828Sampling negative neighbors 0.002905607223510742\n",
      "\n",
      "\n",
      "\n",
      "Retrieving neighbors 3.457069396972656e-05Sampling neighbors0.0013706684112548828Sampling negative neighbors 0.0028352737426757812\n",
      "Sampling negative neighbors 0.004048824310302734\n",
      "\n",
      "\n",
      "Retrieving neighbors 3.552436828613281e-05Sampling neighbors0.0014312267303466797Retrieving neighbors 4.1961669921875e-05\n",
      "\n",
      "\n",
      "Sampling neighbors0.0016314983367919922Sampling negative edges 0.0013613700866699219Sampling neighbors0.0013539791107177734\n",
      "\n",
      "\n",
      "Sampling negative edges 0.0014328956604003906\n",
      "Sampling negative neighbors 0.0037648677825927734\n",
      "Sampling negative neighbors 0.002917051315307617Sampling negative edges 0.001157999038696289Sampling negative edges 0.0011594295501708984Retrieving neighbors 4.792213439941406e-05\n",
      "\n",
      "\n",
      "\n",
      "Retrieving neighbors 3.838539123535156e-05\n",
      "Sampling neighbors0.0015652179718017578Sampling negative neighbors 0.0032682418823242188Sampling negative neighbors 0.0036852359771728516\n",
      "\n",
      "\n",
      "Sampling neighbors0.001489400863647461Retrieving neighbors 4.8160552978515625e-05\n",
      "Retrieving neighbors 5.1021575927734375e-05\n",
      "\n",
      "Sampling negative edges 0.0010864734649658203Sampling neighbors0.001495361328125Sampling neighbors0.001535654067993164\n",
      "Sampling negative edges 0.0012981891632080078\n",
      "\n",
      "\n",
      "Sampling negative neighbors 0.003301858901977539\n",
      "Sampling negative neighbors 0.002878904342651367\n",
      "Retrieving neighbors 3.8623809814453125e-05Sampling negative edges 0.0012025833129882812Retrieving neighbors 3.218650817871094e-05\n",
      "\n",
      "\n",
      "Sampling negative edges 0.001146078109741211Sampling neighbors0.001355886459350586Sampling neighbors0.0011136531829833984\n",
      "Sampling negative neighbors 0.003246784210205078\n",
      "\n",
      "\n",
      "Sampling negative neighbors 0.004070758819580078Retrieving neighbors 3.910064697265625e-05\n",
      "Sampling negative edges 0.001012563705444336\n",
      "Retrieving neighbors 3.886222839355469e-05Sampling negative edges 0.0011103153228759766\n",
      "\n",
      "Sampling neighbors0.001300811767578125\n",
      "Sampling negative neighbors 0.0027573108673095703\n",
      "Sampling neighbors0.0013797283172607422\n",
      "\n",
      "Sampling negative neighbors 0.003690958023071289Retrieving neighbors 4.6253204345703125e-05\n",
      "\n",
      "Sampling negative edges 0.001077890396118164Retrieving neighbors 4.124641418457031e-05\n",
      "\n",
      "Sampling negative edges 0.0009465217590332031Sampling neighbors0.001657247543334961\n",
      "\n",
      "Sampling neighbors0.0014581680297851562Sampling negative neighbors 0.0031909942626953125\n",
      "Sampling negative neighbors 0.0032088756561279297\n",
      "\n",
      "Retrieving neighbors 5.078315734863281e-05Sampling negative edges 0.0011284351348876953Retrieving neighbors 2.9802322387695312e-05\n",
      "\n",
      "\n",
      "Sampling neighbors0.0013651847839355469Sampling negative edges 0.0010235309600830078Sampling neighbors0.0014357566833496094\n",
      "\n",
      "Sampling negative neighbors 0.003161191940307617\n",
      "\n",
      "Sampling negative neighbors 0.0037424564361572266Retrieving neighbors 4.887580871582031e-05Sampling negative edges 0.0009415149688720703\n",
      "\n",
      "\n",
      "Retrieving neighbors 3.528594970703125e-05Sampling negative edges 0.0010690689086914062Sampling neighbors0.0014393329620361328\n",
      "\n",
      "Sampling negative neighbors 0.002999544143676758\n",
      "Sampling neighbors0.0013689994812011719\n",
      "\n",
      "Retrieving neighbors 3.218650817871094e-05Sampling negative neighbors 0.0037653446197509766\n",
      "\n",
      "Sampling neighbors0.0012199878692626953Retrieving neighbors 4.6253204345703125e-05Sampling negative edges 0.0012502670288085938\n",
      "\n",
      "\n",
      "Sampling negative edges 0.0010890960693359375Sampling neighbors0.0015172958374023438\n",
      "\n",
      "Sampling negative neighbors 0.0038123130798339844Sampling negative edges 0.0009636878967285156\n",
      "\n",
      "Sampling negative neighbors 0.003701925277709961Retrieving neighbors 4.792213439941406e-05\n",
      "\n",
      "Sampling negative neighbors 0.0028982162475585938Retrieving neighbors 4.1961669921875e-05Sampling negative edges 0.0009763240814208984\n",
      "Sampling neighbors0.0012745857238769531\n",
      "\n",
      "Retrieving neighbors 3.170967102050781e-05\n",
      "\n",
      "Sampling neighbors0.0016205310821533203\n",
      "Sampling neighbors0.0012922286987304688Sampling negative neighbors 0.0037004947662353516\n",
      "\n",
      "Sampling negative edges 0.0010988712310791016Retrieving neighbors 5.269050598144531e-05\n",
      "\n",
      "Sampling negative edges 0.0010685920715332031Sampling neighbors0.0013051033020019531Sampling negative neighbors 0.003084897994995117\n",
      "Sampling negative edges 0.0009903907775878906\n",
      "\n",
      "\n",
      "Retrieving neighbors 3.62396240234375e-05\n",
      "Sampling negative neighbors 0.0035521984100341797Sampling negative neighbors 0.003356456756591797\n",
      "Sampling neighbors0.0012400150299072266\n",
      "Sampling negative edges 0.0010409355163574219\n",
      "Retrieving neighbors 3.2901763916015625e-05Retrieving neighbors 4.9114227294921875e-05\n",
      "\n",
      "\n",
      "Sampling neighbors0.0014379024505615234Sampling neighbors0.001420736312866211Sampling negative neighbors 0.0035893917083740234\n",
      "\n",
      "\n",
      "Sampling negative edges 0.0009996891021728516Retrieving neighbors 5.245208740234375e-05\n",
      "\n",
      "Sampling negative neighbors 0.003551483154296875Sampling neighbors0.0014078617095947266Sampling negative edges 0.0009362697601318359Sampling negative edges 0.0009768009185791016\n",
      "\n",
      "\n",
      "\n",
      "Retrieving neighbors 3.361701965332031e-05\n",
      "Sampling negative neighbors 0.003443002700805664Sampling neighbors0.001131296157836914Sampling negative neighbors 0.0036170482635498047\n",
      "\n",
      "Sampling negative edges 0.00103759765625\n",
      "Retrieving neighbors 4.76837158203125e-05\n",
      "Retrieving neighbors 3.814697265625e-05\n",
      "\n",
      "Sampling negative neighbors 0.0029861927032470703Sampling neighbors0.0013530254364013672Sampling negative edges 0.0008692741394042969\n",
      "Sampling neighbors0.001295328140258789\n",
      "\n",
      "Retrieving neighbors 4.8160552978515625e-05\n",
      "\n",
      "Sampling negative neighbors 0.0029845237731933594Sampling neighbors0.0012698173522949219\n",
      "\n",
      "Retrieving neighbors 4.291534423828125e-05Sampling negative edges 0.0010335445404052734\n",
      "Sampling negative edges 0.0010213851928710938\n",
      "\n",
      "Sampling neighbors0.001354217529296875\n",
      "Sampling negative neighbors 0.0038433074951171875Sampling negative edges 0.0009665489196777344Sampling negative neighbors 0.003475666046142578\n",
      "\n",
      "\n",
      "Retrieving neighbors 5.1021575927734375e-05Retrieving neighbors 4.1961669921875e-05\n",
      "\n",
      "Sampling negative neighbors 0.0036382675170898438Sampling negative edges 0.0010411739349365234\n",
      "Sampling neighbors0.0014493465423583984\n",
      "Sampling neighbors0.0014908313751220703Retrieving neighbors 3.457069396972656e-05\n",
      "\n",
      "\n",
      "Sampling negative neighbors 0.003744363784790039Sampling neighbors0.0014219284057617188\n",
      "\n",
      "Retrieving neighbors 4.1484832763671875e-05Sampling negative edges 0.0010805130004882812Sampling negative edges 0.0011606216430664062\n",
      "\n",
      "\n",
      "Sampling negative edges 0.0009191036224365234Sampling negative neighbors 0.002949953079223633Sampling neighbors0.0015635490417480469\n",
      "Sampling negative neighbors 0.0034842491149902344\n",
      "\n",
      "\n",
      "Retrieving neighbors 4.220008850097656e-05Sampling negative neighbors 0.0028285980224609375Retrieving neighbors 4.601478576660156e-05\n",
      "\n",
      "\n",
      "Retrieving neighbors 3.4332275390625e-05Sampling neighbors0.0014927387237548828\n",
      "Sampling neighbors0.0012247562408447266Sampling negative edges 0.0012295246124267578\n",
      "\n",
      "Sampling neighbors0.0012273788452148438\n",
      "\n",
      "Sampling negative neighbors 0.0035829544067382812Sampling negative edges 0.0009746551513671875Sampling negative edges 0.0009627342224121094\n",
      "\n",
      "\n",
      "Sampling negative edges 0.0008692741394042969Retrieving neighbors 5.0067901611328125e-05\n",
      "Sampling negative neighbors 0.0028150081634521484\n",
      "Sampling negative neighbors 0.0028142929077148438\n",
      "\n",
      "Sampling negative neighbors 0.0028285980224609375Sampling neighbors0.0015196800231933594Retrieving neighbors 4.863739013671875e-05Retrieving neighbors 3.409385681152344e-05\n",
      "\n",
      "\n",
      "\n",
      "Retrieving neighbors 3.552436828613281e-05\n",
      "Sampling neighbors0.001520395278930664Sampling neighbors0.0014698505401611328\n",
      "\n",
      "Sampling neighbors0.0014603137969970703\n",
      "Sampling negative edges 0.001354217529296875Sampling negative edges 0.0009958744049072266\n",
      "\n",
      "Sampling negative edges 0.0010519027709960938\n",
      "Sampling negative neighbors 0.0038857460021972656Sampling negative edges 0.000986337661743164Sampling negative neighbors 0.0028150081634521484\n",
      "\n",
      "\n",
      "Sampling negative neighbors 0.003387451171875Retrieving neighbors 4.410743713378906e-05Retrieving neighbors 4.9591064453125e-05\n",
      "Sampling negative neighbors 0.003470182418823242\n",
      "\n",
      "Retrieving neighbors 3.170967102050781e-05\n",
      "\n",
      "Sampling neighbors0.0014750957489013672Retrieving neighbors 3.457069396972656e-05Sampling neighbors0.0015759468078613281\n",
      "Sampling neighbors0.001268148422241211\n",
      "\n",
      "\n",
      "Sampling neighbors0.001394510269165039\n",
      "Sampling negative edges 0.0010650157928466797Sampling negative edges 0.0010027885437011719\n",
      "Sampling negative edges 0.0011742115020751953\n",
      "Sampling negative edges 0.0007951259613037109\n",
      "\n",
      "Sampling negative neighbors 0.003445148468017578Sampling negative neighbors 0.0028121471405029297\n",
      "Sampling negative neighbors 0.00272369384765625\n",
      "Sampling negative neighbors 0.0036361217498779297\n",
      "Retrieving neighbors 4.6253204345703125e-05\n",
      "Retrieving neighbors 3.123283386230469e-05Retrieving neighbors 5.459785461425781e-05\n",
      "\n",
      "Retrieving neighbors 3.5762786865234375e-05\n",
      "Sampling neighbors0.0012412071228027344\n",
      "Sampling neighbors0.001569986343383789\n",
      "Sampling neighbors0.001485586166381836\n",
      "Sampling neighbors0.001344919204711914\n",
      "\n",
      "Sampling negative edges 0.000858306884765625\n",
      "Sampling negative edges 0.0010418891906738281Sampling negative edges 0.0009517669677734375Sampling negative edges 0.000978231430053711\n",
      "\n",
      "Sampling negative neighbors 0.0031239986419677734\n",
      "\n",
      "Sampling negative neighbors 0.0034570693969726562Sampling negative neighbors 0.003341197967529297Retrieving neighbors 4.1961669921875e-05Sampling negative neighbors 0.003872394561767578\n",
      "\n",
      "\n",
      "\n",
      "Retrieving neighbors 3.719329833984375e-05Retrieving neighbors 3.0994415283203125e-05Retrieving neighbors 4.839897155761719e-05\n",
      "\n",
      "Sampling neighbors0.0016126632690429688\n",
      "\n",
      "Sampling neighbors0.0014235973358154297Sampling neighbors0.0013649463653564453\n",
      "Sampling neighbors0.0014865398406982422\n",
      "\n",
      "Sampling negative edges 0.0011394023895263672Sampling negative edges 0.0010595321655273438Sampling negative edges 0.001039266586303711\n",
      "Sampling negative edges 0.0010230541229248047\n",
      "\n",
      "\n",
      "Sampling negative neighbors 0.0032036304473876953Sampling negative neighbors 0.0028362274169921875\n",
      "\n",
      "Sampling negative neighbors 0.0033311843872070312Retrieving neighbors 3.7670135498046875e-05Sampling negative neighbors 0.003215789794921875\n",
      "Retrieving neighbors 5.125999450683594e-05\n",
      "\n",
      "Retrieving neighbors 3.2901763916015625e-05\n",
      "Retrieving neighbors 3.361701965332031e-05Sampling neighbors0.0012547969818115234\n",
      "\n",
      "\n",
      "Sampling neighbors0.001619577407836914Sampling neighbors0.0012750625610351562\n",
      "\n",
      "Sampling neighbors0.0015878677368164062\n",
      "Sampling negative edges 0.0010247230529785156\n",
      "Sampling negative edges 0.001085042953491211Sampling negative edges 0.0009562969207763672Sampling negative neighbors 0.0027806758880615234\n",
      "\n",
      "\n",
      "Sampling negative edges 0.0009992122650146484Retrieving neighbors 3.4809112548828125e-05\n",
      "\n",
      "Sampling negative neighbors 0.003443479537963867Sampling negative neighbors 0.003686189651489258\n",
      "\n",
      "Sampling negative neighbors 0.003619670867919922Sampling neighbors0.001375436782836914\n",
      "\n",
      "Retrieving neighbors 0.0003647804260253906Sampling negative edges 0.0011391639709472656\n",
      "Retrieving neighbors 0.0004131793975830078\n",
      "Retrieving neighbors 0.00022339820861816406\n",
      "Sampling negative neighbors 0.0037643909454345703Sampling neighbors0.0017342567443847656Sampling neighbors0.002410888671875\n",
      "\n",
      "\n",
      "\n",
      "Sampling neighbors0.002736330032348633\n",
      "Sampling negative edges 0.0011360645294189453Sampling negative edges 0.0011973381042480469Retrieving neighbors 0.00027060508728027344\n",
      "Sampling negative edges 0.0009047985076904297\n",
      "\n",
      "\n",
      "Sampling negative neighbors 0.0036804676055908203Sampling neighbors0.0017342567443847656\n",
      "Sampling negative neighbors 0.00331878662109375Sampling negative neighbors 0.004126787185668945\n",
      "Retrieving neighbors 4.3392181396484375e-05\n",
      "\n",
      "\n",
      "Retrieving neighbors 4.4345855712890625e-05Retrieving neighbors 4.124641418457031e-05\n",
      "\n",
      "Sampling neighbors0.0013420581817626953\n",
      "Sampling neighbors0.0014007091522216797Sampling neighbors0.0014944076538085938Sampling negative edges 0.0012166500091552734\n",
      "\n",
      "\n",
      "Sampling negative neighbors 0.0035643577575683594Sampling negative edges 0.0010941028594970703\n",
      "Sampling negative edges 0.0011591911315917969\n",
      "Sampling negative edges 0.000986337661743164\n",
      "Sampling negative neighbors 0.0035300254821777344\n",
      "Sampling negative neighbors 0.003015756607055664\n",
      "\n",
      "Retrieving neighbors 3.6716461181640625e-05\n",
      "Retrieving neighbors 3.5762786865234375e-05\n",
      "\n",
      "\n",
      "Sampling negative neighbors 0.0031404495239257812\n",
      "\n",
      "Sampling neighbors0.0014202594757080078Sampling negative edges 0.0010237693786621094\n",
      "Sampling neighbors0.0013873577117919922\n",
      "Sampling neighbors0.0015594959259033203Retrieving neighbors 3.695487976074219e-05\n",
      "Sampling negative edges 0.0010809898376464844Sampling negative edges 0.0011143684387207031Sampling negative edges 0.001230478286743164\n",
      "\n",
      "\n",
      "\n",
      "Retrieving neighbors 3.361701965332031e-05Sampling neighbors0.0015666484832763672\n",
      "Sampling negative neighbors 0.0037229061126708984\n",
      "Retrieving neighbors 4.100799560546875e-05Sampling neighbors0.0014102458953857422Sampling neighbors0.0012753009796142578\n",
      "\n",
      "\n",
      "Sampling negative edges 0.0012409687042236328Sampling neighbors0.001344919204711914\n",
      "\n",
      "Sampling negative neighbors 0.0031402111053466797Sampling negative edges 0.000978231430053711Sampling negative edges 0.0009915828704833984\n",
      "\n",
      "\n",
      "Sampling negative edges 0.0010912418365478516Retrieving neighbors 3.719329833984375e-05\n",
      "\n",
      "Sampling negative neighbors 0.0032694339752197266Sampling negative neighbors 0.0035915374755859375\n",
      "Sampling neighbors0.0013499259948730469\n",
      "Sampling negative neighbors 0.0031163692474365234Retrieving neighbors 3.4332275390625e-05\n",
      "\n",
      "Retrieving neighbors 5.340576171875e-05\n",
      "\n",
      "Retrieving neighbors 5.1975250244140625e-05Sampling neighbors0.001428842544555664\n",
      "Sampling neighbors0.001390695571899414\n",
      "\n",
      "Sampling negative edges 0.001055002212524414Sampling neighbors0.0014231204986572266\n",
      "\n",
      "Sampling negative neighbors 0.003552675247192383Sampling negative edges 0.0010755062103271484Sampling negative edges 0.0009737014770507812\n",
      "\n",
      "Sampling negative edges 0.0011138916015625\n",
      "Retrieving neighbors 3.457069396972656e-05\n",
      "\n",
      "Sampling negative neighbors 0.003366708755493164Sampling negative neighbors 0.003586292266845703\n",
      "\n",
      "Sampling neighbors0.0016248226165771484Sampling negative neighbors 0.003314495086669922Retrieving neighbors 4.649162292480469e-05\n",
      "Retrieving neighbors 4.982948303222656e-05Retrieving neighbors 4.100799560546875e-05\n",
      "\n",
      "\n",
      "Sampling negative neighbors 0.00486445426940918Sampling negative neighbors 0.004671812057495117Sampling neighbors0.0016722679138183594Sampling negative neighbors 0.004080295562744141\n",
      "\n",
      "\n",
      "\n",
      "Retrieving neighbors 4.172325134277344e-05Retrieving neighbors 4.887580871582031e-05Retrieving neighbors 5.054473876953125e-05\n",
      "\n",
      "\n",
      "Sampling neighbors0.001382589340209961Sampling neighbors0.0015113353729248047Sampling neighbors0.0013513565063476562\n",
      "Sampling negative edges 0.001210927963256836\n",
      "\n",
      "\n",
      "Sampling negative neighbors 0.0035789012908935547Sampling negative edges 0.0011670589447021484Sampling negative edges 0.001238107681274414\n",
      "Sampling negative edges 0.0013873577117919922\n",
      "\n",
      "\n",
      "Retrieving neighbors 5.245208740234375e-05\n",
      "Sampling negative neighbors 0.003216981887817383Sampling negative neighbors 0.0030150413513183594Sampling negative neighbors 0.003020763397216797\n",
      "\n",
      "Sampling neighbors0.0015208721160888672\n",
      "Retrieving neighbors 4.6253204345703125e-05Retrieving neighbors 3.361701965332031e-05\n",
      "Retrieving neighbors 3.314018249511719e-05\n",
      "\n",
      "\n",
      "Sampling neighbors0.0012481212615966797Sampling neighbors0.0013828277587890625Sampling neighbors0.0014445781707763672\n",
      "\n",
      "\n",
      "Sampling negative edges 0.001264333724975586\n",
      "Sampling negative edges 0.0008840560913085938\n",
      "Sampling negative edges 0.0010254383087158203Sampling negative edges 0.0008873939514160156Sampling negative neighbors 0.0037267208099365234\n",
      "\n",
      "Sampling negative neighbors 0.002802610397338867\n",
      "\n",
      "Retrieving neighbors 4.38690185546875e-05Sampling negative neighbors 0.003496408462524414Retrieving neighbors 3.6716461181640625e-05Sampling negative neighbors 0.003554821014404297\n",
      "\n",
      "\n",
      "\n",
      "Retrieving neighbors 3.695487976074219e-05Sampling neighbors0.0014951229095458984Retrieving neighbors 3.647804260253906e-05Sampling neighbors0.0014057159423828125\n",
      "\n",
      "\n",
      "\n",
      "Sampling neighbors0.00147247314453125Sampling neighbors0.0014591217041015625\n",
      "\n",
      "Sampling negative edges 0.0011980533599853516Sampling negative edges 0.0010957717895507812\n",
      "Sampling negative edges 0.0009114742279052734\n",
      "\n",
      "Sampling negative neighbors 0.0034728050231933594Sampling negative neighbors 0.0036287307739257812Sampling negative edges 0.0010650157928466797Sampling negative neighbors 0.0030167102813720703\n",
      "\n",
      "\n",
      "\n",
      "Retrieving neighbors 3.981590270996094e-05Retrieving neighbors 3.361701965332031e-05Retrieving neighbors 4.0531158447265625e-05\n",
      "\n",
      "\n",
      "Sampling negative neighbors 0.004628658294677734Sampling neighbors0.0013172626495361328Sampling neighbors0.0013203620910644531Sampling neighbors0.0013005733489990234\n",
      "\n",
      "\n",
      "\n",
      "Retrieving neighbors 3.838539123535156e-05\n",
      "Sampling neighbors0.0011136531829833984\n",
      "Sampling negative edges 0.0011131763458251953Sampling negative edges 0.001051187515258789Sampling negative edges 0.0010857582092285156\n",
      "\n",
      "\n",
      "Sampling negative edges 0.0008044242858886719Sampling negative neighbors 0.0033254623413085938\n",
      "Sampling negative neighbors 0.0035431385040283203\n",
      "Sampling negative neighbors 0.003518342971801758\n",
      "\n",
      "Retrieving neighbors 4.4345855712890625e-05Retrieving neighbors 3.266334533691406e-05Sampling negative neighbors 0.0028717517852783203Retrieving neighbors 4.839897155761719e-05\n",
      "\n",
      "\n",
      "\n",
      "Sampling neighbors0.0015456676483154297Retrieving neighbors 4.601478576660156e-05Sampling neighbors0.0013034343719482422Sampling neighbors0.0014188289642333984\n",
      "\n",
      "\n",
      "\n",
      "Sampling neighbors0.0018367767333984375\n",
      "Sampling negative edges 0.0011043548583984375Sampling negative edges 0.0010399818420410156\n",
      "Sampling negative edges 0.0010080337524414062\n",
      "\n",
      "Sampling negative neighbors 0.002866506576538086\n",
      "Sampling negative neighbors 0.003586292266845703Retrieving neighbors 3.552436828613281e-05Sampling negative neighbors 0.003512144088745117\n",
      "Sampling negative edges 0.0012257099151611328\n",
      "\n",
      "Retrieving neighbors 4.4345855712890625e-05\n",
      "Retrieving neighbors 3.3855438232421875e-05Sampling neighbors0.0013179779052734375\n",
      "\n",
      "\n",
      "Sampling negative neighbors 0.0038378238677978516Sampling neighbors0.001443624496459961\n",
      "Sampling neighbors0.0013823509216308594\n",
      "Retrieving neighbors 5.1975250244140625e-05\n",
      "\n",
      "Sampling negative edges 0.0010726451873779297Sampling negative edges 0.0009675025939941406\n",
      "Sampling neighbors0.0015094280242919922\n",
      "\n",
      "Sampling negative edges 0.0010867118835449219Sampling negative neighbors 0.0033648014068603516Sampling negative neighbors 0.002717733383178711\n",
      "\n",
      "\n",
      "Retrieving neighbors 3.4809112548828125e-05Retrieving neighbors 3.0517578125e-05\n",
      "Sampling negative neighbors 0.0035398006439208984\n",
      "\n",
      "Sampling neighbors0.001115560531616211Sampling negative edges 0.0011136531829833984Retrieving neighbors 3.62396240234375e-05Sampling neighbors0.0012416839599609375\n",
      "\n",
      "\n",
      "\n",
      "Sampling neighbors0.0012481212615966797\n",
      "Sampling negative neighbors 0.004064321517944336\n",
      "Sampling negative edges 0.0011441707611083984Sampling negative edges 0.0012884140014648438Retrieving neighbors 4.076957702636719e-05\n",
      "\n",
      "\n",
      "Sampling negative edges 0.0008809566497802734\n",
      "Sampling neighbors0.0016117095947265625Sampling negative neighbors 0.0034589767456054688Sampling negative neighbors 0.0035774707794189453\n",
      "\n",
      "\n",
      "Sampling negative neighbors 0.0029942989349365234\n",
      "Retrieving neighbors 3.409385681152344e-05Retrieving neighbors 4.2438507080078125e-05Retrieving neighbors 5.698204040527344e-05\n",
      "\n",
      "\n",
      "Sampling negative edges 0.0010647773742675781Sampling neighbors0.0015912055969238281Sampling neighbors0.0015645027160644531Sampling neighbors0.001270294189453125\n",
      "\n",
      "\n",
      "\n",
      "Sampling negative neighbors 0.0033140182495117188\n",
      "Retrieving neighbors 3.504753112792969e-05Sampling negative edges 0.0009772777557373047\n",
      "Sampling negative edges 0.0009105205535888672\n",
      "\n",
      "Sampling negative edges 0.0011317729949951172Sampling neighbors0.0012445449829101562\n",
      "\n",
      "Sampling negative neighbors 0.003178119659423828\n",
      "Sampling negative neighbors 0.0033206939697265625Sampling negative neighbors 0.0037641525268554688\n",
      "Retrieving neighbors 3.6716461181640625e-05\n",
      "\n",
      "Sampling negative edges 0.0009546279907226562Retrieving neighbors 5.221366882324219e-05Retrieving neighbors 3.1948089599609375e-05\n",
      "\n",
      "Sampling neighbors0.0013675689697265625\n",
      "\n",
      "Sampling negative neighbors 0.002781391143798828Sampling neighbors0.0014543533325195312Sampling neighbors0.001703500747680664\n",
      "\n",
      "\n",
      "Retrieving neighbors 3.337860107421875e-05\n",
      "Sampling negative edges 0.0008475780487060547Sampling neighbors0.0012159347534179688\n",
      "\n",
      "Sampling negative edges 0.0012323856353759766\n",
      "Sampling negative edges 0.0011761188507080078Sampling negative neighbors 0.003358602523803711\n",
      "\n",
      "Sampling negative neighbors 0.0028314590454101562Sampling negative edges 0.0009748935699462891\n",
      "Retrieving neighbors 4.649162292480469e-05\n",
      "\n",
      "Retrieving neighbors 3.6716461181640625e-05Sampling negative neighbors 0.00394749641418457\n",
      "Sampling negative neighbors 0.002775907516479492Sampling neighbors0.0013477802276611328\n",
      "\n",
      "\n",
      "Sampling neighbors0.001367330551147461Retrieving neighbors 0.00022745132446289062Retrieving neighbors 3.600120544433594e-05\n",
      "\n",
      "\n",
      "Sampling neighbors0.0013225078582763672Sampling neighbors0.00128173828125\n",
      "Sampling negative edges 0.0010497570037841797\n",
      "Sampling negative edges 0.0010042190551757812\n",
      "\n",
      "Sampling negative neighbors 0.003356456756591797Sampling negative edges 0.0009603500366210938Sampling negative edges 0.0009591579437255859Sampling negative neighbors 0.0030891895294189453\n",
      "\n",
      "\n",
      "\n",
      "Retrieving neighbors 5.173683166503906e-05Retrieving neighbors 3.528594970703125e-05\n",
      "Sampling negative neighbors 0.002943754196166992\n",
      "Sampling negative neighbors 0.0032155513763427734\n",
      "Sampling neighbors0.0012917518615722656\n",
      "Sampling neighbors0.001298666000366211Retrieving neighbors 3.218650817871094e-05\n",
      "Retrieving neighbors 4.887580871582031e-05\n",
      "\n",
      "\n",
      "Sampling neighbors0.0014224052429199219Sampling neighbors0.0013298988342285156\n",
      "\n",
      "Sampling negative edges 0.000995635986328125Sampling negative edges 0.001050710678100586\n",
      "\n",
      "Sampling negative neighbors 0.0031206607818603516Sampling negative neighbors 0.003246784210205078Sampling negative edges 0.0009386539459228516\n",
      "\n",
      "\n",
      "Sampling negative edges 0.0012888908386230469Retrieving neighbors 5.340576171875e-05Retrieving neighbors 4.124641418457031e-05\n",
      "\n",
      "\n",
      "Sampling negative neighbors 0.0035276412963867188\n",
      "Sampling neighbors0.0013709068298339844Sampling neighbors0.0014934539794921875Sampling negative neighbors 0.004176139831542969\n",
      "\n",
      "Retrieving neighbors 5.1021575927734375e-05\n",
      "\n",
      "Retrieving neighbors 4.744529724121094e-05Sampling neighbors0.001560211181640625\n",
      "Sampling negative edges 0.0011072158813476562\n",
      "Sampling negative edges 0.0010297298431396484\n",
      "\n",
      "Sampling neighbors0.0015416145324707031\n",
      "Sampling negative neighbors 0.0028982162475585938Sampling negative neighbors 0.0029172897338867188\n",
      "\n",
      "Sampling negative edges 0.0009717941284179688Retrieving neighbors 3.600120544433594e-05Retrieving neighbors 3.910064697265625e-05\n",
      "\n",
      "\n",
      "Sampling neighbors0.0012998580932617188Sampling negative edges 0.0011143684387207031Sampling negative neighbors 0.003331422805786133Sampling neighbors0.0014662742614746094\n",
      "\n",
      "\n",
      "\n",
      "Retrieving neighbors 4.839897155761719e-05\n",
      "Sampling negative neighbors 0.003996133804321289Sampling negative edges 0.0009438991546630859Sampling neighbors0.0012118816375732422\n",
      "Sampling negative edges 0.0011317729949951172\n",
      "\n",
      "Retrieving neighbors 3.8623809814453125e-05\n",
      "\n",
      "Sampling negative neighbors 0.002828836441040039\n",
      "Sampling negative neighbors 0.002876758575439453Sampling neighbors0.0014166831970214844\n",
      "Retrieving neighbors 3.409385681152344e-05Sampling negative edges 0.0009262561798095703\n",
      "Retrieving neighbors 3.361701965332031e-05\n",
      "\n",
      "\n",
      "Sampling neighbors0.0014100074768066406Sampling neighbors0.0010814666748046875\n",
      "Sampling negative neighbors 0.0032889842987060547\n",
      "\n",
      "Retrieving neighbors 3.314018249511719e-05Sampling negative edges 0.0009810924530029297\n",
      "\n",
      "Sampling negative edges 0.0009975433349609375Sampling negative edges 0.0008797645568847656Sampling neighbors0.0012373924255371094\n",
      "\n",
      "\n",
      "Sampling negative neighbors 0.003987789154052734\n",
      "Sampling negative neighbors 0.0029354095458984375Sampling negative neighbors 0.003055572509765625\n",
      "\n",
      "Retrieving neighbors 4.935264587402344e-05Retrieving neighbors 4.458427429199219e-05Sampling negative edges 0.0011129379272460938Retrieving neighbors 5.1021575927734375e-05\n",
      "\n",
      "\n",
      "\n",
      "Sampling neighbors0.0013964176177978516Sampling neighbors0.001882791519165039Sampling neighbors0.0014126300811767578Sampling negative neighbors 0.0029325485229492188\n",
      "\n",
      "\n",
      "\n",
      "Retrieving neighbors 3.4809112548828125e-05\n",
      "Sampling neighbors0.0010471343994140625\n",
      "Sampling negative edges 0.0012853145599365234Sampling negative edges 0.0010077953338623047Sampling negative edges 0.0011594295501708984\n",
      "\n",
      "\n",
      "Sampling negative neighbors 0.003368854522705078Sampling negative edges 0.0008053779602050781Sampling negative neighbors 0.0034618377685546875Sampling negative neighbors 0.0037240982055664062\n",
      "\n",
      "\n",
      "\n",
      "Retrieving neighbors 5.53131103515625e-05Retrieving neighbors 4.3392181396484375e-05\n",
      "Retrieving neighbors 3.933906555175781e-05\n",
      "\n",
      "Sampling negative neighbors 0.0035178661346435547Sampling neighbors0.001336812973022461\n",
      "\n",
      "Sampling neighbors0.001543283462524414Sampling neighbors0.001589059829711914Retrieving neighbors 3.910064697265625e-05\n",
      "\n",
      "\n",
      "Sampling neighbors0.0014507770538330078Sampling negative edges 0.0009443759918212891\n",
      "\n",
      "Sampling negative edges 0.001154184341430664Sampling negative edges 0.0011472702026367188\n",
      "Sampling negative neighbors 0.0030405521392822266\n",
      "\n",
      "Sampling negative neighbors 0.0031142234802246094Retrieving neighbors 3.695487976074219e-05Sampling negative edges 0.0010383129119873047\n",
      "\n",
      "\n",
      "Sampling negative neighbors 0.00403141975402832Retrieving neighbors 3.4332275390625e-05\n",
      "\n",
      "Sampling neighbors0.0013434886932373047Sampling negative neighbors 0.003367900848388672\n",
      "Retrieving neighbors 5.340576171875e-05\n",
      "Sampling neighbors0.0013616085052490234\n",
      "\n",
      "Retrieving neighbors 4.482269287109375e-05\n",
      "Sampling neighbors0.0015726089477539062\n",
      "Sampling neighbors0.0014789104461669922Sampling negative edges 0.0010325908660888672Sampling negative edges 0.0010578632354736328\n",
      "\n",
      "\n",
      "Sampling negative neighbors 0.0035784244537353516Sampling negative neighbors 0.0030286312103271484\n",
      "Sampling negative edges 0.0010271072387695312\n",
      "Retrieving neighbors 4.00543212890625e-05\n",
      "Sampling negative edges 0.001085042953491211Retrieving neighbors 4.863739013671875e-05\n",
      "\n",
      "\n",
      "Sampling neighbors0.0014193058013916016Sampling negative neighbors 0.003933906555175781\n",
      "Sampling negative neighbors 0.0036728382110595703Sampling neighbors0.0014567375183105469\n",
      "\n",
      "\n",
      "Retrieving neighbors 4.863739013671875e-05Retrieving neighbors 3.910064697265625e-05\n",
      "\n",
      "Sampling neighbors0.0014674663543701172Sampling negative edges 0.00101470947265625Sampling neighbors0.0016181468963623047\n",
      "\n",
      "Sampling negative edges 0.0012364387512207031\n",
      "\n",
      "Sampling negative neighbors 0.003499746322631836\n",
      "Sampling negative edges 0.0010519027709960938Retrieving neighbors 3.600120544433594e-05Sampling negative neighbors 0.003733396530151367Sampling negative edges 0.0010328292846679688\n",
      "\n",
      "\n",
      "\n",
      "Retrieving neighbors 3.457069396972656e-05Sampling neighbors0.0013041496276855469Sampling negative neighbors 0.0031037330627441406\n",
      "\n",
      "\n",
      "Sampling negative neighbors 0.0031890869140625Sampling neighbors0.0012812614440917969\n",
      "Retrieving neighbors 4.649162292480469e-05\n",
      "Retrieving neighbors 4.982948303222656e-05\n",
      "\n",
      "Sampling negative edges 0.0010249614715576172Sampling neighbors0.001661539077758789Sampling neighbors0.0012733936309814453\n",
      "\n",
      "\n",
      "Sampling negative edges 0.0010302066802978516\n",
      "Sampling negative neighbors 0.0037517547607421875\n",
      "Sampling negative neighbors 0.0031290054321289062Sampling negative edges 0.0010364055633544922\n",
      "\n",
      "Retrieving neighbors 5.2928924560546875e-05Sampling negative edges 0.0010006427764892578Retrieving neighbors 3.24249267578125e-05\n",
      "\n",
      "\n",
      "Sampling negative neighbors 0.0030243396759033203Sampling neighbors0.0016217231750488281Sampling neighbors0.0014448165893554688\n",
      "Sampling negative neighbors 0.003953456878662109\n",
      "\n",
      "Retrieving neighbors 4.4345855712890625e-05\n",
      "\n",
      "Retrieving neighbors 4.172325134277344e-05\n",
      "Sampling neighbors0.0012083053588867188Sampling negative edges 0.0010335445404052734\n",
      "\n",
      "Sampling neighbors0.001337289810180664Sampling negative edges 0.0010881423950195312\n",
      "\n",
      "Sampling negative neighbors 0.002883434295654297\n",
      "Retrieving neighbors 3.552436828613281e-05Sampling negative neighbors 0.003604412078857422Sampling negative edges 0.0010421276092529297\n",
      "\n",
      "\n",
      "Retrieving neighbors 4.863739013671875e-05Sampling negative edges 0.0011217594146728516Sampling neighbors0.0011990070343017578\n",
      "\n",
      "\n",
      "Sampling negative neighbors 0.0036172866821289062Sampling neighbors0.0013666152954101562\n",
      "\n",
      "Sampling negative neighbors 0.003757476806640625Retrieving neighbors 5.030632019042969e-05\n",
      "\n",
      "Sampling negative edges 0.0010945796966552734Retrieving neighbors 5.2928924560546875e-05\n",
      "Sampling neighbors0.001422882080078125Sampling negative edges 0.0009665489196777344\n",
      "\n",
      "\n",
      "Sampling negative neighbors 0.003341197967529297Sampling neighbors0.0016598701477050781\n",
      "Sampling negative neighbors 0.002748250961303711\n",
      "\n",
      "Retrieving neighbors 3.7670135498046875e-05Sampling negative edges 0.0009562969207763672\n",
      "Retrieving neighbors 3.838539123535156e-05\n",
      "\n",
      "Sampling neighbors0.0014920234680175781\n",
      "Sampling neighbors0.001434326171875Sampling negative neighbors 0.003305673599243164\n",
      "\n",
      "Sampling negative edges 0.0015461444854736328Retrieving neighbors 4.172325134277344e-05\n",
      "\n",
      "Sampling negative edges 0.0008749961853027344Sampling negative edges 0.001001596450805664Sampling neighbors0.0013885498046875\n",
      "\n",
      "\n",
      "Sampling negative neighbors 0.004382133483886719Sampling negative neighbors 0.002903461456298828\n",
      "\n",
      "Sampling negative neighbors 0.004436492919921875Retrieving neighbors 3.5762786865234375e-05Retrieving neighbors 5.555152893066406e-05\n",
      "\n",
      "\n",
      "Sampling negative edges 0.0016019344329833984Retrieving neighbors 3.838539123535156e-05\n",
      "Sampling neighbors0.001252889633178711\n",
      "Sampling neighbors0.001607656478881836\n",
      "\n",
      "Sampling neighbors0.0013573169708251953Sampling negative neighbors 0.0032067298889160156\n",
      "\n",
      "Retrieving neighbors 3.981590270996094e-05Sampling negative edges 0.0011289119720458984\n",
      "Sampling negative edges 0.0011086463928222656\n",
      "Sampling negative edges 0.0009541511535644531\n",
      "Sampling neighbors0.0013887882232666016\n",
      "\n",
      "Sampling negative neighbors 0.003042936325073242\n",
      "Sampling negative neighbors 0.003857851028442383Sampling negative neighbors 0.0029320716857910156\n",
      "\n",
      "Retrieving neighbors 3.6716461181640625e-05Retrieving neighbors 3.62396240234375e-05Retrieving neighbors 3.4809112548828125e-05\n",
      "\n",
      "\n",
      "Sampling neighbors0.0014562606811523438Sampling negative edges 0.001087188720703125Sampling neighbors0.0012750625610351562Sampling neighbors0.0012946128845214844\n",
      "\n",
      "\n",
      "\n",
      "Sampling negative neighbors 0.003989458084106445Sampling negative edges 0.001020669937133789\n",
      "Sampling negative edges 0.0009703636169433594Sampling negative edges 0.0010924339294433594\n",
      "\n",
      "Retrieving neighbors 4.9591064453125e-05\n",
      "\n",
      "Sampling negative neighbors 0.002979755401611328Sampling negative neighbors 0.003536224365234375Sampling negative neighbors 0.003255128860473633\n",
      "Sampling neighbors0.0015106201171875\n",
      "\n",
      "Retrieving neighbors 3.7670135498046875e-05\n",
      "Retrieving neighbors 3.528594970703125e-05\n",
      "Retrieving neighbors 5.1975250244140625e-05\n",
      "\n",
      "Sampling neighbors0.0014057159423828125Sampling neighbors0.0012416839599609375\n",
      "\n",
      "Sampling neighbors0.0015680789947509766Sampling negative edges 0.0013072490692138672\n",
      "\n",
      "Sampling negative edges 0.0008606910705566406Sampling negative neighbors 0.0035524368286132812\n",
      "Sampling negative edges 0.0010154247283935547\n",
      "\n",
      "Retrieving neighbors 4.792213439941406e-05Sampling negative edges 0.0011343955993652344Sampling negative neighbors 0.0029768943786621094\n",
      "\n",
      "\n",
      "Sampling negative neighbors 0.0037834644317626953Retrieving neighbors 3.790855407714844e-05Sampling neighbors0.0013782978057861328\n",
      "\n",
      "\n",
      "Sampling negative neighbors 0.003963470458984375Retrieving neighbors 3.4809112548828125e-05Sampling neighbors0.0012063980102539062\n",
      "\n",
      "\n",
      "Retrieving neighbors 3.4809112548828125e-05Sampling neighbors0.0014061927795410156\n",
      "\n",
      "Sampling negative edges 0.0009949207305908203Sampling neighbors0.0011990070343017578\n",
      "\n",
      "Sampling negative edges 0.0009093284606933594Sampling negative edges 0.0009028911590576172\n",
      "\n",
      "Sampling negative neighbors 0.003779172897338867Sampling negative edges 0.00090789794921875\n",
      "Sampling negative neighbors 0.003567218780517578\n",
      "Retrieving neighbors 4.506111145019531e-05Sampling negative neighbors 0.003056049346923828\n",
      "\n",
      "\n",
      "Retrieving neighbors 5.459785461425781e-05Sampling negative neighbors 0.003206491470336914Retrieving neighbors 4.9591064453125e-05Sampling neighbors0.001390218734741211\n",
      "\n",
      "\n",
      "\n",
      "Retrieving neighbors 5.650520324707031e-05Sampling neighbors0.0015726089477539062\n",
      "\n",
      "Sampling neighbors0.0015676021575927734\n",
      "Sampling neighbors0.0015065670013427734\n",
      "Sampling negative edges 0.0011413097381591797\n",
      "Sampling negative edges 0.001058816909790039\n",
      "Sampling negative edges 0.0011174678802490234\n",
      "Sampling negative neighbors 0.0038728713989257812Sampling negative edges 0.0010607242584228516Sampling negative neighbors 0.0035974979400634766\n",
      "\n",
      "\n",
      "Sampling negative neighbors 0.0037844181060791016Retrieving neighbors 3.886222839355469e-05\n",
      "Retrieving neighbors 7.915496826171875e-05Sampling negative neighbors 0.0037429332733154297\n",
      "\n",
      "\n",
      "Sampling neighbors0.0012710094451904297Retrieving neighbors 3.1948089599609375e-05Sampling neighbors0.0016074180603027344\n",
      "\n",
      "\n",
      "Sampling neighbors0.0012319087982177734\n",
      "Sampling negative edges 0.0009529590606689453\n",
      "Sampling negative edges 0.0010864734649658203\n",
      "Sampling negative neighbors 0.0027031898498535156Sampling negative edges 0.0008754730224609375\n",
      "\n",
      "Sampling negative neighbors 0.0029439926147460938\n",
      "Sampling negative neighbors 0.00273895263671875\n",
      "Retrieving neighbors 3.933906555175781e-05\n",
      "Sampling neighbors0.0012252330780029297\n",
      "Sampling negative edges 0.0008666515350341797\n",
      "Sampling negative neighbors 0.003072023391723633\n"
     ]
    },
    {
     "data": {
      "text/plain": "0.42121338844299316"
     },
     "execution_count": 12,
     "metadata": {},
     "output_type": "execute_result"
    }
   ],
   "source": [
    "import time\n",
    "t0 = time.time()\n",
    "for i in dataloader:\n",
    "    t1 = time.time()\n",
    "    break\n",
    "t1-t0"
   ],
   "metadata": {
    "collapsed": false,
    "pycharm": {
     "name": "#%%\n"
    }
   }
  },
  {
   "cell_type": "code",
   "execution_count": 3,
   "outputs": [],
   "source": [
    "val_dataset = Triplet_Dataset(file_path=val_path, n_users=1000, n_items=10000,k=2)\n",
    "val_dataloader = DataLoader(val_dataset, batch_size=4, num_workers=4)"
   ],
   "metadata": {
    "collapsed": false,
    "pycharm": {
     "name": "#%%\n"
    }
   }
  },
  {
   "cell_type": "code",
   "execution_count": 34,
   "outputs": [],
   "source": [
    "# Create Model Object\n",
    "x, y, x_neighbors, y_neighbors, x_negative, y_negative, negative_x, negative_y = dataset.__getitem__(0)"
   ],
   "metadata": {
    "collapsed": false,
    "pycharm": {
     "name": "#%%\n"
    }
   }
  },
  {
   "cell_type": "code",
   "execution_count": 3,
   "outputs": [],
   "source": [],
   "metadata": {
    "collapsed": false,
    "pycharm": {
     "name": "#%%\n"
    }
   }
  },
  {
   "cell_type": "code",
   "execution_count": 1,
   "outputs": [],
   "source": [
    "from src.models.CSE.model import model\n",
    "import os\n",
    "import time\n",
    "model = model()"
   ],
   "metadata": {
    "collapsed": false,
    "pycharm": {
     "name": "#%%\n"
    }
   }
  },
  {
   "cell_type": "code",
   "execution_count": 3,
   "outputs": [],
   "source": [
    "EPOCH = 50\n",
    "from tqdm import tqdm\n",
    "import torch\n",
    "optimizer = model.configure_optimizers()\n",
    "run_id = time.strftime(\"%Y%m%d-%H%M%S\")\n",
    "log_dir = f\"/home/jimmy/CILProject22/reports/logs/{run_id}_pretrain\"\n",
    "if not os.path.exists(log_dir):\n",
    "    os.makedirs(log_dir)\n",
    "    # Create logging file"
   ],
   "metadata": {
    "collapsed": false,
    "pycharm": {
     "name": "#%%\n"
    }
   }
  },
  {
   "cell_type": "code",
   "execution_count": null,
   "outputs": [],
   "source": [
    "for i in range(EPOCH):\n",
    "    print(f'Epoch {i}')\n",
    "    train_loss = 0\n",
    "    model.train()\n",
    "    for batch in tqdm(dataloader):\n",
    "        loss = model.training_step(batch, batch_idx=0)\n",
    "        optimizer.zero_grad()\n",
    "        loss.backward()\n",
    "        optimizer.step()\n",
    "        train_loss += loss\n",
    "    print(f'Train Loss: {train_loss/len(dataloader)}')\n",
    "    model.eval()\n",
    "    print(f'Validating')\n",
    "    model.eval()\n",
    "    with torch.no_grad():\n",
    "        val_loss = 0\n",
    "        for batch in tqdm(val_dataloader):\n",
    "            loss = model.val_step(batch, batch_idx=0)\n",
    "            val_loss += loss\n",
    "        print(f'Val Loss: {val_loss/len(val_dataloader)}')\n",
    "\n",
    "    torch.save({\n",
    "        'epoch': i,\n",
    "        'model_state_dict': model.state_dict(),\n",
    "        'loss': train_loss\n",
    "    }, log_dir+f'/model_{i}.pth')"
   ],
   "metadata": {
    "collapsed": false,
    "pycharm": {
     "name": "#%%\n"
    }
   }
  },
  {
   "cell_type": "code",
   "execution_count": 8,
   "outputs": [],
   "source": [
    "phi, phi_IC, phi_UC = model(x)"
   ],
   "metadata": {
    "collapsed": false,
    "pycharm": {
     "name": "#%%\n"
    }
   }
  },
  {
   "cell_type": "code",
   "execution_count": 9,
   "outputs": [
    {
     "data": {
      "text/plain": "torch.Size([10])"
     },
     "execution_count": 9,
     "metadata": {},
     "output_type": "execute_result"
    }
   ],
   "source": [
    "phi.size()"
   ],
   "metadata": {
    "collapsed": false,
    "pycharm": {
     "name": "#%%\n"
    }
   }
  },
  {
   "cell_type": "code",
   "execution_count": 10,
   "outputs": [],
   "source": [
    "phin, phin_IC, phin_UC = model(x_neighbors)"
   ],
   "metadata": {
    "collapsed": false,
    "pycharm": {
     "name": "#%%\n"
    }
   }
  },
  {
   "cell_type": "code",
   "execution_count": 11,
   "outputs": [
    {
     "data": {
      "text/plain": "torch.Size([1, 10])"
     },
     "execution_count": 11,
     "metadata": {},
     "output_type": "execute_result"
    }
   ],
   "source": [
    "phin.size()"
   ],
   "metadata": {
    "collapsed": false,
    "pycharm": {
     "name": "#%%\n"
    }
   }
  },
  {
   "cell_type": "code",
   "execution_count": 15,
   "outputs": [],
   "source": [
    "x_neighbors.size()\n",
    "import torch"
   ],
   "metadata": {
    "collapsed": false,
    "pycharm": {
     "name": "#%%\n"
    }
   }
  },
  {
   "cell_type": "code",
   "execution_count": 24,
   "outputs": [
    {
     "data": {
      "text/plain": "tensor([2.6093], grad_fn=<ReshapeAliasBackward0>)"
     },
     "execution_count": 24,
     "metadata": {},
     "output_type": "execute_result"
    }
   ],
   "source": [
    "torch.inner(phi, phin)"
   ],
   "metadata": {
    "collapsed": false,
    "pycharm": {
     "name": "#%%\n"
    }
   }
  },
  {
   "cell_type": "code",
   "execution_count": 26,
   "outputs": [],
   "source": [
    "phi_n, phi_n_IC, phi_n_UC = model(x_negative)"
   ],
   "metadata": {
    "collapsed": false,
    "pycharm": {
     "name": "#%%\n"
    }
   }
  },
  {
   "cell_type": "code",
   "execution_count": 28,
   "outputs": [
    {
     "data": {
      "text/plain": "tensor([ 0.0206, -3.3579, -2.3495, -1.2092, -1.9400],\n       grad_fn=<ReshapeAliasBackward0>)"
     },
     "execution_count": 28,
     "metadata": {},
     "output_type": "execute_result"
    }
   ],
   "source": [
    "torch.inner(phi_n, phi)"
   ],
   "metadata": {
    "collapsed": false,
    "pycharm": {
     "name": "#%%\n"
    }
   }
  },
  {
   "cell_type": "code",
   "execution_count": 29,
   "outputs": [
    {
     "data": {
      "text/plain": "tensor(0.0206, grad_fn=<ReshapeAliasBackward0>)"
     },
     "execution_count": 29,
     "metadata": {},
     "output_type": "execute_result"
    }
   ],
   "source": [
    "torch.inner(phi_n[0], phi)"
   ],
   "metadata": {
    "collapsed": false,
    "pycharm": {
     "name": "#%%\n"
    }
   }
  },
  {
   "cell_type": "code",
   "execution_count": 37,
   "outputs": [
    {
     "data": {
      "text/plain": "tensor(True)"
     },
     "execution_count": 37,
     "metadata": {},
     "output_type": "execute_result"
    }
   ],
   "source": [
    "y > 1000"
   ],
   "metadata": {
    "collapsed": false,
    "pycharm": {
     "name": "#%%\n"
    }
   }
  },
  {
   "cell_type": "code",
   "execution_count": 31,
   "outputs": [],
   "source": [
    "x, y = y, x"
   ],
   "metadata": {
    "collapsed": false,
    "pycharm": {
     "name": "#%%\n"
    }
   }
  },
  {
   "cell_type": "code",
   "execution_count": 32,
   "outputs": [
    {
     "data": {
      "text/plain": "5"
     },
     "execution_count": 32,
     "metadata": {},
     "output_type": "execute_result"
    }
   ],
   "source": [
    "x"
   ],
   "metadata": {
    "collapsed": false,
    "pycharm": {
     "name": "#%%\n"
    }
   }
  },
  {
   "cell_type": "code",
   "execution_count": 53,
   "outputs": [],
   "source": [
    "import torch.nn.functional as F"
   ],
   "metadata": {
    "collapsed": false,
    "pycharm": {
     "name": "#%%\n"
    }
   }
  },
  {
   "cell_type": "code",
   "execution_count": 57,
   "outputs": [],
   "source": [
    "test_x, test_IC = torch.ones((32, 5, 5)), torch.ones((32, 5, 5))"
   ],
   "metadata": {
    "collapsed": false,
    "pycharm": {
     "name": "#%%\n"
    }
   }
  },
  {
   "cell_type": "code",
   "execution_count": 60,
   "outputs": [
    {
     "data": {
      "text/plain": "torch.Size([32, 5])"
     },
     "execution_count": 60,
     "metadata": {},
     "output_type": "execute_result"
    }
   ],
   "source": [
    "F.logsigmoid(torch.sum(torch.mul(test_x, test_IC), dim=2)).size()"
   ],
   "metadata": {
    "collapsed": false,
    "pycharm": {
     "name": "#%%\n"
    }
   }
  },
  {
   "cell_type": "code",
   "execution_count": null,
   "outputs": [],
   "source": [
    "test_x, test_IC = torch.ones((32, 5)), torch.ones((32, 5))"
   ],
   "metadata": {
    "collapsed": false,
    "pycharm": {
     "name": "#%%\n"
    }
   }
  }
 ],
 "metadata": {
  "kernelspec": {
   "display_name": "Python 3.9.12 ('web3')",
   "language": "python",
   "name": "python3"
  },
  "language_info": {
   "codemirror_mode": {
    "name": "ipython",
    "version": 3
   },
   "file_extension": ".py",
   "mimetype": "text/x-python",
   "name": "python",
   "nbconvert_exporter": "python",
   "pygments_lexer": "ipython3",
   "version": "3.9.12"
  },
  "orig_nbformat": 4,
  "vscode": {
   "interpreter": {
    "hash": "b2522a7ac3b60f852504f7e2e80aa0b42867087115d2f979bf28cdf9a03dea8d"
   }
  }
 },
 "nbformat": 4,
 "nbformat_minor": 2
}