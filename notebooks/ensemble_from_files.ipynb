{
 "cells": [
  {
   "cell_type": "code",
   "execution_count": 1,
   "metadata": {},
   "outputs": [],
   "source": [
    "import pandas as pd "
   ]
  },
  {
   "cell_type": "code",
   "execution_count": 2,
   "metadata": {},
   "outputs": [],
   "source": [
    "paths = [\n",
    "    '/home/ubuntu/projects/CILProject22/reports/logs/20220722-222403_UserAutoEncoder/UserAutoEncoder_split_0/submission.csv',\n",
    "    '/home/ubuntu/projects/CILProject22/reports/logs/20220722-222403_UserAutoEncoder/UserAutoEncoder_split_1/submission.csv',\n",
    "    '/home/ubuntu/projects/CILProject22/reports/logs/20220722-222403_UserAutoEncoder/UserAutoEncoder_split_2/submission.csv',\n",
    "    '/home/ubuntu/projects/CILProject22/reports/logs/20220722-222403_UserAutoEncoder/UserAutoEncoder_split_3/submission.csv',\n",
    "    '/home/ubuntu/projects/CILProject22/reports/logs/20220722-222403_UserAutoEncoder/UserAutoEncoder_split_4/submission.csv',\n",
    "]"
   ]
  },
  {
   "cell_type": "code",
   "execution_count": 3,
   "metadata": {},
   "outputs": [],
   "source": [
    "# load all the files\n",
    "dfs = [pd.read_csv(path) for path in paths]"
   ]
  },
  {
   "cell_type": "code",
   "execution_count": 4,
   "metadata": {},
   "outputs": [],
   "source": [
    "# iterate over dfs and avg prediciton column \n",
    "prediction = dfs[0]['Prediction']\n",
    "for df in dfs[1:]:\n",
    "    prediction += df['Prediction']\n",
    "prediction /= len(dfs)"
   ]
  },
  {
   "cell_type": "code",
   "execution_count": 5,
   "metadata": {},
   "outputs": [],
   "source": [
    "# save as submission\n",
    "submission = pd.DataFrame({'Id': dfs[0]['Id'], 'Prediction': prediction})\n",
    "submission.to_csv('../ensembles/ensemble_submission.csv', index=False)"
   ]
  },
  {
   "cell_type": "code",
   "execution_count": null,
   "metadata": {},
   "outputs": [],
   "source": []
  },
  {
   "cell_type": "code",
   "execution_count": null,
   "metadata": {},
   "outputs": [],
   "source": []
  }
 ],
 "metadata": {
  "kernelspec": {
   "display_name": "Python 3.9.11 ('rf39')",
   "language": "python",
   "name": "python3"
  },
  "language_info": {
   "codemirror_mode": {
    "name": "ipython",
    "version": 3
   },
   "file_extension": ".py",
   "mimetype": "text/x-python",
   "name": "python",
   "nbconvert_exporter": "python",
   "pygments_lexer": "ipython3",
   "version": "3.9.11"
  },
  "orig_nbformat": 4,
  "vscode": {
   "interpreter": {
    "hash": "8f25b66d63a8b611ffebb7d3fe7e2d7d379acd3408485d72362aa7d687189f63"
   }
  }
 },
 "nbformat": 4,
 "nbformat_minor": 2
}
