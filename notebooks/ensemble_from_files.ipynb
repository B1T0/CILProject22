{
 "cells": [
  {
   "cell_type": "code",
   "execution_count": 1,
   "metadata": {},
   "outputs": [],
   "source": [
    "import pandas as pd "
   ]
  },
  {
   "cell_type": "code",
   "execution_count": 29,
   "metadata": {},
   "outputs": [],
   "source": [
    "paths = [\n",
    "    '/home/ubuntu/projects/CILProject22/reports/logs/20220715-204808_AutoEncoder/submission.csv',\n",
    "    '/home/ubuntu/projects/CILProject22/reports/logs/20220715-204218_AutoEncoder/submission.csv',\n",
    "    '/home/ubuntu/projects/CILProject22/reports/logs/20220715-205115_AutoEncoder/submission.csv',\n",
    "    '/home/ubuntu/projects/CILProject22/reports/logs/20220715-204939_AutoEncoder/submission.csv',\n",
    "    '/home/ubuntu/projects/CILProject22/reports/logs/20220715-210334_AutoEncoder/submission.csv'\n",
    "]"
   ]
  },
  {
   "cell_type": "code",
   "execution_count": 30,
   "metadata": {},
   "outputs": [],
   "source": [
    "# load all the files\n",
    "dfs = [pd.read_csv(path) for path in paths]"
   ]
  },
  {
   "cell_type": "code",
   "execution_count": 31,
   "metadata": {},
   "outputs": [],
   "source": [
    "# iterate over dfs and avg prediciton column \n",
    "prediction = dfs[0]['Prediction']\n",
    "for df in dfs[1:]:\n",
    "    prediction += df['Prediction']\n",
    "prediction /= len(dfs)"
   ]
  },
  {
   "cell_type": "code",
   "execution_count": 32,
   "metadata": {},
   "outputs": [],
   "source": [
    "# save as submission\n",
    "submission = pd.DataFrame({'Id': dfs[0]['Id'], 'Prediction': prediction})\n",
    "submission.to_csv('../ensembles/ensemble_submission.csv', index=False)"
   ]
  },
  {
   "cell_type": "code",
   "execution_count": null,
   "metadata": {},
   "outputs": [],
   "source": []
  },
  {
   "cell_type": "code",
   "execution_count": null,
   "metadata": {},
   "outputs": [],
   "source": []
  }
 ],
 "metadata": {
  "kernelspec": {
   "display_name": "Python 3.9.12 ('cil')",
   "language": "python",
   "name": "python3"
  },
  "language_info": {
   "codemirror_mode": {
    "name": "ipython",
    "version": 3
   },
   "file_extension": ".py",
   "mimetype": "text/x-python",
   "name": "python",
   "nbconvert_exporter": "python",
   "pygments_lexer": "ipython3",
   "version": "3.9.12"
  },
  "orig_nbformat": 4,
  "vscode": {
   "interpreter": {
    "hash": "a80f79fed1d9603b94d0c3a24c00b7d1ffc761220aaf7d5df506f45cba7fffa6"
   }
  }
 },
 "nbformat": 4,
 "nbformat_minor": 2
}
