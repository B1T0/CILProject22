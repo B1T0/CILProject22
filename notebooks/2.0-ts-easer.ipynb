{
 "cells": [
  {
   "cell_type": "markdown",
   "metadata": {},
   "source": [
    "# EASEr\n",
    "\n",
    "Based on https://arxiv.org/pdf/1905.03375v1.pdf by Harald Steck"
   ]
  },
  {
   "cell_type": "code",
   "execution_count": 1,
   "metadata": {},
   "outputs": [],
   "source": [
    "import numpy as np\n",
    "import pandas as pd\n",
    "import seaborn as sns"
   ]
  },
  {
   "cell_type": "markdown",
   "metadata": {},
   "source": [
    "### Cross Validation"
   ]
  },
  {
   "cell_type": "code",
   "execution_count": 2,
   "metadata": {},
   "outputs": [],
   "source": [
    "def load_adjacency_matrix(path) -> np.ndarray:\n",
    "    df = pd.read_csv(path)\n",
    "    inc_df = df.Id.str.split(\"_\", expand=True)\n",
    "    inc_df.columns = [\"user\", \"movie\"]\n",
    "    inc_df[\"rating\"] = df.Prediction\n",
    "\n",
    "    A = np.zeros((10000,1000), dtype=np.float32)\n",
    "    users = inc_df[\"user\"].apply(lambda x: int(x[1:])-1)\n",
    "    movies = inc_df[\"movie\"].apply(lambda x: int(x[1:])-1)\n",
    "    ratings = inc_df[\"rating\"]\n",
    "    A[users, movies] = ratings\n",
    "\n",
    "    return A\n",
    "\n",
    "\n",
    "def run_EASEr(split=0, l2_reg=500):\n",
    "    X_train = load_adjacency_matrix(f\"../data/cross_validation/train_split_{split}.csv\")\n",
    "    X_test = load_adjacency_matrix(f\"../data/cross_validation/test_split_{split}.csv\")\n",
    "\n",
    "    X_train[X_train == 0] = np.nan\n",
    "    mu = np.nanmean(X_train, axis=0)\n",
    "    s = np.nanstd(X_train, axis=0)\n",
    "    s = np.ones_like(s)\n",
    "    X_train = (X_train - mu) / s\n",
    "    X_train = np.nan_to_num(X_train)\n",
    "\n",
    "    # EASEr\n",
    "    G = np.matmul(X_train.T, X_train)\n",
    "    diagIndices = np.diag_indices(G.shape[0])\n",
    "    G[diagIndices] += l2_reg\n",
    "    P = np.linalg.inv(G)\n",
    "    B = P / (-np.diag(P))\n",
    "    B[diagIndices] = 0\n",
    "\n",
    "    S = np.matmul(X_train, B)\n",
    "\n",
    "    S = S * s + mu\n",
    "    X_train = X_train * s + mu\n",
    "\n",
    "    # Compute RMSE\n",
    "    train_rmse = np.sqrt(np.mean((S - X_train)[X_train.nonzero()]**2))\n",
    "    valid_rmse = np.sqrt(np.mean((S - X_test)[X_test.nonzero()]**2))\n",
    "\n",
    "    print(f\"l2: {l2_reg:<4}, Split {split}, Train RMSE: {train_rmse:.3f}, Test RMSE: {valid_rmse:.3f}\")"
   ]
  },
  {
   "cell_type": "code",
   "execution_count": 3,
   "metadata": {},
   "outputs": [
    {
     "name": "stdout",
     "output_type": "stream",
     "text": [
      "l2: 500 , Split 0, Train RMSE: 0.294, Test RMSE: 1.015\n",
      "l2: 500 , Split 1, Train RMSE: 0.294, Test RMSE: 1.014\n",
      "l2: 500 , Split 2, Train RMSE: 0.293, Test RMSE: 1.016\n",
      "l2: 500 , Split 3, Train RMSE: 0.294, Test RMSE: 1.013\n",
      "l2: 500 , Split 4, Train RMSE: 0.294, Test RMSE: 1.014\n"
     ]
    }
   ],
   "source": [
    "for i in range(5):\n",
    "    run_EASEr(i)"
   ]
  },
  {
   "cell_type": "markdown",
   "metadata": {},
   "source": [
    "### Submission"
   ]
  },
  {
   "cell_type": "code",
   "execution_count": 4,
   "metadata": {},
   "outputs": [
    {
     "data": {
      "text/html": [
       "<div>\n",
       "<style scoped>\n",
       "    .dataframe tbody tr th:only-of-type {\n",
       "        vertical-align: middle;\n",
       "    }\n",
       "\n",
       "    .dataframe tbody tr th {\n",
       "        vertical-align: top;\n",
       "    }\n",
       "\n",
       "    .dataframe thead th {\n",
       "        text-align: right;\n",
       "    }\n",
       "</style>\n",
       "<table border=\"1\" class=\"dataframe\">\n",
       "  <thead>\n",
       "    <tr style=\"text-align: right;\">\n",
       "      <th></th>\n",
       "      <th>Id</th>\n",
       "      <th>Prediction</th>\n",
       "    </tr>\n",
       "  </thead>\n",
       "  <tbody>\n",
       "    <tr>\n",
       "      <th>0</th>\n",
       "      <td>r37_c1</td>\n",
       "      <td>3.310669</td>\n",
       "    </tr>\n",
       "    <tr>\n",
       "      <th>1</th>\n",
       "      <td>r73_c1</td>\n",
       "      <td>3.297220</td>\n",
       "    </tr>\n",
       "    <tr>\n",
       "      <th>2</th>\n",
       "      <td>r156_c1</td>\n",
       "      <td>3.476232</td>\n",
       "    </tr>\n",
       "    <tr>\n",
       "      <th>3</th>\n",
       "      <td>r160_c1</td>\n",
       "      <td>3.520969</td>\n",
       "    </tr>\n",
       "    <tr>\n",
       "      <th>4</th>\n",
       "      <td>r248_c1</td>\n",
       "      <td>3.313321</td>\n",
       "    </tr>\n",
       "    <tr>\n",
       "      <th>...</th>\n",
       "      <td>...</td>\n",
       "      <td>...</td>\n",
       "    </tr>\n",
       "    <tr>\n",
       "      <th>1176947</th>\n",
       "      <td>r9974_c1000</td>\n",
       "      <td>3.695198</td>\n",
       "    </tr>\n",
       "    <tr>\n",
       "      <th>1176948</th>\n",
       "      <td>r9977_c1000</td>\n",
       "      <td>3.787234</td>\n",
       "    </tr>\n",
       "    <tr>\n",
       "      <th>1176949</th>\n",
       "      <td>r9978_c1000</td>\n",
       "      <td>3.789125</td>\n",
       "    </tr>\n",
       "    <tr>\n",
       "      <th>1176950</th>\n",
       "      <td>r9982_c1000</td>\n",
       "      <td>3.589844</td>\n",
       "    </tr>\n",
       "    <tr>\n",
       "      <th>1176951</th>\n",
       "      <td>r9996_c1000</td>\n",
       "      <td>3.647300</td>\n",
       "    </tr>\n",
       "  </tbody>\n",
       "</table>\n",
       "<p>1176952 rows × 2 columns</p>\n",
       "</div>"
      ],
      "text/plain": [
       "                  Id  Prediction\n",
       "0             r37_c1    3.310669\n",
       "1             r73_c1    3.297220\n",
       "2            r156_c1    3.476232\n",
       "3            r160_c1    3.520969\n",
       "4            r248_c1    3.313321\n",
       "...              ...         ...\n",
       "1176947  r9974_c1000    3.695198\n",
       "1176948  r9977_c1000    3.787234\n",
       "1176949  r9978_c1000    3.789125\n",
       "1176950  r9982_c1000    3.589844\n",
       "1176951  r9996_c1000    3.647300\n",
       "\n",
       "[1176952 rows x 2 columns]"
      ]
     },
     "execution_count": 4,
     "metadata": {},
     "output_type": "execute_result"
    }
   ],
   "source": [
    "l2_reg = 500\n",
    "X_train = load_adjacency_matrix(\"../data/data_train.csv\")\n",
    "\n",
    "X_train[X_train == 0] = np.nan\n",
    "mu = np.nanmean(X_train, axis=0)\n",
    "s = np.nanstd(X_train, axis=0)\n",
    "s = np.ones_like(s)\n",
    "X_train = (X_train - mu) / s\n",
    "X_train = np.nan_to_num(X_train)\n",
    "\n",
    "# EASEr\n",
    "G = np.matmul(X_train.T, X_train)\n",
    "diagIndices = np.diag_indices(G.shape[0])\n",
    "G[diagIndices] += l2_reg\n",
    "P = np.linalg.inv(G)\n",
    "B = P / (-np.diag(P))\n",
    "B[diagIndices] = 0\n",
    "\n",
    "S = np.matmul(X_train, B)\n",
    "\n",
    "pred = S * s + mu\n",
    "\n",
    "sample_sub = pd.read_csv(\"../data/sampleSubmission.csv\")\n",
    "prediction = []\n",
    "for cell_id in sample_sub.Id:\n",
    "    row, col = cell_id.split(\"_\")\n",
    "    prediction.append(pred[int(row[1:])-1, int(col[1:])-1])\n",
    "sample_sub.Prediction = prediction\n",
    "sample_sub.to_csv(\"../data/easer.csv\", index=False)\n",
    "sample_sub"
   ]
  },
  {
   "cell_type": "markdown",
   "metadata": {},
   "source": [
    "### Visualization"
   ]
  },
  {
   "cell_type": "code",
   "execution_count": 5,
   "metadata": {},
   "outputs": [
    {
     "data": {
      "text/plain": [
       "<seaborn.axisgrid.JointGrid at 0x12ce31610>"
      ]
     },
     "execution_count": 5,
     "metadata": {},
     "output_type": "execute_result"
    },
    {
     "data": {
      "image/png": "[encoded data removed]",
      "text/plain": [
       "<Figure size 432x432 with 3 Axes>"
      ]
     },
     "metadata": {
      "needs_background": "light"
     },
     "output_type": "display_data"
    }
   ],
   "source": [
    "nonzero_ratings = pd.DataFrame({\"true\": X_train[X_train.nonzero()].flatten(), \n",
    "                                \"pred\": S[X_train.nonzero()].flatten()})\n",
    "\n",
    "sns.jointplot(x=\"true\", y=\"pred\", data=nonzero_ratings, kind=\"reg\", truncate=False)"
   ]
  },
  {
   "cell_type": "code",
   "execution_count": 6,
   "metadata": {},
   "outputs": [
    {
     "data": {
      "text/plain": [
       "<seaborn.axisgrid.JointGrid at 0x13a75a9a0>"
      ]
     },
     "execution_count": 6,
     "metadata": {},
     "output_type": "execute_result"
    },
    {
     "data": {
      "image/png": "[encoded data removed]",
      "text/plain": [
       "<Figure size 432x432 with 3 Axes>"
      ]
     },
     "metadata": {
      "needs_background": "light"
     },
     "output_type": "display_data"
    }
   ],
   "source": [
    "data_train = load_adjacency_matrix(\"../data/data_train.csv\")\n",
    "\n",
    "nonzero_ratings = pd.DataFrame({\"true\": data_train[data_train.nonzero()].flatten(), \n",
    "                                \"pred\": pred[data_train.nonzero()].flatten()})\n",
    "\n",
    "sns.jointplot(x=\"true\", y=\"pred\", data=nonzero_ratings, kind=\"reg\", truncate=False)"
   ]
  },
  {
   "cell_type": "code",
   "execution_count": null,
   "metadata": {},
   "outputs": [],
   "source": []
  }
 ],
 "metadata": {
  "kernelspec": {
   "display_name": "Python 3.9.12 64-bit",
   "language": "python",
   "name": "python3"
  },
  "language_info": {
   "codemirror_mode": {
    "name": "ipython",
    "version": 3
   },
   "file_extension": ".py",
   "mimetype": "text/x-python",
   "name": "python",
   "nbconvert_exporter": "python",
   "pygments_lexer": "ipython3",
   "version": "3.9.12"
  },
  "orig_nbformat": 4,
  "vscode": {
   "interpreter": {
    "hash": "aee8b7b246df8f9039afb4144a1f6fd8d2ca17a180786b69acc140d282b71a49"
   }
  }
 },
 "nbformat": 4,
 "nbformat_minor": 2
}
