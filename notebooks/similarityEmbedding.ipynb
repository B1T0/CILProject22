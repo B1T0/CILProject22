{
 "cells": [
  {
   "cell_type": "code",
   "execution_count": 2,
   "metadata": {
    "pycharm": {
     "name": "#%%\n"
    }
   },
   "outputs": [],
   "source": [
    "import pandas as pd\n",
    "import numpy as np"
   ]
  },
  {
   "cell_type": "code",
   "execution_count": 11,
   "metadata": {
    "pycharm": {
     "name": "#%%\n"
    }
   },
   "outputs": [
    {
     "data": {
      "text/html": [
       "<div>\n",
       "<style scoped>\n",
       "    .dataframe tbody tr th:only-of-type {\n",
       "        vertical-align: middle;\n",
       "    }\n",
       "\n",
       "    .dataframe tbody tr th {\n",
       "        vertical-align: top;\n",
       "    }\n",
       "\n",
       "    .dataframe thead th {\n",
       "        text-align: right;\n",
       "    }\n",
       "</style>\n",
       "<table border=\"1\" class=\"dataframe\">\n",
       "  <thead>\n",
       "    <tr style=\"text-align: right;\">\n",
       "      <th></th>\n",
       "      <th>user_id</th>\n",
       "      <th>item_id</th>\n",
       "      <th>combined</th>\n",
       "      <th>prediction</th>\n",
       "    </tr>\n",
       "  </thead>\n",
       "  <tbody>\n",
       "    <tr>\n",
       "      <th>0</th>\n",
       "      <td>44</td>\n",
       "      <td>1</td>\n",
       "      <td>(44, 1)</td>\n",
       "      <td>4</td>\n",
       "    </tr>\n",
       "    <tr>\n",
       "      <th>1</th>\n",
       "      <td>61</td>\n",
       "      <td>1</td>\n",
       "      <td>(61, 1)</td>\n",
       "      <td>3</td>\n",
       "    </tr>\n",
       "    <tr>\n",
       "      <th>2</th>\n",
       "      <td>67</td>\n",
       "      <td>1</td>\n",
       "      <td>(67, 1)</td>\n",
       "      <td>4</td>\n",
       "    </tr>\n",
       "    <tr>\n",
       "      <th>3</th>\n",
       "      <td>72</td>\n",
       "      <td>1</td>\n",
       "      <td>(72, 1)</td>\n",
       "      <td>3</td>\n",
       "    </tr>\n",
       "    <tr>\n",
       "      <th>4</th>\n",
       "      <td>86</td>\n",
       "      <td>1</td>\n",
       "      <td>(86, 1)</td>\n",
       "      <td>5</td>\n",
       "    </tr>\n",
       "    <tr>\n",
       "      <th>...</th>\n",
       "      <td>...</td>\n",
       "      <td>...</td>\n",
       "      <td>...</td>\n",
       "      <td>...</td>\n",
       "    </tr>\n",
       "    <tr>\n",
       "      <th>95</th>\n",
       "      <td>2706</td>\n",
       "      <td>1</td>\n",
       "      <td>(2706, 1)</td>\n",
       "      <td>4</td>\n",
       "    </tr>\n",
       "    <tr>\n",
       "      <th>96</th>\n",
       "      <td>2820</td>\n",
       "      <td>1</td>\n",
       "      <td>(2820, 1)</td>\n",
       "      <td>3</td>\n",
       "    </tr>\n",
       "    <tr>\n",
       "      <th>97</th>\n",
       "      <td>2883</td>\n",
       "      <td>1</td>\n",
       "      <td>(2883, 1)</td>\n",
       "      <td>2</td>\n",
       "    </tr>\n",
       "    <tr>\n",
       "      <th>98</th>\n",
       "      <td>2939</td>\n",
       "      <td>1</td>\n",
       "      <td>(2939, 1)</td>\n",
       "      <td>3</td>\n",
       "    </tr>\n",
       "    <tr>\n",
       "      <th>99</th>\n",
       "      <td>2942</td>\n",
       "      <td>1</td>\n",
       "      <td>(2942, 1)</td>\n",
       "      <td>4</td>\n",
       "    </tr>\n",
       "  </tbody>\n",
       "</table>\n",
       "<p>100 rows × 4 columns</p>\n",
       "</div>"
      ],
      "text/plain": [
       "   user_id item_id   combined  prediction\n",
       "0       44       1    (44, 1)           4\n",
       "1       61       1    (61, 1)           3\n",
       "2       67       1    (67, 1)           4\n",
       "3       72       1    (72, 1)           3\n",
       "4       86       1    (86, 1)           5\n",
       "..     ...     ...        ...         ...\n",
       "95    2706       1  (2706, 1)           4\n",
       "96    2820       1  (2820, 1)           3\n",
       "97    2883       1  (2883, 1)           2\n",
       "98    2939       1  (2939, 1)           3\n",
       "99    2942       1  (2942, 1)           4\n",
       "\n",
       "[100 rows x 4 columns]"
      ]
     },
     "execution_count": 11,
     "metadata": {},
     "output_type": "execute_result"
    }
   ],
   "source": [
    "# read in the data\n",
    "df = pd.read_csv('/home/dustin/Documents/Study/Master2/CILProject22/data_raw/data_train.csv')\n",
    "dic = {\n",
    "    'user_id': [str(x).partition(\"_\")[0][1:] for x in df['Id']],\n",
    "    'item_id': [str(x).partition(\"_\")[2][1:] for x in df['Id']],\n",
    "    'combined': [(str(x).partition(\"_\")[0][1:],str(x).partition(\"_\")[2][1:]) for x in df['Id']],\n",
    "    'prediction': df['Prediction'],\n",
    "}\n",
    "data = pd.DataFrame(dic)\n",
    "data[:100]"
   ]
  },
  {
   "cell_type": "code",
   "execution_count": null,
   "metadata": {
    "pycharm": {
     "name": "#%%\n"
    }
   },
   "outputs": [],
   "source": [
    "import pytorch_lightning as pl\n",
    "from torch.utils.data import DataLoader\n",
    "import torch as nn\n",
    "import torch.nn.functional as F\n",
    "\n",
    "\n",
    "class model(pl.LightningModule):\n",
    "    def __init__(self):\n",
    "        super(model,self).__init__()\n",
    "        embedding_dim = 10\n",
    "        self.phi = nn.Linear(11000,embedding_dim)\n",
    "        self.phi_IC = nn.Linear(11000,embedding_dim)\n",
    "        self.phi_UC = nn.Linear(11000,embedding_dim)\n",
    "        self.lr = 0.01\n",
    "        self.optimizer = nn.optim.Adam(self.parameters(), lr=self.lr)\n",
    "        \n",
    "    def forward(self, x):\n",
    "        self.phi(x)\n",
    "        self.phi_IC(x)\n",
    "        self.phi_UC(x)\n",
    "        return self.phi(x), self.phi_IC(x), self.phi_UC(x)\n",
    "    \n",
    "    def configure_optimizers(self):\n",
    "        return nn.optim.Adam(self.parameters(), lr=self.lr)\n",
    "       \n",
    "    def training_step(self, train_batch, batch_idx):\n",
    "        x, ratings = train_batch\n",
    "        \n",
    "        phi, phi_IC, phi_UC = self.forward(x)\n",
    "        loss = self.loss(phi, phi_IC, phi_UC, ratings)\n",
    "        return loss\n",
    "        \n",
    "    def validation_step(self, valid_batch, batch_idx):\n",
    "        x, y = valid_batch\n",
    "        phi, phi_IC, phi_U = self.forward(x)\n",
    "        loss = self.loss(phi, phi_IC, phi_U, y)\n",
    "\n",
    "    def loss(self, phis, phis_IS, phis_UC, ratings): # implement the loss function\n",
    "        alpha = 0.1\n",
    "        lam = 0.1\n",
    "        reg = 1.0\n",
    "        phis = phis.transpose(0,1)\n",
    "        phis_IC = phis_IS.transpose(0,1)\n",
    "        phis_UC = phis_UC.transpose(0,1)\n",
    "        loss_DS = - nn.mean(F.logsigmoid(nn.mul(phis[0],phis[1]))) #+ negative sampling\n",
    "        loss_NS = - nn.mean(F.logsigmoid(nn.mul(phis[0],phis_IC[1]))) - nn.mean(F.logsigmoid(nn.mul(phis[0],phis_UC[0])))\n",
    "        # norm =    only for overfitting\n",
    "        loss = alpha*(loss_DS + lam*loss_NS) # + reg*norm)\n",
    "        return loss"
   ]
  },
  {
   "cell_type": "code",
   "execution_count": null,
   "metadata": {
    "pycharm": {
     "name": "#%%\n"
    }
   },
   "outputs": [],
   "source": [
    "def find_k_neighborhood(users, items, k):\n",
    "    # find the k-neighborhood of each user and item\n",
    "    user_neighborhood = nn.zeros([users.size, k], dtype=nn.int32)\n",
    "    for i, user in enumerate(users):\n",
    "        rows = data[data['user_id'] == user]\n",
    "        for j in range(k):\n",
    "            row = rows.sample(1)\n",
    "            potential_neighbors = data[(data['item_id'] == row['item_id'].values[0]) & (data['user_id'] != user)]\n",
    "            user_neighborhood[i][j] = int(potential_neighbors.sample(1)['user_id'].values[0])\n",
    "\n",
    "    item_neighborhood = nn.zeros([items.size, k], dtype=nn.int32)\n",
    "    for i, item in enumerate(items):\n",
    "        rows = data[data['item_id'] == item]\n",
    "        for j in range(k):\n",
    "            row = rows.sample(1)\n",
    "            potential_neighbors = data[(data['user_id'] == row['user_id'].values[0]) & (data['item_id'] != item)]\n",
    "            item_neighborhood[i][j] = int(potential_neighbors.sample(1)['item_id'].values[0])\n",
    "        \n",
    "    return user_neighborhood, item_neighborhood"
   ]
  },
  {
   "cell_type": "code",
   "execution_count": null,
   "metadata": {
    "pycharm": {
     "name": "#%%\n"
    }
   },
   "outputs": [],
   "source": [
    "# Create Model Object\n",
    "clf = model()\n",
    "# Create Data Module Object\n",
    "train_loader = DataLoader(data['combined'], batch_size=16, shuffle=True)\n",
    "val_loader = DataLoader(data['combined'], batch_size=16, shuffle=True)\n",
    "# Create Trainer Object\n",
    "trainer = pl.Trainer(gpus=1,accelerator='dp',max_epochs=5)\n",
    "trainer.fit(clf,train_dataloader=train_loader,val_dataloader=val_loader)"
   ]
  }
 ],
 "metadata": {
  "kernelspec": {
   "display_name": "Python 3.9.12 ('web3')",
   "language": "python",
   "name": "python3"
  },
  "language_info": {
   "codemirror_mode": {
    "name": "ipython",
    "version": 3
   },
   "file_extension": ".py",
   "mimetype": "text/x-python",
   "name": "python",
   "nbconvert_exporter": "python",
   "pygments_lexer": "ipython3",
   "version": "3.9.12"
  },
  "orig_nbformat": 4,
  "vscode": {
   "interpreter": {
    "hash": "b2522a7ac3b60f852504f7e2e80aa0b42867087115d2f979bf28cdf9a03dea8d"
   }
  }
 },
 "nbformat": 4,
 "nbformat_minor": 2
}
