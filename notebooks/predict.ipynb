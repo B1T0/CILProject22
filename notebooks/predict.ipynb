{
 "cells": [
  {
   "cell_type": "code",
   "execution_count": 1,
   "outputs": [],
   "source": [
    "import torch\n",
    "import pandas as pd"
   ],
   "metadata": {
    "collapsed": false,
    "pycharm": {
     "name": "#%%\n"
    }
   }
  },
  {
   "cell_type": "code",
   "execution_count": 7,
   "outputs": [],
   "source": [
    "path = '/home/jimmy/CILProject22/reports/logs/20220728-023724_prediction'\n",
    "# file_path = '/home/jimmy/CILProject22/reports/logs/20220728-023724_prediction/submission_graphauto_encoder.csv'\n",
    "file_path ='/home/jimmy/CILProject22/reports/logs/20220728-031550_prediction/submission_graphauto_encoder.csv'"
   ],
   "metadata": {
    "collapsed": false,
    "pycharm": {
     "name": "#%%\n"
    }
   }
  },
  {
   "cell_type": "code",
   "execution_count": 8,
   "outputs": [],
   "source": [
    "df = pd.read_csv(file_path)"
   ],
   "metadata": {
    "collapsed": false,
    "pycharm": {
     "name": "#%%\n"
    }
   }
  },
  {
   "cell_type": "code",
   "execution_count": 10,
   "outputs": [
    {
     "data": {
      "text/plain": "0               r37_c1\n1               r73_c1\n2              r156_c1\n3              r160_c1\n4              r248_c1\n              ...     \n1176947    r9974_c1000\n1176948    r9977_c1000\n1176949    r9978_c1000\n1176950    r9982_c1000\n1176951    r9996_c1000\nName: Id, Length: 1176952, dtype: object"
     },
     "execution_count": 10,
     "metadata": {},
     "output_type": "execute_result"
    }
   ],
   "source": [
    "df['Id']"
   ],
   "metadata": {
    "collapsed": false,
    "pycharm": {
     "name": "#%%\n"
    }
   }
  },
  {
   "cell_type": "code",
   "execution_count": 5,
   "outputs": [],
   "source": [
    "sample_path = '/home/jimmy/CILProject22/data/external/sampleSubmission.csv'"
   ],
   "metadata": {
    "collapsed": false,
    "pycharm": {
     "name": "#%%\n"
    }
   }
  },
  {
   "cell_type": "code",
   "execution_count": 6,
   "outputs": [
    {
     "data": {
      "text/plain": "                  Id  Prediction\n0             r37_c1           3\n1             r73_c1           3\n2            r156_c1           3\n3            r160_c1           3\n4            r248_c1           3\n...              ...         ...\n1176947  r9974_c1000           3\n1176948  r9977_c1000           3\n1176949  r9978_c1000           3\n1176950  r9982_c1000           3\n1176951  r9996_c1000           3\n\n[1176952 rows x 2 columns]",
      "text/html": "<div>\n<style scoped>\n    .dataframe tbody tr th:only-of-type {\n        vertical-align: middle;\n    }\n\n    .dataframe tbody tr th {\n        vertical-align: top;\n    }\n\n    .dataframe thead th {\n        text-align: right;\n    }\n</style>\n<table border=\"1\" class=\"dataframe\">\n  <thead>\n    <tr style=\"text-align: right;\">\n      <th></th>\n      <th>Id</th>\n      <th>Prediction</th>\n    </tr>\n  </thead>\n  <tbody>\n    <tr>\n      <th>0</th>\n      <td>r37_c1</td>\n      <td>3</td>\n    </tr>\n    <tr>\n      <th>1</th>\n      <td>r73_c1</td>\n      <td>3</td>\n    </tr>\n    <tr>\n      <th>2</th>\n      <td>r156_c1</td>\n      <td>3</td>\n    </tr>\n    <tr>\n      <th>3</th>\n      <td>r160_c1</td>\n      <td>3</td>\n    </tr>\n    <tr>\n      <th>4</th>\n      <td>r248_c1</td>\n      <td>3</td>\n    </tr>\n    <tr>\n      <th>...</th>\n      <td>...</td>\n      <td>...</td>\n    </tr>\n    <tr>\n      <th>1176947</th>\n      <td>r9974_c1000</td>\n      <td>3</td>\n    </tr>\n    <tr>\n      <th>1176948</th>\n      <td>r9977_c1000</td>\n      <td>3</td>\n    </tr>\n    <tr>\n      <th>1176949</th>\n      <td>r9978_c1000</td>\n      <td>3</td>\n    </tr>\n    <tr>\n      <th>1176950</th>\n      <td>r9982_c1000</td>\n      <td>3</td>\n    </tr>\n    <tr>\n      <th>1176951</th>\n      <td>r9996_c1000</td>\n      <td>3</td>\n    </tr>\n  </tbody>\n</table>\n<p>1176952 rows × 2 columns</p>\n</div>"
     },
     "execution_count": 6,
     "metadata": {},
     "output_type": "execute_result"
    }
   ],
   "source": [
    "df1 = pd.read_csv(sample_path)\n",
    "df1"
   ],
   "metadata": {
    "collapsed": false,
    "pycharm": {
     "name": "#%%\n"
    }
   }
  },
  {
   "cell_type": "code",
   "execution_count": 12,
   "outputs": [
    {
     "data": {
      "text/plain": "True"
     },
     "execution_count": 12,
     "metadata": {},
     "output_type": "execute_result"
    }
   ],
   "source": [
    "(df['Id'] == df1['Id']).all()"
   ],
   "metadata": {
    "collapsed": false,
    "pycharm": {
     "name": "#%%\n"
    }
   }
  },
  {
   "cell_type": "code",
   "execution_count": 13,
   "outputs": [],
   "source": [
    "auto_encoder_path = '/home/jimmy/CILProject22/reports/logs/20220728-231237_graph_user_encoder_prediction/submission_graph_user_encoder.csv'"
   ],
   "metadata": {
    "collapsed": false,
    "pycharm": {
     "name": "#%%\n"
    }
   }
  },
  {
   "cell_type": "code",
   "execution_count": 14,
   "outputs": [],
   "source": [
    "df2 = pd.read_csv(auto_encoder_path)"
   ],
   "metadata": {
    "collapsed": false,
    "pycharm": {
     "name": "#%%\n"
    }
   }
  },
  {
   "cell_type": "code",
   "execution_count": 15,
   "outputs": [
    {
     "data": {
      "text/plain": "                  Id  Prediction\n0             r37_c1    3.420841\n1             r73_c1    2.807410\n2            r156_c1    3.799538\n3            r160_c1    3.336291\n4            r248_c1    3.492591\n...              ...         ...\n1176947  r9974_c1000    3.772949\n1176948  r9977_c1000    3.513284\n1176949  r9978_c1000    3.145696\n1176950  r9982_c1000    2.929365\n1176951  r9996_c1000    3.817685\n\n[1176952 rows x 2 columns]",
      "text/html": "<div>\n<style scoped>\n    .dataframe tbody tr th:only-of-type {\n        vertical-align: middle;\n    }\n\n    .dataframe tbody tr th {\n        vertical-align: top;\n    }\n\n    .dataframe thead th {\n        text-align: right;\n    }\n</style>\n<table border=\"1\" class=\"dataframe\">\n  <thead>\n    <tr style=\"text-align: right;\">\n      <th></th>\n      <th>Id</th>\n      <th>Prediction</th>\n    </tr>\n  </thead>\n  <tbody>\n    <tr>\n      <th>0</th>\n      <td>r37_c1</td>\n      <td>3.420841</td>\n    </tr>\n    <tr>\n      <th>1</th>\n      <td>r73_c1</td>\n      <td>2.807410</td>\n    </tr>\n    <tr>\n      <th>2</th>\n      <td>r156_c1</td>\n      <td>3.799538</td>\n    </tr>\n    <tr>\n      <th>3</th>\n      <td>r160_c1</td>\n      <td>3.336291</td>\n    </tr>\n    <tr>\n      <th>4</th>\n      <td>r248_c1</td>\n      <td>3.492591</td>\n    </tr>\n    <tr>\n      <th>...</th>\n      <td>...</td>\n      <td>...</td>\n    </tr>\n    <tr>\n      <th>1176947</th>\n      <td>r9974_c1000</td>\n      <td>3.772949</td>\n    </tr>\n    <tr>\n      <th>1176948</th>\n      <td>r9977_c1000</td>\n      <td>3.513284</td>\n    </tr>\n    <tr>\n      <th>1176949</th>\n      <td>r9978_c1000</td>\n      <td>3.145696</td>\n    </tr>\n    <tr>\n      <th>1176950</th>\n      <td>r9982_c1000</td>\n      <td>2.929365</td>\n    </tr>\n    <tr>\n      <th>1176951</th>\n      <td>r9996_c1000</td>\n      <td>3.817685</td>\n    </tr>\n  </tbody>\n</table>\n<p>1176952 rows × 2 columns</p>\n</div>"
     },
     "execution_count": 15,
     "metadata": {},
     "output_type": "execute_result"
    }
   ],
   "source": [
    "df2"
   ],
   "metadata": {
    "collapsed": false,
    "pycharm": {
     "name": "#%%\n"
    }
   }
  },
  {
   "cell_type": "code",
   "execution_count": 16,
   "outputs": [],
   "source": [
    "graph_attention = '/home/jimmy/CILProject22/reports/logs/20220729-135056_graph_attention_prediction/submission_graphattention_avg.csv'"
   ],
   "metadata": {
    "collapsed": false,
    "pycharm": {
     "name": "#%%\n"
    }
   }
  },
  {
   "cell_type": "code",
   "execution_count": 17,
   "outputs": [],
   "source": [
    "df3 = pd.read_csv(graph_attention)"
   ],
   "metadata": {
    "collapsed": false,
    "pycharm": {
     "name": "#%%\n"
    }
   }
  },
  {
   "cell_type": "code",
   "execution_count": 18,
   "outputs": [
    {
     "data": {
      "text/plain": "                  Id  Prediction\n0             r37_c1    3.233725\n1             r73_c1    3.245326\n2            r156_c1    3.742743\n3            r160_c1    3.376900\n4            r248_c1    3.695707\n...              ...         ...\n1176947  r9974_c1000    3.702335\n1176948  r9977_c1000    3.451749\n1176949  r9978_c1000    3.222858\n1176950  r9982_c1000    3.046224\n1176951  r9996_c1000    3.824102\n\n[1176952 rows x 2 columns]",
      "text/html": "<div>\n<style scoped>\n    .dataframe tbody tr th:only-of-type {\n        vertical-align: middle;\n    }\n\n    .dataframe tbody tr th {\n        vertical-align: top;\n    }\n\n    .dataframe thead th {\n        text-align: right;\n    }\n</style>\n<table border=\"1\" class=\"dataframe\">\n  <thead>\n    <tr style=\"text-align: right;\">\n      <th></th>\n      <th>Id</th>\n      <th>Prediction</th>\n    </tr>\n  </thead>\n  <tbody>\n    <tr>\n      <th>0</th>\n      <td>r37_c1</td>\n      <td>3.233725</td>\n    </tr>\n    <tr>\n      <th>1</th>\n      <td>r73_c1</td>\n      <td>3.245326</td>\n    </tr>\n    <tr>\n      <th>2</th>\n      <td>r156_c1</td>\n      <td>3.742743</td>\n    </tr>\n    <tr>\n      <th>3</th>\n      <td>r160_c1</td>\n      <td>3.376900</td>\n    </tr>\n    <tr>\n      <th>4</th>\n      <td>r248_c1</td>\n      <td>3.695707</td>\n    </tr>\n    <tr>\n      <th>...</th>\n      <td>...</td>\n      <td>...</td>\n    </tr>\n    <tr>\n      <th>1176947</th>\n      <td>r9974_c1000</td>\n      <td>3.702335</td>\n    </tr>\n    <tr>\n      <th>1176948</th>\n      <td>r9977_c1000</td>\n      <td>3.451749</td>\n    </tr>\n    <tr>\n      <th>1176949</th>\n      <td>r9978_c1000</td>\n      <td>3.222858</td>\n    </tr>\n    <tr>\n      <th>1176950</th>\n      <td>r9982_c1000</td>\n      <td>3.046224</td>\n    </tr>\n    <tr>\n      <th>1176951</th>\n      <td>r9996_c1000</td>\n      <td>3.824102</td>\n    </tr>\n  </tbody>\n</table>\n<p>1176952 rows × 2 columns</p>\n</div>"
     },
     "execution_count": 18,
     "metadata": {},
     "output_type": "execute_result"
    }
   ],
   "source": [
    "df3"
   ],
   "metadata": {
    "collapsed": false,
    "pycharm": {
     "name": "#%%\n"
    }
   }
  },
  {
   "cell_type": "code",
   "execution_count": 19,
   "outputs": [],
   "source": [
    "path = '/home/jimmy/CILProject22/data/external/sampleSubmission'\n",
    "df = pd.read_csv(path+'.csv')\n",
    "indices_users, indices_movies = [], []\n",
    "values = []\n",
    "for j, x in df.iterrows():\n",
    "    name, val = x['Id'], x['Prediction']\n",
    "    user, movie = name.replace('c', '').replace('r', '').split('_')\n",
    "    indices_users.append(user)\n",
    "    indices_movies.append(movie)\n",
    "    values.append(val)\n",
    "data = {'user': indices_users, 'movies': indices_movies, 'values': values}\n",
    "df = pd.DataFrame(data)\n",
    "df.to_csv(file_path + f'_converted.csv', index=False)"
   ],
   "metadata": {
    "collapsed": false,
    "pycharm": {
     "name": "#%%\n"
    }
   }
  },
  {
   "cell_type": "code",
   "execution_count": 21,
   "outputs": [],
   "source": [
    "df.to_csv(path+'_converted.csv', index=False)"
   ],
   "metadata": {
    "collapsed": false,
    "pycharm": {
     "name": "#%%\n"
    }
   }
  },
  {
   "cell_type": "code",
   "execution_count": 22,
   "outputs": [],
   "source": [
    "p='/home/jimmy/CILProject22/reports/logs/20220731-002724_svdpp_20/submission_graphattention_avg.csv'"
   ],
   "metadata": {
    "collapsed": false,
    "pycharm": {
     "name": "#%%\n"
    }
   }
  },
  {
   "cell_type": "code",
   "execution_count": 23,
   "outputs": [
    {
     "data": {
      "text/plain": "                 Id  Prediction\n0            r37_c1    3.364967\n1            r37_c3    3.621158\n2            r37_c5    3.619157\n3            r37_c6    4.613619\n4            r37_c8    3.806443\n...             ...         ...\n1176947  r2251_c833    3.375721\n1176948  r2251_c891    2.823664\n1176949  r2251_c915    3.589860\n1176950  r2251_c921    3.178410\n1176951  r2251_c944    2.835575\n\n[1176952 rows x 2 columns]",
      "text/html": "<div>\n<style scoped>\n    .dataframe tbody tr th:only-of-type {\n        vertical-align: middle;\n    }\n\n    .dataframe tbody tr th {\n        vertical-align: top;\n    }\n\n    .dataframe thead th {\n        text-align: right;\n    }\n</style>\n<table border=\"1\" class=\"dataframe\">\n  <thead>\n    <tr style=\"text-align: right;\">\n      <th></th>\n      <th>Id</th>\n      <th>Prediction</th>\n    </tr>\n  </thead>\n  <tbody>\n    <tr>\n      <th>0</th>\n      <td>r37_c1</td>\n      <td>3.364967</td>\n    </tr>\n    <tr>\n      <th>1</th>\n      <td>r37_c3</td>\n      <td>3.621158</td>\n    </tr>\n    <tr>\n      <th>2</th>\n      <td>r37_c5</td>\n      <td>3.619157</td>\n    </tr>\n    <tr>\n      <th>3</th>\n      <td>r37_c6</td>\n      <td>4.613619</td>\n    </tr>\n    <tr>\n      <th>4</th>\n      <td>r37_c8</td>\n      <td>3.806443</td>\n    </tr>\n    <tr>\n      <th>...</th>\n      <td>...</td>\n      <td>...</td>\n    </tr>\n    <tr>\n      <th>1176947</th>\n      <td>r2251_c833</td>\n      <td>3.375721</td>\n    </tr>\n    <tr>\n      <th>1176948</th>\n      <td>r2251_c891</td>\n      <td>2.823664</td>\n    </tr>\n    <tr>\n      <th>1176949</th>\n      <td>r2251_c915</td>\n      <td>3.589860</td>\n    </tr>\n    <tr>\n      <th>1176950</th>\n      <td>r2251_c921</td>\n      <td>3.178410</td>\n    </tr>\n    <tr>\n      <th>1176951</th>\n      <td>r2251_c944</td>\n      <td>2.835575</td>\n    </tr>\n  </tbody>\n</table>\n<p>1176952 rows × 2 columns</p>\n</div>"
     },
     "execution_count": 23,
     "metadata": {},
     "output_type": "execute_result"
    }
   ],
   "source": [
    "pd.read_csv(p)"
   ],
   "metadata": {
    "collapsed": false,
    "pycharm": {
     "name": "#%%\n"
    }
   }
  },
  {
   "cell_type": "code",
   "execution_count": null,
   "outputs": [],
   "source": [],
   "metadata": {
    "collapsed": false,
    "pycharm": {
     "name": "#%%\n"
    }
   }
  }
 ],
 "metadata": {
  "kernelspec": {
   "display_name": "Python 3",
   "language": "python",
   "name": "python3"
  },
  "language_info": {
   "codemirror_mode": {
    "name": "ipython",
    "version": 2
   },
   "file_extension": ".py",
   "mimetype": "text/x-python",
   "name": "python",
   "nbconvert_exporter": "python",
   "pygments_lexer": "ipython2",
   "version": "2.7.6"
  }
 },
 "nbformat": 4,
 "nbformat_minor": 0
}