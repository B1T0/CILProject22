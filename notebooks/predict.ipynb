{
 "cells": [
  {
   "cell_type": "code",
   "execution_count": 1,
   "outputs": [],
   "source": [
    "import torch\n",
    "import pandas as pd"
   ],
   "metadata": {
    "collapsed": false,
    "pycharm": {
     "name": "#%%\n"
    }
   }
  },
  {
   "cell_type": "code",
   "execution_count": 7,
   "outputs": [],
   "source": [
    "path = '/home/jimmy/CILProject22/reports/logs/20220728-023724_prediction'\n",
    "# file_path = '/home/jimmy/CILProject22/reports/logs/20220728-023724_prediction/submission_graphauto_encoder.csv'\n",
    "file_path ='/home/jimmy/CILProject22/reports/logs/20220728-031550_prediction/submission_graphauto_encoder.csv'"
   ],
   "metadata": {
    "collapsed": false,
    "pycharm": {
     "name": "#%%\n"
    }
   }
  },
  {
   "cell_type": "code",
   "execution_count": 8,
   "outputs": [],
   "source": [
    "df = pd.read_csv(file_path)"
   ],
   "metadata": {
    "collapsed": false,
    "pycharm": {
     "name": "#%%\n"
    }
   }
  },
  {
   "cell_type": "code",
   "execution_count": 10,
   "outputs": [
    {
     "data": {
      "text/plain": "0               r37_c1\n1               r73_c1\n2              r156_c1\n3              r160_c1\n4              r248_c1\n              ...     \n1176947    r9974_c1000\n1176948    r9977_c1000\n1176949    r9978_c1000\n1176950    r9982_c1000\n1176951    r9996_c1000\nName: Id, Length: 1176952, dtype: object"
     },
     "execution_count": 10,
     "metadata": {},
     "output_type": "execute_result"
    }
   ],
   "source": [
    "df['Id']"
   ],
   "metadata": {
    "collapsed": false,
    "pycharm": {
     "name": "#%%\n"
    }
   }
  },
  {
   "cell_type": "code",
   "execution_count": 5,
   "outputs": [],
   "source": [
    "sample_path = '/home/jimmy/CILProject22/data/external/sampleSubmission.csv'"
   ],
   "metadata": {
    "collapsed": false,
    "pycharm": {
     "name": "#%%\n"
    }
   }
  },
  {
   "cell_type": "code",
   "execution_count": 6,
   "outputs": [
    {
     "data": {
      "text/plain": "                  Id  Prediction\n0             r37_c1           3\n1             r73_c1           3\n2            r156_c1           3\n3            r160_c1           3\n4            r248_c1           3\n...              ...         ...\n1176947  r9974_c1000           3\n1176948  r9977_c1000           3\n1176949  r9978_c1000           3\n1176950  r9982_c1000           3\n1176951  r9996_c1000           3\n\n[1176952 rows x 2 columns]",
      "text/html": "<div>\n<style scoped>\n    .dataframe tbody tr th:only-of-type {\n        vertical-align: middle;\n    }\n\n    .dataframe tbody tr th {\n        vertical-align: top;\n    }\n\n    .dataframe thead th {\n        text-align: right;\n    }\n</style>\n<table border=\"1\" class=\"dataframe\">\n  <thead>\n    <tr style=\"text-align: right;\">\n      <th></th>\n      <th>Id</th>\n      <th>Prediction</th>\n    </tr>\n  </thead>\n  <tbody>\n    <tr>\n      <th>0</th>\n      <td>r37_c1</td>\n      <td>3</td>\n    </tr>\n    <tr>\n      <th>1</th>\n      <td>r73_c1</td>\n      <td>3</td>\n    </tr>\n    <tr>\n      <th>2</th>\n      <td>r156_c1</td>\n      <td>3</td>\n    </tr>\n    <tr>\n      <th>3</th>\n      <td>r160_c1</td>\n      <td>3</td>\n    </tr>\n    <tr>\n      <th>4</th>\n      <td>r248_c1</td>\n      <td>3</td>\n    </tr>\n    <tr>\n      <th>...</th>\n      <td>...</td>\n      <td>...</td>\n    </tr>\n    <tr>\n      <th>1176947</th>\n      <td>r9974_c1000</td>\n      <td>3</td>\n    </tr>\n    <tr>\n      <th>1176948</th>\n      <td>r9977_c1000</td>\n      <td>3</td>\n    </tr>\n    <tr>\n      <th>1176949</th>\n      <td>r9978_c1000</td>\n      <td>3</td>\n    </tr>\n    <tr>\n      <th>1176950</th>\n      <td>r9982_c1000</td>\n      <td>3</td>\n    </tr>\n    <tr>\n      <th>1176951</th>\n      <td>r9996_c1000</td>\n      <td>3</td>\n    </tr>\n  </tbody>\n</table>\n<p>1176952 rows × 2 columns</p>\n</div>"
     },
     "execution_count": 6,
     "metadata": {},
     "output_type": "execute_result"
    }
   ],
   "source": [
    "df1 = pd.read_csv(sample_path)\n",
    "df1"
   ],
   "metadata": {
    "collapsed": false,
    "pycharm": {
     "name": "#%%\n"
    }
   }
  },
  {
   "cell_type": "code",
   "execution_count": 12,
   "outputs": [
    {
     "data": {
      "text/plain": "True"
     },
     "execution_count": 12,
     "metadata": {},
     "output_type": "execute_result"
    }
   ],
   "source": [
    "(df['Id'] == df1['Id']).all()"
   ],
   "metadata": {
    "collapsed": false,
    "pycharm": {
     "name": "#%%\n"
    }
   }
  },
  {
   "cell_type": "code",
   "execution_count": null,
   "outputs": [],
   "source": [],
   "metadata": {
    "collapsed": false,
    "pycharm": {
     "name": "#%%\n"
    }
   }
  }
 ],
 "metadata": {
  "kernelspec": {
   "display_name": "Python 3",
   "language": "python",
   "name": "python3"
  },
  "language_info": {
   "codemirror_mode": {
    "name": "ipython",
    "version": 2
   },
   "file_extension": ".py",
   "mimetype": "text/x-python",
   "name": "python",
   "nbconvert_exporter": "python",
   "pygments_lexer": "ipython2",
   "version": "2.7.6"
  }
 },
 "nbformat": 4,
 "nbformat_minor": 0
}