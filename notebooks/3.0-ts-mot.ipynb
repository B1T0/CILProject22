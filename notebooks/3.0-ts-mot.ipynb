{
 "cells": [
  {
   "cell_type": "code",
   "execution_count": 1,
   "metadata": {},
   "outputs": [
    {
     "name": "stderr",
     "output_type": "stream",
     "text": [
      "/Users/tobi/Documents/CILProject22/venv/lib/python3.9/site-packages/tqdm/auto.py:22: TqdmWarning: IProgress not found. Please update jupyter and ipywidgets. See https://ipywidgets.readthedocs.io/en/stable/user_install.html\n",
      "  from .autonotebook import tqdm as notebook_tqdm\n"
     ]
    }
   ],
   "source": [
    "import numpy as np\n",
    "import pandas as pd\n",
    "import torch\n",
    "import torch.nn as nn\n",
    "import torch.nn.functional as F\n",
    "from torch.optim import Adam\n",
    "import seaborn as sns\n",
    "\n",
    "from torch.utils.data import Dataset, DataLoader\n",
    "from tqdm import tqdm"
   ]
  },
  {
   "cell_type": "markdown",
   "metadata": {},
   "source": [
    "### Dataset"
   ]
  },
  {
   "cell_type": "code",
   "execution_count": 2,
   "metadata": {},
   "outputs": [],
   "source": [
    "class MoTDataset(Dataset):\n",
    "    def __init__(self, edge_index, rating):\n",
    "        self.edge_index = edge_index\n",
    "        self.rating = rating\n",
    "\n",
    "    def __len__(self):\n",
    "        return len(self.edge_index)\n",
    "\n",
    "    def __getitem__(self, idx):\n",
    "        return self.edge_index[idx], self.rating[idx]"
   ]
  },
  {
   "cell_type": "code",
   "execution_count": 3,
   "metadata": {},
   "outputs": [],
   "source": [
    "def load_rating_df(path) -> pd.DataFrame:\n",
    "    \"\"\"Load the rating dataframe from the given path.\"\"\"\n",
    "    df = pd.read_csv(path)\n",
    "    rating_df = df.Id.str.split(\"_\", expand=True)\n",
    "    rating_df.columns = [\"user\", \"movie\"]\n",
    "    rating_df[\"rating\"] = df.Prediction\n",
    "    return rating_df\n",
    "\n",
    "\n",
    "def compute_gdata(rating_df: pd.DataFrame):\n",
    "    \"\"\"Creates the PyTorch Geometric Data object from the rating information\"\"\"\n",
    "    # Create the user and movie indices\n",
    "    users = rating_df[\"user\"].apply(lambda x: int(x[1:]) - 1)\n",
    "    movies = rating_df[\"movie\"].apply(lambda x: int(x[1:]) - 1)\n",
    "    # create edge_index\n",
    "    edge_index = np.stack([users, movies], axis=1)\n",
    "    rating = rating_df.rating.values\n",
    "    # rating = np.ones_like(rating_df.rating.values)\n",
    "    return MoTDataset(edge_index, rating)\n"
   ]
  },
  {
   "cell_type": "code",
   "execution_count": 4,
   "metadata": {},
   "outputs": [],
   "source": [
    "train_df = load_rating_df(\"../data/cross_validation/train_split_0.csv\")\n",
    "test_df = load_rating_df(\"../data/cross_validation/test_split_0.csv\")\n",
    "\n",
    "train_df = load_rating_df(\"../data/data_train.csv\")\n",
    "# test_df = load_rating_df(\"../data/cross_validation/test_split_0.csv\")\n",
    "\n",
    "# create training and test data\n",
    "train_dataset = compute_gdata(train_df)\n",
    "# test_dataset = compute_gdata(test_df)\n",
    "\n",
    "# create test data loader\n",
    "# test_loader = DataLoader(test_dataset, batch_size=len(test_dataset), shuffle=False)"
   ]
  },
  {
   "cell_type": "markdown",
   "metadata": {},
   "source": [
    "### Model"
   ]
  },
  {
   "cell_type": "code",
   "execution_count": 5,
   "metadata": {},
   "outputs": [],
   "source": [
    "# Mixture of Tastes model\n",
    "class MoT(nn.Module):\n",
    "    def __init__(self, n_users, n_movies, n_tastes, n_components):\n",
    "        super(MoT, self).__init__()\n",
    "        self.n_tastes = n_tastes\n",
    "        self.n_components = n_components\n",
    "\n",
    "        self.softmax = nn.Softmax(dim=1)\n",
    "        self.taste_embeddings = nn.Embedding(n_users, n_tastes*n_components)\n",
    "        self.attention_embeddings = nn.Embedding(n_users, n_tastes*n_components)\n",
    "        self.movie_embeddings = nn.Embedding(n_movies, n_components)\n",
    "        self.movie_bias = nn.Embedding(n_movies, 1)\n",
    "    \n",
    "    def forward(self, edge):\n",
    "        user_id = edge[:, 0]\n",
    "        movie_id = edge[:, 1]\n",
    "        A_i = self.attention_embeddings(user_id)\n",
    "        A_i = A_i.view(-1, self.n_tastes, self.n_components)\n",
    "        attention = self.softmax(torch.bmm(A_i, self.movie_embeddings(movie_id).unsqueeze(-1)))\n",
    "        U_i = self.taste_embeddings(user_id)\n",
    "        U_i = U_i.view(-1, self.n_tastes, self.n_components)\n",
    "        rec_scores = torch.bmm(U_i, self.movie_embeddings(movie_id).unsqueeze(-1))\n",
    "        y_hat = torch.sum(rec_scores * attention, dim=1) + self.movie_bias(movie_id)\n",
    "        return y_hat.squeeze()"
   ]
  },
  {
   "cell_type": "code",
   "execution_count": 6,
   "metadata": {},
   "outputs": [],
   "source": [
    "def loss(pred, edge_label):\n",
    "    return rmse(pred, edge_label.float())\n",
    "\n",
    "def rmse(pred, edge_label):\n",
    "    return torch.sqrt(torch.mean((pred.float() - edge_label.float()) ** 2))"
   ]
  },
  {
   "cell_type": "markdown",
   "metadata": {},
   "source": [
    "### Training"
   ]
  },
  {
   "cell_type": "code",
   "execution_count": 7,
   "metadata": {},
   "outputs": [],
   "source": [
    "model = MoT(n_users=10000, n_movies=1000, n_tastes=4, n_components=32)\n",
    "opt = Adam(model.parameters(), lr=np.exp(-6), weight_decay=np.exp(-11))\n",
    "train_loader = DataLoader(train_dataset, batch_size=2**12, shuffle=True, drop_last=True)"
   ]
  },
  {
   "cell_type": "code",
   "execution_count": 8,
   "metadata": {},
   "outputs": [
    {
     "name": "stdout",
     "output_type": "stream",
     "text": [
      "Epoch: 0\n"
     ]
    },
    {
     "name": "stderr",
     "output_type": "stream",
     "text": [
      "Train loss: 4.7305, Train RMSE: 2.5829, : 100%|██████████| 287/287 [00:20<00:00, 13.74it/s]\n"
     ]
    },
    {
     "name": "stdout",
     "output_type": "stream",
     "text": [
      "Epoch: 1\n"
     ]
    },
    {
     "name": "stderr",
     "output_type": "stream",
     "text": [
      "Train loss: 3.5302, Train RMSE: 2.4364, : 100%|██████████| 287/287 [00:20<00:00, 13.80it/s]\n"
     ]
    },
    {
     "name": "stdout",
     "output_type": "stream",
     "text": [
      "Epoch: 2\n"
     ]
    },
    {
     "name": "stderr",
     "output_type": "stream",
     "text": [
      "Train loss: 2.6349, Train RMSE: 2.1884, : 100%|██████████| 287/287 [00:21<00:00, 13.66it/s]\n"
     ]
    },
    {
     "name": "stdout",
     "output_type": "stream",
     "text": [
      "Epoch: 3\n"
     ]
    },
    {
     "name": "stderr",
     "output_type": "stream",
     "text": [
      "Train loss: 1.9605, Train RMSE: 1.8077, : 100%|██████████| 287/287 [00:20<00:00, 14.25it/s]\n"
     ]
    },
    {
     "name": "stdout",
     "output_type": "stream",
     "text": [
      "Epoch: 4\n"
     ]
    },
    {
     "name": "stderr",
     "output_type": "stream",
     "text": [
      "Train loss: 1.4619, Train RMSE: 1.4239, : 100%|██████████| 287/287 [00:20<00:00, 14.32it/s]\n"
     ]
    },
    {
     "name": "stdout",
     "output_type": "stream",
     "text": [
      "Epoch: 5\n"
     ]
    },
    {
     "name": "stderr",
     "output_type": "stream",
     "text": [
      "Train loss: 1.1894, Train RMSE: 1.1802, : 100%|██████████| 287/287 [00:19<00:00, 14.49it/s]\n"
     ]
    },
    {
     "name": "stdout",
     "output_type": "stream",
     "text": [
      "Epoch: 6\n"
     ]
    },
    {
     "name": "stderr",
     "output_type": "stream",
     "text": [
      "Train loss: 1.0588, Train RMSE: 1.0518, : 100%|██████████| 287/287 [00:20<00:00, 14.14it/s]\n"
     ]
    },
    {
     "name": "stdout",
     "output_type": "stream",
     "text": [
      "Epoch: 7\n"
     ]
    },
    {
     "name": "stderr",
     "output_type": "stream",
     "text": [
      "Train loss: 0.9989, Train RMSE: 0.9961, : 100%|██████████| 287/287 [00:19<00:00, 14.42it/s]\n"
     ]
    },
    {
     "name": "stdout",
     "output_type": "stream",
     "text": [
      "Epoch: 8\n"
     ]
    },
    {
     "name": "stderr",
     "output_type": "stream",
     "text": [
      "Train loss: 0.9982, Train RMSE: 0.9970, : 100%|██████████| 287/287 [00:20<00:00, 14.13it/s]\n"
     ]
    },
    {
     "name": "stdout",
     "output_type": "stream",
     "text": [
      "Epoch: 9\n"
     ]
    },
    {
     "name": "stderr",
     "output_type": "stream",
     "text": [
      "Train loss: 0.9573, Train RMSE: 0.9566, : 100%|██████████| 287/287 [00:19<00:00, 14.56it/s]\n"
     ]
    },
    {
     "name": "stdout",
     "output_type": "stream",
     "text": [
      "Epoch: 10\n"
     ]
    },
    {
     "name": "stderr",
     "output_type": "stream",
     "text": [
      "Train loss: 0.9725, Train RMSE: 0.9720, : 100%|██████████| 287/287 [00:19<00:00, 14.59it/s]\n"
     ]
    },
    {
     "name": "stdout",
     "output_type": "stream",
     "text": [
      "Epoch: 11\n"
     ]
    },
    {
     "name": "stderr",
     "output_type": "stream",
     "text": [
      "Train loss: 0.9708, Train RMSE: 0.9706, : 100%|██████████| 287/287 [00:20<00:00, 13.94it/s]\n"
     ]
    },
    {
     "name": "stdout",
     "output_type": "stream",
     "text": [
      "Epoch: 12\n"
     ]
    },
    {
     "name": "stderr",
     "output_type": "stream",
     "text": [
      "Train loss: 0.9825, Train RMSE: 0.9823, : 100%|██████████| 287/287 [00:20<00:00, 13.69it/s]\n"
     ]
    },
    {
     "name": "stdout",
     "output_type": "stream",
     "text": [
      "Epoch: 13\n"
     ]
    },
    {
     "name": "stderr",
     "output_type": "stream",
     "text": [
      "Train loss: 0.9565, Train RMSE: 0.9563, : 100%|██████████| 287/287 [00:21<00:00, 13.56it/s]\n"
     ]
    },
    {
     "name": "stdout",
     "output_type": "stream",
     "text": [
      "Epoch: 14\n"
     ]
    },
    {
     "name": "stderr",
     "output_type": "stream",
     "text": [
      "Train loss: 0.9571, Train RMSE: 0.9569, : 100%|██████████| 287/287 [00:20<00:00, 14.04it/s]\n"
     ]
    },
    {
     "name": "stdout",
     "output_type": "stream",
     "text": [
      "Epoch: 15\n"
     ]
    },
    {
     "name": "stderr",
     "output_type": "stream",
     "text": [
      "Train loss: 0.9790, Train RMSE: 0.9789, : 100%|██████████| 287/287 [00:20<00:00, 14.26it/s]\n"
     ]
    },
    {
     "name": "stdout",
     "output_type": "stream",
     "text": [
      "Epoch: 16\n"
     ]
    },
    {
     "name": "stderr",
     "output_type": "stream",
     "text": [
      "Train loss: 0.9649, Train RMSE: 0.9648, : 100%|██████████| 287/287 [00:21<00:00, 13.47it/s]\n"
     ]
    },
    {
     "name": "stdout",
     "output_type": "stream",
     "text": [
      "Epoch: 17\n"
     ]
    },
    {
     "name": "stderr",
     "output_type": "stream",
     "text": [
      "Train loss: 0.9755, Train RMSE: 0.9755, : 100%|██████████| 287/287 [00:21<00:00, 13.58it/s]\n"
     ]
    },
    {
     "name": "stdout",
     "output_type": "stream",
     "text": [
      "Epoch: 18\n"
     ]
    },
    {
     "name": "stderr",
     "output_type": "stream",
     "text": [
      "Train loss: 0.9639, Train RMSE: 0.9638, : 100%|██████████| 287/287 [00:20<00:00, 13.68it/s]\n"
     ]
    },
    {
     "name": "stdout",
     "output_type": "stream",
     "text": [
      "Epoch: 19\n"
     ]
    },
    {
     "name": "stderr",
     "output_type": "stream",
     "text": [
      "Train loss: 0.9574, Train RMSE: 0.9573, : 100%|██████████| 287/287 [00:20<00:00, 13.79it/s]\n"
     ]
    },
    {
     "name": "stdout",
     "output_type": "stream",
     "text": [
      "Epoch: 20\n"
     ]
    },
    {
     "name": "stderr",
     "output_type": "stream",
     "text": [
      "Train loss: 0.9630, Train RMSE: 0.9629, : 100%|██████████| 287/287 [00:20<00:00, 14.00it/s]\n"
     ]
    },
    {
     "name": "stdout",
     "output_type": "stream",
     "text": [
      "Epoch: 21\n"
     ]
    },
    {
     "name": "stderr",
     "output_type": "stream",
     "text": [
      "Train loss: 0.9677, Train RMSE: 0.9676, : 100%|██████████| 287/287 [00:25<00:00, 11.41it/s]\n"
     ]
    },
    {
     "name": "stdout",
     "output_type": "stream",
     "text": [
      "Epoch: 22\n"
     ]
    },
    {
     "name": "stderr",
     "output_type": "stream",
     "text": [
      "Train loss: 0.9728, Train RMSE: 0.9728, : 100%|██████████| 287/287 [00:20<00:00, 14.08it/s]\n"
     ]
    },
    {
     "name": "stdout",
     "output_type": "stream",
     "text": [
      "Epoch: 23\n"
     ]
    },
    {
     "name": "stderr",
     "output_type": "stream",
     "text": [
      "Train loss: 0.9717, Train RMSE: 0.9716, : 100%|██████████| 287/287 [00:20<00:00, 14.24it/s]\n"
     ]
    },
    {
     "name": "stdout",
     "output_type": "stream",
     "text": [
      "Epoch: 24\n"
     ]
    },
    {
     "name": "stderr",
     "output_type": "stream",
     "text": [
      "Train loss: 0.9541, Train RMSE: 0.9540, : 100%|██████████| 287/287 [00:21<00:00, 13.36it/s]\n"
     ]
    },
    {
     "name": "stdout",
     "output_type": "stream",
     "text": [
      "Epoch: 25\n"
     ]
    },
    {
     "name": "stderr",
     "output_type": "stream",
     "text": [
      "Train loss: 0.9578, Train RMSE: 0.9577, : 100%|██████████| 287/287 [00:21<00:00, 13.39it/s]\n"
     ]
    },
    {
     "name": "stdout",
     "output_type": "stream",
     "text": [
      "Epoch: 26\n"
     ]
    },
    {
     "name": "stderr",
     "output_type": "stream",
     "text": [
      "Train loss: 0.9589, Train RMSE: 0.9589, : 100%|██████████| 287/287 [00:20<00:00, 13.78it/s]\n"
     ]
    },
    {
     "name": "stdout",
     "output_type": "stream",
     "text": [
      "Epoch: 27\n"
     ]
    },
    {
     "name": "stderr",
     "output_type": "stream",
     "text": [
      "Train loss: 0.9473, Train RMSE: 0.9473, : 100%|██████████| 287/287 [00:20<00:00, 13.71it/s]\n"
     ]
    },
    {
     "name": "stdout",
     "output_type": "stream",
     "text": [
      "Epoch: 28\n"
     ]
    },
    {
     "name": "stderr",
     "output_type": "stream",
     "text": [
      "Train loss: 0.9633, Train RMSE: 0.9633, : 100%|██████████| 287/287 [00:22<00:00, 12.90it/s]\n"
     ]
    },
    {
     "name": "stdout",
     "output_type": "stream",
     "text": [
      "Epoch: 29\n"
     ]
    },
    {
     "name": "stderr",
     "output_type": "stream",
     "text": [
      "Train loss: 0.9742, Train RMSE: 0.9742, : 100%|██████████| 287/287 [00:25<00:00, 11.13it/s]\n"
     ]
    },
    {
     "name": "stdout",
     "output_type": "stream",
     "text": [
      "Epoch: 30\n"
     ]
    },
    {
     "name": "stderr",
     "output_type": "stream",
     "text": [
      "Train loss: 0.9629, Train RMSE: 0.9628, : 100%|██████████| 287/287 [00:21<00:00, 13.42it/s]\n"
     ]
    },
    {
     "name": "stdout",
     "output_type": "stream",
     "text": [
      "Epoch: 31\n"
     ]
    },
    {
     "name": "stderr",
     "output_type": "stream",
     "text": [
      "Train loss: 0.9674, Train RMSE: 0.9674, : 100%|██████████| 287/287 [00:22<00:00, 12.97it/s]\n"
     ]
    },
    {
     "name": "stdout",
     "output_type": "stream",
     "text": [
      "Epoch: 32\n"
     ]
    },
    {
     "name": "stderr",
     "output_type": "stream",
     "text": [
      "Train loss: 0.9441, Train RMSE: 0.9441, : 100%|██████████| 287/287 [00:21<00:00, 13.42it/s]\n"
     ]
    },
    {
     "name": "stdout",
     "output_type": "stream",
     "text": [
      "Epoch: 33\n"
     ]
    },
    {
     "name": "stderr",
     "output_type": "stream",
     "text": [
      "Train loss: 0.9549, Train RMSE: 0.9549, : 100%|██████████| 287/287 [00:20<00:00, 13.94it/s]\n"
     ]
    },
    {
     "name": "stdout",
     "output_type": "stream",
     "text": [
      "Epoch: 34\n"
     ]
    },
    {
     "name": "stderr",
     "output_type": "stream",
     "text": [
      "Train loss: 0.9535, Train RMSE: 0.9535, : 100%|██████████| 287/287 [00:19<00:00, 14.71it/s]\n"
     ]
    },
    {
     "name": "stdout",
     "output_type": "stream",
     "text": [
      "Epoch: 35\n"
     ]
    },
    {
     "name": "stderr",
     "output_type": "stream",
     "text": [
      "Train loss: 0.9578, Train RMSE: 0.9578, : 100%|██████████| 287/287 [00:21<00:00, 13.59it/s]\n"
     ]
    },
    {
     "name": "stdout",
     "output_type": "stream",
     "text": [
      "Epoch: 36\n"
     ]
    },
    {
     "name": "stderr",
     "output_type": "stream",
     "text": [
      "Train loss: 0.9484, Train RMSE: 0.9482, : 100%|██████████| 287/287 [00:22<00:00, 13.04it/s]\n"
     ]
    },
    {
     "name": "stdout",
     "output_type": "stream",
     "text": [
      "Epoch: 37\n"
     ]
    },
    {
     "name": "stderr",
     "output_type": "stream",
     "text": [
      "Train loss: 0.9502, Train RMSE: 0.9501, : 100%|██████████| 287/287 [00:21<00:00, 13.62it/s]\n"
     ]
    },
    {
     "name": "stdout",
     "output_type": "stream",
     "text": [
      "Epoch: 38\n"
     ]
    },
    {
     "name": "stderr",
     "output_type": "stream",
     "text": [
      "Train loss: 0.9511, Train RMSE: 0.9510, : 100%|██████████| 287/287 [00:23<00:00, 12.09it/s]\n"
     ]
    },
    {
     "name": "stdout",
     "output_type": "stream",
     "text": [
      "Epoch: 39\n"
     ]
    },
    {
     "name": "stderr",
     "output_type": "stream",
     "text": [
      "Train loss: 0.9514, Train RMSE: 0.9514, : 100%|██████████| 287/287 [00:20<00:00, 14.03it/s]\n"
     ]
    },
    {
     "name": "stdout",
     "output_type": "stream",
     "text": [
      "Epoch: 40\n"
     ]
    },
    {
     "name": "stderr",
     "output_type": "stream",
     "text": [
      "Train loss: 0.9344, Train RMSE: 0.9344, : 100%|██████████| 287/287 [00:20<00:00, 14.21it/s]\n"
     ]
    },
    {
     "name": "stdout",
     "output_type": "stream",
     "text": [
      "Epoch: 41\n"
     ]
    },
    {
     "name": "stderr",
     "output_type": "stream",
     "text": [
      "Train loss: 0.9740, Train RMSE: 0.9739, : 100%|██████████| 287/287 [00:22<00:00, 13.04it/s]\n"
     ]
    },
    {
     "name": "stdout",
     "output_type": "stream",
     "text": [
      "Epoch: 42\n"
     ]
    },
    {
     "name": "stderr",
     "output_type": "stream",
     "text": [
      "Train loss: 0.9692, Train RMSE: 0.9692, : 100%|██████████| 287/287 [00:20<00:00, 13.98it/s]\n"
     ]
    },
    {
     "name": "stdout",
     "output_type": "stream",
     "text": [
      "Epoch: 43\n"
     ]
    },
    {
     "name": "stderr",
     "output_type": "stream",
     "text": [
      "Train loss: 0.9531, Train RMSE: 0.9529, : 100%|██████████| 287/287 [00:21<00:00, 13.17it/s]\n"
     ]
    },
    {
     "name": "stdout",
     "output_type": "stream",
     "text": [
      "Epoch: 44\n"
     ]
    },
    {
     "name": "stderr",
     "output_type": "stream",
     "text": [
      "Train loss: 0.9326, Train RMSE: 0.9325, : 100%|██████████| 287/287 [00:20<00:00, 14.01it/s]\n"
     ]
    },
    {
     "name": "stdout",
     "output_type": "stream",
     "text": [
      "Epoch: 45\n"
     ]
    },
    {
     "name": "stderr",
     "output_type": "stream",
     "text": [
      "Train loss: 0.9720, Train RMSE: 0.9719, : 100%|██████████| 287/287 [00:21<00:00, 13.61it/s]\n"
     ]
    },
    {
     "name": "stdout",
     "output_type": "stream",
     "text": [
      "Epoch: 46\n"
     ]
    },
    {
     "name": "stderr",
     "output_type": "stream",
     "text": [
      "Train loss: 0.9297, Train RMSE: 0.9296, : 100%|██████████| 287/287 [00:20<00:00, 14.15it/s]\n"
     ]
    },
    {
     "name": "stdout",
     "output_type": "stream",
     "text": [
      "Epoch: 47\n"
     ]
    },
    {
     "name": "stderr",
     "output_type": "stream",
     "text": [
      "Train loss: 0.9388, Train RMSE: 0.9387, : 100%|██████████| 287/287 [00:23<00:00, 12.07it/s]\n"
     ]
    },
    {
     "name": "stdout",
     "output_type": "stream",
     "text": [
      "Epoch: 48\n"
     ]
    },
    {
     "name": "stderr",
     "output_type": "stream",
     "text": [
      "Train loss: 0.9628, Train RMSE: 0.9627, : 100%|██████████| 287/287 [00:21<00:00, 13.15it/s]\n"
     ]
    },
    {
     "name": "stdout",
     "output_type": "stream",
     "text": [
      "Epoch: 49\n"
     ]
    },
    {
     "name": "stderr",
     "output_type": "stream",
     "text": [
      "Train loss: 0.9423, Train RMSE: 0.9422, : 100%|██████████| 287/287 [00:20<00:00, 14.15it/s]\n"
     ]
    }
   ],
   "source": [
    "model.train()\n",
    "for epoch in range(50):\n",
    "    print(\"Epoch:\", epoch)\n",
    "    # for edge, y in test_loader:\n",
    "    #     y_hat = model(edge)\n",
    "    #     test_loss = loss(y_hat, y)\n",
    "    #     test_rmse = rmse(torch.clip(y_hat, 1, 5), y)\n",
    "\n",
    "    pbar = tqdm(train_loader)\n",
    "    for edge, y in pbar:\n",
    "        opt.zero_grad()\n",
    "        y_hat = model(edge)\n",
    "        train_loss = loss(y_hat, y)\n",
    "        train_rmse = rmse(torch.clip(y_hat, 1, 5), y)\n",
    "        train_loss.backward()\n",
    "        opt.step()    \n",
    "        pbar.set_description(\n",
    "            f\"Train loss: {train_loss.item():.4f}, \"\n",
    "            # f\"Test loss: {test_loss.item():.4f}, \"\n",
    "            f\"Train RMSE: {train_rmse.item():.4f}, \"\n",
    "            # f\"Test RMSE: {test_rmse.item():.4f}\"\n",
    "        )"
   ]
  },
  {
   "cell_type": "code",
   "execution_count": 9,
   "metadata": {},
   "outputs": [],
   "source": [
    "sub_df = load_rating_df(\"../data/sampleSubmission.csv\")\n",
    "sub_dataset = compute_gdata(sub_df)"
   ]
  },
  {
   "cell_type": "code",
   "execution_count": 10,
   "metadata": {},
   "outputs": [],
   "source": [
    "sub_y_hat = torch.clip(model(torch.tensor(sub_dataset.edge_index)), 1, 5).detach()"
   ]
  },
  {
   "cell_type": "code",
   "execution_count": 11,
   "metadata": {},
   "outputs": [
    {
     "data": {
      "text/plain": [
       "<AxesSubplot:ylabel='Count'>"
      ]
     },
     "execution_count": 11,
     "metadata": {},
     "output_type": "execute_result"
    },
    {
     "data": {
      "image/png": "[encoded data removed]",
      "text/plain": [
       "<Figure size 432x288 with 1 Axes>"
      ]
     },
     "metadata": {
      "needs_background": "light"
     },
     "output_type": "display_data"
    }
   ],
   "source": [
    "sns.histplot(sub_y_hat)"
   ]
  },
  {
   "cell_type": "code",
   "execution_count": 12,
   "metadata": {},
   "outputs": [],
   "source": [
    "submission = pd.read_csv(\"../data/sampleSubmission.csv\")\n",
    "submission[\"Prediction\"] = sub_y_hat.numpy()\n",
    "submission.to_csv(\"../data/submission_mot.csv\", index=False)"
   ]
  },
  {
   "cell_type": "code",
   "execution_count": null,
   "metadata": {},
   "outputs": [],
   "source": []
  }
 ],
 "metadata": {
  "kernelspec": {
   "display_name": "Python 3.9.12 ('venv': venv)",
   "language": "python",
   "name": "python3"
  },
  "language_info": {
   "codemirror_mode": {
    "name": "ipython",
    "version": 3
   },
   "file_extension": ".py",
   "mimetype": "text/x-python",
   "name": "python",
   "nbconvert_exporter": "python",
   "pygments_lexer": "ipython3",
   "version": "3.9.12"
  },
  "orig_nbformat": 4,
  "vscode": {
   "interpreter": {
    "hash": "01e8f81644e9b24cd130cf3af68c9c9e0ed44c78436a22645a01c80c699fce8c"
   }
  }
 },
 "nbformat": 4,
 "nbformat_minor": 2
}
