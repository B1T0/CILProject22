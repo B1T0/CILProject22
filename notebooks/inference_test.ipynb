{
 "cells": [
  {
   "cell_type": "code",
   "execution_count": 1,
   "metadata": {},
   "outputs": [],
   "source": [
    "import numpy as np \n",
    "import torch \n",
    "import pandas as pd \n",
    "from src.models.CSE.model import Model\n",
    "from src.models.autoencoder import AutoEncoder"
   ]
  },
  {
   "cell_type": "code",
   "execution_count": 2,
   "metadata": {},
   "outputs": [],
   "source": [
    "def get_model(args, model_name: str):\n",
    "    if model_name == 'Contrastive_Pretraining':\n",
    "        return Model(args['embedding_dim'])\n",
    "    elif model_name == 'AutoEncoder':\n",
    "        return AutoEncoder(**args)\n",
    "    else:\n",
    "        raise Exception(\"Choose valid model in config.py\")"
   ]
  },
  {
   "cell_type": "code",
   "execution_count": 29,
   "metadata": {},
   "outputs": [],
   "source": [
    "def inference_for_submission(model, data):\n",
    "    model.eval()\n",
    "    with torch.no_grad():\n",
    "        predictions = model(data)\n",
    "    predictions = predictions.cpu().numpy()\n",
    "    return predictions"
   ]
  },
  {
   "cell_type": "code",
   "execution_count": 22,
   "metadata": {},
   "outputs": [],
   "source": [
    "def read_data(train_path, impute_value=np.nan, number_of_users=1000, number_of_movies=10000):\n",
    "    data_pd = pd.read_csv(train_path) \n",
    "    movies, users = [np.squeeze(arr) for arr in np.split(data_pd.Id.str.extract('r(\\d+)_c(\\d+)').values.astype(int) - 1, 2, axis=-1)]\n",
    "    predictions = data_pd.Prediction.values\n",
    "    # Create data matrix\n",
    "    data = np.full((number_of_users , number_of_movies), impute_value)\n",
    "    for user, movie , pred in zip(users, movies, predictions): \n",
    "        data[user][movie] = pred\n",
    "    return data.T"
   ]
  },
  {
   "cell_type": "code",
   "execution_count": 23,
   "metadata": {},
   "outputs": [],
   "source": [
    "model = get_model({\n",
    "        'lr': 1e-6, \n",
    "        'batch_size': 32,\n",
    "        'epochs': 500,\n",
    "        'hidden_dims': [512, 256, 128],\n",
    "        'file_path': 'data/raw/data_train.csv',\n",
    "    }, 'AutoEncoder').load_from_checkpoint(\"/home/ubuntu/projects/CILProject22/reports/logs/20220715-191150_AutoEncoder/epoch=499-step=125000.ckpt\")\n",
    "data = torch.Tensor(read_data('data/raw/data_train.csv'))"
   ]
  },
  {
   "cell_type": "code",
   "execution_count": 30,
   "metadata": {},
   "outputs": [
    {
     "name": "stdout",
     "output_type": "stream",
     "text": [
      "(10000, 1000)\n"
     ]
    }
   ],
   "source": [
    "data = torch.nan_to_num(data, nan=0)\n",
    "pred = inference_for_submission(model, data)\n",
    "print(pred.shape)\n"
   ]
  },
  {
   "cell_type": "code",
   "execution_count": 31,
   "metadata": {},
   "outputs": [],
   "source": [
    "def clip_data(data, clip_high=5, clip_low=1):\n",
    "    data[data > clip_high] = clip_high\n",
    "    data[data < clip_low] = clip_low\n",
    "    return data\n",
    "\n",
    "def write_submission(data, submission_file_path, save_path):\n",
    "    # clip data first \n",
    "    data = clip_data(data)\n",
    "    # write submission\n",
    "    data_pd = pd.read_csv(submission_file_path) \n",
    "    test_users, test_movies = [np.squeeze(arr) for arr in np.split(data_pd.Id.str.extract('r(\\d+)_c(\\d+)').values.astype(int) - 1, 2, axis=-1)]\n",
    "    with open(save_path, 'w') as f: \n",
    "        f.write('Id,Prediction\\n')\n",
    "        for (user, movie) in zip(test_users, test_movies): \n",
    "            f.write(\"r{}_c{},{}\\n\".format(user + 1, movie + 1, data[user, movie]))"
   ]
  },
  {
   "cell_type": "code",
   "execution_count": 36,
   "metadata": {},
   "outputs": [],
   "source": [
    "write_submission(pred, '/home/ubuntu/projects/CILProject22/data/submission/sampleSubmission.csv', '/home/ubuntu/projects/CILProject22/data/submission/submission_test.csv')"
   ]
  },
  {
   "cell_type": "code",
   "execution_count": 81,
   "metadata": {},
   "outputs": [],
   "source": [
    "import torch \n",
    "import numpy as np \n",
    "import math"
   ]
  },
  {
   "cell_type": "code",
   "execution_count": 340,
   "metadata": {},
   "outputs": [],
   "source": [
    "def compute_bias(predictions, data, correction='l1'):\n",
    "    \"\"\"\n",
    "    Minimize per user over the known (non-nan) entries and obtain a constant bias per user \n",
    "    \"\"\"\n",
    "    predictions = torch.Tensor(predictions)\n",
    "    data = torch.Tensor(data)\n",
    "    # compute non nan mask of data \n",
    "    non_nan_mask = torch.isnan(data) == False\n",
    "    user_bias_mse = torch.zeros(data.shape[0])\n",
    "    user_bias_l1 = torch.zeros(data.shape[0])\n",
    "    for user in range(data.shape[0]):\n",
    "        user_data = data[user]\n",
    "        user_pred = predictions[user]\n",
    "        user_mask = non_nan_mask[user]\n",
    "        user_mse = (user_data[user_mask] - user_pred[user_mask]) ** 2\n",
    "        user_l1 = user_data[user_mask] - user_pred[user_mask]\n",
    "        # compute the biases \n",
    "        user_bias_mse[user] = torch.sign(torch.mean(user_l1)) * math.sqrt(torch.mean(user_mse))\n",
    "        user_bias_l1[user] = torch.mean(user_l1)\n",
    "        #print(user_data, user_pred, user_mask)\n",
    "        #print(\"user mse\", user_mse)\n",
    "        #print(\"user l1\", user_l1)\n",
    "    if correction == 'l1':\n",
    "        return predictions + user_bias_l1.unsqueeze(1)\n",
    "    elif correction == 'mse':\n",
    "        return predictions + user_bias_mse.unsqueeze(1)\n",
    "    else:\n",
    "        raise ValueError(\"Unknown correction method\")"
   ]
  },
  {
   "cell_type": "code",
   "execution_count": 341,
   "metadata": {},
   "outputs": [
    {
     "name": "stdout",
     "output_type": "stream",
     "text": [
      "mse loss where not nan is 4754.5\n"
     ]
    }
   ],
   "source": [
    "preds = torch.Tensor([\n",
    "    [2, 2, 2], \n",
    "    [2, 2, 2]\n",
    "    ])\n",
    "data = torch.Tensor([\n",
    "    [1, np.nan, 99], \n",
    "    [np.nan, 4, 100]\n",
    "    ])\n",
    "\n",
    "# print mse before \n",
    "print(f\"mse loss where not nan is {mse_where_not_nan(preds, data)}\")"
   ]
  },
  {
   "cell_type": "code",
   "execution_count": 348,
   "metadata": {},
   "outputs": [
    {
     "name": "stdout",
     "output_type": "stream",
     "text": [
      "mse loss where not nan is 2352.5\n"
     ]
    }
   ],
   "source": [
    "corrected= compute_bias(preds, data)\n",
    "print(f\"mse loss where not nan is {mse_where_not_nan(corrected, data)}\")"
   ]
  },
  {
   "cell_type": "code",
   "execution_count": null,
   "metadata": {},
   "outputs": [],
   "source": [
    "def mse_where_not_nan(pred, target):\n",
    "    \"\"\"\n",
    "    Compute mse where target is not nan \n",
    "    \"\"\"\n",
    "    mask = torch.isnan(target) == False\n",
    "    return torch.nn.MSELoss()(pred[mask], target[mask])"
   ]
  },
  {
   "cell_type": "code",
   "execution_count": null,
   "metadata": {},
   "outputs": [],
   "source": []
  },
  {
   "cell_type": "code",
   "execution_count": null,
   "metadata": {},
   "outputs": [],
   "source": []
  }
 ],
 "metadata": {
  "kernelspec": {
   "display_name": "Python 3.9.12 ('cil')",
   "language": "python",
   "name": "python3"
  },
  "language_info": {
   "codemirror_mode": {
    "name": "ipython",
    "version": 3
   },
   "file_extension": ".py",
   "mimetype": "text/x-python",
   "name": "python",
   "nbconvert_exporter": "python",
   "pygments_lexer": "ipython3",
   "version": "3.9.12"
  },
  "orig_nbformat": 4,
  "vscode": {
   "interpreter": {
    "hash": "a80f79fed1d9603b94d0c3a24c00b7d1ffc761220aaf7d5df506f45cba7fffa6"
   }
  }
 },
 "nbformat": 4,
 "nbformat_minor": 2
}
