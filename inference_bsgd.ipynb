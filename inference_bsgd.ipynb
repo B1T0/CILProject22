{
 "cells": [
  {
   "cell_type": "code",
   "execution_count": 1,
   "metadata": {},
   "outputs": [],
   "source": [
    "import numpy as np \n",
    "from bias_sgd import BiasSGD, read_data, RMSE, write_predictions"
   ]
  },
  {
   "cell_type": "code",
   "execution_count": 6,
   "metadata": {},
   "outputs": [],
   "source": [
    "path = '/home/ubuntu/projects/CILProject22/reports/logs/20220728-161204_BSGD_lr0.01_decay2_epochs200_decay_every50_hidden_size128_BEST'"
   ]
  },
  {
   "cell_type": "code",
   "execution_count": 10,
   "metadata": {},
   "outputs": [
    {
     "name": "stdout",
     "output_type": "stream",
     "text": [
      "Model loaded\n",
      "Validation RMSE on split 0 is 0.9824531687717363\n",
      "len preds 235391 vs len test 235391\n",
      "Model loaded\n",
      "Validation RMSE on split 1 is 0.9829022065571966\n",
      "len preds 235391 vs len test 235391\n",
      "Model loaded\n",
      "Validation RMSE on split 2 is 0.9856707781685091\n",
      "len preds 235390 vs len test 235390\n",
      "Model loaded\n",
      "Validation RMSE on split 3 is 0.9828065572588554\n",
      "len preds 235390 vs len test 235390\n",
      "Model loaded\n",
      "Validation RMSE on split 4 is 0.982385222232253\n",
      "len preds 235390 vs len test 235390\n"
     ]
    }
   ],
   "source": [
    "for i in range(5):\n",
    "    folder = valid_users, valid_movies, valid_ratings = read_data('./data/raw' + f\"/5fold\" + '/test_split_' + str(i) + '.csv')\n",
    "    model = BiasSGD(\n",
    "            number_of_users=10000, \n",
    "            number_of_movies=1000,\n",
    "            log_dir=path,\n",
    "            hidden_size=128\n",
    "            )\n",
    "    model.load(path + f\"/split_{i}\")\n",
    "    preds_bSGD_val = model.predict(valid_users, valid_movies)\n",
    "    print(f'Validation RMSE on split {i} is', RMSE(valid_ratings, preds_bSGD_val))\n",
    "    save_path = path + f\"/split_{i}/val_submission.csv\"\n",
    "    write_predictions(preds_bSGD_val, './data/raw' + f\"/5fold\" + '/test_split_' + str(i) + '.csv', save_path)"
   ]
  },
  {
   "cell_type": "code",
   "execution_count": null,
   "metadata": {},
   "outputs": [],
   "source": []
  }
 ],
 "metadata": {
  "kernelspec": {
   "display_name": "Python 3.9.11 ('rf39')",
   "language": "python",
   "name": "python3"
  },
  "language_info": {
   "codemirror_mode": {
    "name": "ipython",
    "version": 3
   },
   "file_extension": ".py",
   "mimetype": "text/x-python",
   "name": "python",
   "nbconvert_exporter": "python",
   "pygments_lexer": "ipython3",
   "version": "3.9.11"
  },
  "orig_nbformat": 4,
  "vscode": {
   "interpreter": {
    "hash": "8f25b66d63a8b611ffebb7d3fe7e2d7d379acd3408485d72362aa7d687189f63"
   }
  }
 },
 "nbformat": 4,
 "nbformat_minor": 2
}
