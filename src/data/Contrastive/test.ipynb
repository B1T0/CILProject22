{
 "cells": [
  {
   "cell_type": "code",
   "execution_count": 1,
   "metadata": {
    "collapsed": true
   },
   "outputs": [],
   "source": [
    "from graph_datamodule import Triplet_Dataset\n",
    "FILE_PATH = '/home/jj/CILProject22/data/raw/cross_validation/test_split_0.csv'"
   ]
  },
  {
   "cell_type": "code",
   "execution_count": 2,
   "outputs": [],
   "source": [
    "d = Triplet_Dataset(file_path=FILE_PATH, n_users=1000, n_items=10000, k=2)"
   ],
   "metadata": {
    "collapsed": false,
    "pycharm": {
     "name": "#%%\n"
    }
   }
  },
  {
   "cell_type": "code",
   "execution_count": 3,
   "outputs": [
    {
     "data": {
      "text/plain": "(tensor([   0, 1066]),\n tensor([2207]),\n tensor([667]),\n tensor([806, 962, 767, 150, 675]),\n tensor([1507, 5120, 1906, 4387, 7620]),\n tensor([[ 401, 7448, 6760,  523, 3495],\n         [5992, 3392, 7148, 2904, 7644]]))"
     },
     "execution_count": 3,
     "metadata": {},
     "output_type": "execute_result"
    }
   ],
   "source": [
    "d.__getitem__(0)"
   ],
   "metadata": {
    "collapsed": false,
    "pycharm": {
     "name": "#%%\n"
    }
   }
  },
  {
   "cell_type": "code",
   "execution_count": 7,
   "outputs": [],
   "source": [
    "import torch\n",
    "from torch.utils.data import DataLoader"
   ],
   "metadata": {
    "collapsed": false,
    "pycharm": {
     "name": "#%%\n"
    }
   }
  },
  {
   "cell_type": "code",
   "execution_count": 6,
   "outputs": [
    {
     "name": "stdout",
     "output_type": "stream",
     "text": [
      "[tensor([[   0, 1089],\n",
      "        [   0, 1066]]), tensor([[ 7917],\n",
      "        [10841]]), tensor([[340],\n",
      "        [ 23]]), tensor([[757, 550, 799,  19,  84],\n",
      "        [178,  66, 266, 706, 532]]), tensor([[ 2659,  7537, 10027,  6022, 10974],\n",
      "        [10483,  7256,  7584,  7532, 10142]]), tensor([[[  782,  1181,  8305,  5156,  7223],\n",
      "         [ 5837,  5144,  7719, 10160,   201]],\n",
      "\n",
      "        [[ 2007,  2837,  2083,  5319,  1540],\n",
      "         [ 7409,  7293,  8712,  7059,  4531]]])]\n"
     ]
    }
   ],
   "source": [
    "dataloader = DataLoader(d, batch_size=32, shuffle=True)\n",
    "for t in dataloader:\n",
    "    print(t)\n",
    "    break"
   ],
   "metadata": {
    "collapsed": false,
    "pycharm": {
     "name": "#%%\n"
    }
   }
  },
  {
   "cell_type": "code",
   "execution_count": 8,
   "outputs": [],
   "source": [
    "def collate_tuples(batch):\n",
    "    #print(len(batch))\n",
    "    #print(batch)\n",
    "    batch = list(zip(*batch))\n",
    "    #print(batch)\n",
    "    for i, _ in enumerate(batch):\n",
    "        batch[i] = torch.stack(batch[i])\n",
    "    # print(batch[0].size())\n",
    "    return tuple(batch)"
   ],
   "metadata": {
    "collapsed": false,
    "pycharm": {
     "name": "#%%\n"
    }
   }
  },
  {
   "cell_type": "code",
   "execution_count": 12,
   "outputs": [
    {
     "name": "stdout",
     "output_type": "stream",
     "text": [
      "4\n",
      "[(tensor([   0, 1066]), tensor([2001]), tensor([370]), tensor([469, 228, 822, 415, 908]), tensor([4889, 4311, 5203, 1626, 2790]), tensor([[  910,  2313,  7956,  5311,  3012],\n",
      "        [ 6024,  7188,  2760,  8212, 10297]])), (tensor([   0, 1089]), tensor([4266]), tensor([937]), tensor([682, 981, 603, 267, 506]), tensor([2544, 3646, 1366, 8333, 3723]), tensor([[ 6862, 10605,  4959,  2341,  3100],\n",
      "        [ 1824,  1602,  7567,  8860,  8569]])), (tensor([   0, 1113]), tensor([1114]), tensor([261]), tensor([956, 992, 784, 349, 316]), tensor([1429, 2090, 6395, 3802, 7557]), tensor([[ 8035,  8225,  3467,  1728,  6295],\n",
      "        [10727, 10030,  3527,  6763,  9983]])), (tensor([   0, 1181]), tensor([8951]), tensor([546]), tensor([ 94, 935, 601, 552, 208]), tensor([1885, 1798, 4920, 3646, 6783]), tensor([[ 7015,  9692,  2780,  4943,  9271],\n",
      "        [ 5291,  5044,  9978,  7569, 10485]]))]\n",
      "[(tensor([   0, 1066]), tensor([   0, 1089]), tensor([   0, 1113]), tensor([   0, 1181])), (tensor([2001]), tensor([4266]), tensor([1114]), tensor([8951])), (tensor([370]), tensor([937]), tensor([261]), tensor([546])), (tensor([469, 228, 822, 415, 908]), tensor([682, 981, 603, 267, 506]), tensor([956, 992, 784, 349, 316]), tensor([ 94, 935, 601, 552, 208])), (tensor([4889, 4311, 5203, 1626, 2790]), tensor([2544, 3646, 1366, 8333, 3723]), tensor([1429, 2090, 6395, 3802, 7557]), tensor([1885, 1798, 4920, 3646, 6783])), (tensor([[  910,  2313,  7956,  5311,  3012],\n",
      "        [ 6024,  7188,  2760,  8212, 10297]]), tensor([[ 6862, 10605,  4959,  2341,  3100],\n",
      "        [ 1824,  1602,  7567,  8860,  8569]]), tensor([[ 8035,  8225,  3467,  1728,  6295],\n",
      "        [10727, 10030,  3527,  6763,  9983]]), tensor([[ 7015,  9692,  2780,  4943,  9271],\n",
      "        [ 5291,  5044,  9978,  7569, 10485]]))]\n",
      "(tensor([[   0, 1066],\n",
      "        [   0, 1089],\n",
      "        [   0, 1113],\n",
      "        [   0, 1181]]), tensor([[2001],\n",
      "        [4266],\n",
      "        [1114],\n",
      "        [8951]]), tensor([[370],\n",
      "        [937],\n",
      "        [261],\n",
      "        [546]]), tensor([[469, 228, 822, 415, 908],\n",
      "        [682, 981, 603, 267, 506],\n",
      "        [956, 992, 784, 349, 316],\n",
      "        [ 94, 935, 601, 552, 208]]), tensor([[4889, 4311, 5203, 1626, 2790],\n",
      "        [2544, 3646, 1366, 8333, 3723],\n",
      "        [1429, 2090, 6395, 3802, 7557],\n",
      "        [1885, 1798, 4920, 3646, 6783]]), tensor([[[  910,  2313,  7956,  5311,  3012],\n",
      "         [ 6024,  7188,  2760,  8212, 10297]],\n",
      "\n",
      "        [[ 6862, 10605,  4959,  2341,  3100],\n",
      "         [ 1824,  1602,  7567,  8860,  8569]],\n",
      "\n",
      "        [[ 8035,  8225,  3467,  1728,  6295],\n",
      "         [10727, 10030,  3527,  6763,  9983]],\n",
      "\n",
      "        [[ 7015,  9692,  2780,  4943,  9271],\n",
      "         [ 5291,  5044,  9978,  7569, 10485]]]))\n",
      "torch.Size([4, 5])\n"
     ]
    }
   ],
   "source": [
    "dataloader = DataLoader(d, batch_size=4, collate_fn=collate_tuples)\n",
    "for t in dataloader:\n",
    "    print(t)\n",
    "    print(t[4].size())\n",
    "    break"
   ],
   "metadata": {
    "collapsed": false,
    "pycharm": {
     "name": "#%%\n"
    }
   }
  },
  {
   "cell_type": "code",
   "execution_count": 5,
   "outputs": [
    {
     "data": {
      "text/plain": "470782"
     },
     "execution_count": 5,
     "metadata": {},
     "output_type": "execute_result"
    }
   ],
   "source": [
    "d.__len__()"
   ],
   "metadata": {
    "collapsed": false,
    "pycharm": {
     "name": "#%%\n"
    }
   }
  },
  {
   "cell_type": "code",
   "execution_count": 6,
   "outputs": [
    {
     "data": {
      "text/plain": "470782"
     },
     "execution_count": 6,
     "metadata": {},
     "output_type": "execute_result"
    }
   ],
   "source": [
    "d.len"
   ],
   "metadata": {
    "collapsed": false,
    "pycharm": {
     "name": "#%%\n"
    }
   }
  },
  {
   "cell_type": "code",
   "execution_count": null,
   "outputs": [],
   "source": [],
   "metadata": {
    "collapsed": false,
    "pycharm": {
     "name": "#%%\n"
    }
   }
  }
 ],
 "metadata": {
  "kernelspec": {
   "display_name": "Python 3",
   "language": "python",
   "name": "python3"
  },
  "language_info": {
   "codemirror_mode": {
    "name": "ipython",
    "version": 2
   },
   "file_extension": ".py",
   "mimetype": "text/x-python",
   "name": "python",
   "nbconvert_exporter": "python",
   "pygments_lexer": "ipython2",
   "version": "2.7.6"
  }
 },
 "nbformat": 4,
 "nbformat_minor": 0
}